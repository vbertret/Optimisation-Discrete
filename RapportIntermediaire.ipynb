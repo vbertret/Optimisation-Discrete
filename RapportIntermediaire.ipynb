{
 "cells": [
  {
   "cell_type": "raw",
   "metadata": {},
   "source": []
  },
  {
   "cell_type": "raw",
   "metadata": {},
   "source": [
    "Tout d'abord, nous venons contruire une classe graphe qu'on utilisera par la suite :"
   ]
  },
  {
   "cell_type": "code",
   "execution_count": null,
   "metadata": {},
   "outputs": [],
   "source": [
    "class Graphe():\n",
    "    \n",
    "    def __init__(self):\n",
    "        self.nbS = 0 #nombre de Sommet du Graphe\n",
    "        self.nbA = 0 #nombre d'Arretes du Graphe\n",
    "        self.so= [] #liste des différents sommets\n",
    "        self.ar= {} #dictionnaire contenant les arretes\n",
    "  \n",
    "    #Methode pour rajouter un sommet au graphe      \n",
    "    def ajouterSommet(self,nom,impress=1):\n",
    "        if(nom not in self.so):   #On teste si le nom du sommet n'existe pas deja\n",
    "            self.nbS=self.nbS+1;\n",
    "            self.so.append(nom)\n",
    "            self.ar[nom]={}\n",
    "        else:\n",
    "            if(impress==1):\n",
    "                print(\"Warning : Il existe deja un sommet avec ce nom !\")\n",
    "    \n",
    "    #Methode pour rajouter une arrête au graphe\n",
    "    def ajouterArrete(self,depart,arrivee,val):\n",
    "         #on ajoute les 2 sommets si il n'existent pas\n",
    "        self.ajouterSommet(depart,0)  \n",
    "        self.ajouterSommet(arrivee,0)\n",
    "        #si il n'y a pas d'arc reliant deja les 2 sommets,\n",
    "        # on vient initialiser une liste qui va contenir la valeur des arcs\n",
    "        if(arrivee not in self.ar[depart].keys()): \n",
    "            self.ar[depart][arrivee]=[]\n",
    "        if(depart not in self.ar[arrivee].keys()):\n",
    "            self.ar[arrivee][depart]=[]\n",
    "        #On rajoute l'arc et on augmente le nombre d'arc de 1\n",
    "        self.ar[depart][arrivee].append(val)\n",
    "        self.ar[arrivee][depart].append(val)\n",
    "        self.nbA+=1\n",
    "\n",
    "    #Creation de la liste des arrêtes trié par ordre croissant    \n",
    "    def minArrete(self):\n",
    "        minimum=[]\n",
    "        #Remplissage de la liste avec toutes les arrêtes\n",
    "        for key1 in self.ar.keys():\n",
    "            for key2 in self.ar[key1].keys():\n",
    "                for val in self.ar[key1][key2]:\n",
    "                    minimum.append([key1,key2,val])\n",
    "        #On trie la liste par ordre croissant avec la valeur de l'arc\n",
    "        minimum = sorted(minimum, key= lambda x : x[2])\n",
    "        return(minimum)\n",
    "        \n",
    "    #Supression d'une arrête\n",
    "    def enleverArrete(self,depart,arrivee,val):\n",
    "        #Test pour savoir si l'arc existe\n",
    "        if(not(depart in self.ar.keys() and arrivee in self.ar[depart].keys() and val in self.ar[depart][arrivee])):\n",
    "            print(\"Cette arrête n'existe pas !\")\n",
    "            return(False)\n",
    "        #On retire l'arc\n",
    "        self.ar[depart][arrivee].remove(val)\n",
    "        self.ar[arrivee][depart].remove(val)\n",
    "        self.nbA-=1\n",
    "        #Si il n'y a plus d'arc entre ces 2 sommets, on vient supprimer la liste\n",
    "        if(len(self.ar[depart][arrivee])==0):\n",
    "            del(self.ar[depart][arrivee]) \n",
    "        if(len(self.ar[arrivee][depart])==0):\n",
    "            del(self.ar[arrivee][depart])\n",
    "        return(True)"
   ]
  },
  {
   "cell_type": "code",
   "execution_count": null,
   "metadata": {},
   "outputs": [],
   "source": []
  },
  {
   "cell_type": "code",
   "execution_count": null,
   "metadata": {},
   "outputs": [],
   "source": []
  }
 ],
 "metadata": {
  "kernelspec": {
   "display_name": "Python 3",
   "language": "python",
   "name": "python3"
  },
  "language_info": {
   "codemirror_mode": {
    "name": "ipython",
    "version": 3
   },
   "file_extension": ".py",
   "mimetype": "text/x-python",
   "name": "python",
   "nbconvert_exporter": "python",
   "pygments_lexer": "ipython3",
   "version": "3.7.4"
  }
 },
 "nbformat": 4,
 "nbformat_minor": 2
}
