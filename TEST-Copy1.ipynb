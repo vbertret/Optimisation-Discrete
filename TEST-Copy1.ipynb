{
 "cells": [
  {
   "cell_type": "markdown",
   "metadata": {},
   "source": [
    "# Arbre couvrant de poids minimum"
   ]
  },
  {
   "cell_type": "markdown",
   "metadata": {},
   "source": [
    "## Introduction\n",
    "\n",
    "L'objectif de ce projet était d'implémenter des algorithmes de graphe sous Python permettant de résoudre le problème de l'arbre couvrant de poids minimum. Pour fixer les idées, on considère un graphe non-orienté connexe $G=[S,A]$ dont chaque arête possède un poids $p_{a}$. Le problème de l'arbre couvrant de poids minimum consiste à chercher un sous-ensemble d'arêtes $A'\\subset A$ tel que le sous-graphe de $G$ restreint à $A'$ est un arbre et dont la somme des poids des arêtes est minimum. Nous avons étudié en cours 2 algorithmes permettant de résoudre ce problème : les algorithmes de Kruskal et de Prim. Dans un premier temps, nous avons codé puis testé une première version (non optimisée) de ces 2 algorithmes. Dans un second temps, nous avons modélisé ce problème comme un programme linéaire en nombre entier en utilisant la librairie PuLP."
   ]
  },
  {
   "cell_type": "markdown",
   "metadata": {},
   "source": [
    "## Algorithmes de Kruskal et de Prim"
   ]
  },
  {
   "cell_type": "markdown",
   "metadata": {},
   "source": [
    "Tout d'abord, nous venons importer les modules dont nous avons besoin pour ce projet."
   ]
  },
  {
   "cell_type": "code",
   "execution_count": 1,
   "metadata": {},
   "outputs": [],
   "source": [
    "import random\n",
    "import time\n",
    "from heapq import *\n",
    "import matplotlib.pyplot as plt\n",
    "import math"
   ]
  },
  {
   "cell_type": "markdown",
   "metadata": {},
   "source": [
    "Nous avons ensuite commencé la résolution du problème par la contruction d'une Classe Graphe, que les différents algorithmes viendront utiliser. Nous avons décidé pour chaque graphe d'avoir des variables donnant le nombre de sommets et d'arêtes. De plus, nous avons mis tous les sommets dans une liste. Enfin pour les arêtes, nous avons fonctionné avec un double dictionnaire dont le premier index représente le sommet de départ et le 2ème index le sommet d'arrivée. \n",
    "Voici la déclaration de la classe :"
   ]
  },
  {
   "cell_type": "code",
   "execution_count": 2,
   "metadata": {},
   "outputs": [],
   "source": [
    "#Classe représentant un graphe\n",
    "class Graphe():\n",
    "    \n",
    "    def __init__(self):\n",
    "        self.nbS = 0 #nombre de Sommets du Graphe\n",
    "        self.nbA = 0 #nombre d'Arêtes du Graphe\n",
    "        self.so= [] #liste des différents sommets\n",
    "        self.ar= {} #dictionnaire contenant les arêtes\n",
    "  \n",
    "    #Méthode pour rajouter un sommet au graphe \n",
    "        #nom : nom du sommet\n",
    "        #impress = 1 si on affiche un message si le sommet existe\n",
    "        #deja , 0 sinon\n",
    "    def ajouterSommet(self,nom,impress=1):\n",
    "        if(nom not in self.so):   #On teste si le nom du sommet n'existe pas déjà\n",
    "            self.nbS=self.nbS+1;\n",
    "            self.so.append(nom)\n",
    "            self.ar[nom]={}\n",
    "        else:\n",
    "            if(impress==1):\n",
    "                print(\"Warning : Il existe déjà un sommet avec ce nom !\")\n",
    "    \n",
    "    #Méthode pour rajouter une arête au graphe\n",
    "        #depart : 1 extremité de l'arête\n",
    "        #arrivee : l'autre extrémité de l'arête\n",
    "        #val : valeur de l'arête\n",
    "    def ajouterArete(self,depart,arrivee,val):\n",
    "        #on ajoute les 2 sommets s'ils n'existent pas\n",
    "        self.ajouterSommet(depart,0)  \n",
    "        self.ajouterSommet(arrivee,0) \n",
    "        #si l'arete n'existe pas déjà, on augmente le nombre d'arete dans le graphe\n",
    "        if(arrivee not in self.ar[depart]):\n",
    "            self.nbA+=1\n",
    "        #on garde en mémoire enfin la valeur de l'arete\n",
    "        self.ar[depart][arrivee]=val\n",
    "        self.ar[arrivee][depart]=val\n",
    "        \n",
    "        \n",
    "    #Création de la liste des arêtes triées par ordre croissant    \n",
    "    def minArete(self):\n",
    "        minimum=[]\n",
    "        #Remplissage de la liste avec toutes les arêtes\n",
    "        for key1 in self.ar.keys():\n",
    "            for key2 in self.ar[key1].keys():\n",
    "                val=self.ar[key1][key2]\n",
    "                #On vient ne garder qu'une copie de chaque arête (suppression des doublons)\n",
    "                if(int(key1)<int(key2)):    \n",
    "                    minimum.append([key1,key2,val])\n",
    "        #On trie la liste par ordre croissant des valeurs des arêtes\n",
    "        minimum = sorted(minimum, key= lambda x : x[2])\n",
    "        return(minimum)\n",
    "        \n",
    "    #Supression d'une arête\n",
    "        #depart : 1 extremité de l'arête\n",
    "        #arrivee : l'autre extrémité de l'arête\n",
    "        #val : valeur de l'arête\n",
    "    def enleverArete(self,depart,arrivee):\n",
    "        #Test pour savoir si l'arête existe\n",
    "        if(not(depart in self.ar.keys() and arrivee in self.ar[depart].keys())):\n",
    "            print(\"Cette arête n'existe pas !\")\n",
    "            return(False)\n",
    "        #On retire l'arête\n",
    "        self.nbA-=1\n",
    "        #on vient les supprimer respectivement dans leur liste des voisins\n",
    "        del(self.ar[depart][arrivee]) \n",
    "        del(self.ar[arrivee][depart])\n",
    "        return(True)"
   ]
  },
  {
   "cell_type": "markdown",
   "metadata": {},
   "source": [
    "Ensuite, pour résoudre le problème de l'arbre couvrant de poid minimum à partir d'un graphe non orienté connexe, nous avons codé les algorithmes de Prim et de Kruskal.\n",
    "Nous avons commencé par l'implémentation de l'algorithme de Prim que l'on peut voir ci-dessous :"
   ]
  },
  {
   "cell_type": "code",
   "execution_count": 3,
   "metadata": {},
   "outputs": [],
   "source": [
    "#Première version de l'Algorithme de Prim\n",
    "    #G : un graphe simple non orienté connexe\n",
    "def Prim(G):\n",
    "    #Création de l'Arbre Couvrant de poids minimal\n",
    "    Gfinal=Graphe()\n",
    "    #Choix d'un sommet aléatoire que l'on rajoute à l'arbre\n",
    "    choice=random.choice(G.so)\n",
    "    Gfinal.ajouterSommet(choice)\n",
    "    #Création de la liste des arêtes triées dans l'ordre croissant\n",
    "    arTrie=G.minArete()\n",
    "    for i in range(1,G.nbS):\n",
    "        find=False   #Variable indiquant si l'arête respectant les conditions a été trouvée\n",
    "        j=0\n",
    "        while j < len(arTrie) and find == False :\n",
    "            if( (( arTrie[j][0] in Gfinal.so) and  not ( arTrie[j][1] in Gfinal.so )) or (( arTrie[j][1] in Gfinal.so) and  not ( arTrie[j][0] in Gfinal.so )) ):\n",
    "                #On ajoute l'arête à l'arbre\n",
    "                Gfinal.ajouterArete(arTrie[j][0],arTrie[j][1],arTrie[j][2]) \n",
    "                #On supprime l'arête de la liste\n",
    "                del(arTrie[j])  \n",
    "                find=True\n",
    "            #On augmente le nombre d'arête trouvée\n",
    "            j+=1\n",
    "    #On retourne l'arbre couvrant de poids min\n",
    "    return(Gfinal)"
   ]
  },
  {
   "cell_type": "markdown",
   "metadata": {},
   "source": [
    "Afin de tester notre fonction pour l'algorithme de Prim, nous allons l'utiliser sur l'exemple du cours que l'on peut voir ci-dessous (les poids des arêtes sont en rouge) :"
   ]
  },
  {
   "cell_type": "markdown",
   "metadata": {},
   "source": [
    "![title](image1.png)"
   ]
  },
  {
   "cell_type": "code",
   "execution_count": 4,
   "metadata": {},
   "outputs": [
    {
     "name": "stdout",
     "output_type": "stream",
     "text": [
      "[['3', '4', 2], ['1', '2', 2], ['2', '3', 3], ['0', '4', 4]]\n"
     ]
    }
   ],
   "source": [
    "G1=Graphe()\n",
    "G1.ajouterArete(\"0\",\"1\",5)\n",
    "G1.ajouterArete(\"0\",\"4\",4)\n",
    "G1.ajouterArete(\"4\",\"1\",6)\n",
    "G1.ajouterArete(\"4\",\"3\",2)\n",
    "G1.ajouterArete(\"1\",\"3\",4)\n",
    "G1.ajouterArete(\"1\",\"2\",2)\n",
    "G1.ajouterArete(\"3\",\"2\",3)\n",
    "arbre=Prim(G1)\n",
    "ls=arbre.minArete()\n",
    "print(ls)"
   ]
  },
  {
   "cell_type": "markdown",
   "metadata": {},
   "source": [
    "On remarque que l'on obtient bien l'arbre couvrant de poids minimum que nous avions trouvé en appliquant manuellement l'algorithme. L'algorithme implémenté semble bien fonctionner. Nous le retesterons une 2ème fois plus tard en comparant les résultats avec celui de Kruskal."
   ]
  },
  {
   "cell_type": "markdown",
   "metadata": {},
   "source": [
    "![title](image2.png)"
   ]
  },
  {
   "cell_type": "markdown",
   "metadata": {},
   "source": [
    "Le 2ème algorithme qui permettait de résoudre le problème de l'arbre couvrant de poids minimum était l'algorithme de Kruskal.\n",
    "Avant d'implémenter cet algorithme, nous devons créer un algorithme qui détecte s'il y a un cycle ou non dans le graphe non orienté considéré :"
   ]
  },
  {
   "cell_type": "code",
   "execution_count": 5,
   "metadata": {},
   "outputs": [],
   "source": [
    "#Algorithme qui détecte la présence d'un cycle dans un graphe non-orienté quelconque\n",
    "    #G : Graphe non orienté\n",
    "def detectionCycle(G):\n",
    "    #Couleur des sommets (w : pas visité, g : visité )\n",
    "    #On initialise la couleur de tous les sommets à blanc\n",
    "    color={s : \"w\" for s in G.so}\n",
    "    #On crée un dictionnaire qui enregistre le sommet par laquel chaque sommet a été colorié\n",
    "    maColorie={s : \"\" for s in G.so}\n",
    "    #Tant qu'il y a encore un sommet blanc, on continue le processus\n",
    "    while(any([c==\"w\" for c in color.values()])):\n",
    "        #On choisit un sommet aléatoire non traité\n",
    "        rand=random.choice([sommet for sommet in G.so if color[sommet]==\"w\"]) \n",
    "        #on le rajoute dans la pile\n",
    "        pile=[rand] \n",
    "        #Tant que la pile n'est pas vide , ...\n",
    "        while(len(pile)>=1):\n",
    "            #on traite le premier sommet de la pile\n",
    "            s=pile.pop()  \n",
    "            color[s]=\"g\"\n",
    "            if(s in G.ar.keys()):\n",
    "                for j in G.ar[s].keys():\n",
    "                    #si on rencontre un sommet gris qui n'est pas le sommet qui l'a  \n",
    "                    #rajoute dans la pile , alors il y a un cycle\n",
    "                    if(color[j]==\"g\" and not (j==maColorie[s])):   \n",
    "                        return(True)\n",
    "                    #si le sommet n'a pas encore été visité on l'ajoute à la pile\n",
    "                    if(color[j]==\"w\"): \n",
    "                        maColorie[j]=s\n",
    "                        pile.append(j)\n",
    "    return(False)"
   ]
  },
  {
   "cell_type": "markdown",
   "metadata": {},
   "source": [
    "Puis on implémente l'algorithme de Kruskal :"
   ]
  },
  {
   "cell_type": "code",
   "execution_count": 6,
   "metadata": {},
   "outputs": [],
   "source": [
    "#Première version de l'Algorithme de Kruskal\n",
    "    #G : un graphe simple non orienté connexe\n",
    "def Kruskal(G):\n",
    "    #Création de la liste des arêtes triées\n",
    "    aretetrie=G.minArete()\n",
    "    #On crée l'arbre qu'on va retourner à la fin\n",
    "    Garbre=Graphe()\n",
    "    #On y ajoute tous les sommets\n",
    "    for sommet in G.so:\n",
    "        Garbre.ajouterSommet(sommet)\n",
    "    #Tant que l'arbre a moins de n-1 arêtes, on ajoute des arêtes\n",
    "    while(Garbre.nbA<Garbre.nbS-1):\n",
    "        #On prend la première arête de la liste\n",
    "        arete=aretetrie[0]\n",
    "        #Si elle ne crée pas de cycle, on l'ajoute, sinon on la supprime\n",
    "        Garbre.ajouterArete(arete[0],arete[1],arete[2])\n",
    "        if(detectionCycle(Garbre)):\n",
    "            Garbre.enleverArete(arete[0],arete[1])\n",
    "        del(aretetrie[0])\n",
    "    #On retourne l'arbre couvrant de poids minimum\n",
    "    return(Garbre)"
   ]
  },
  {
   "cell_type": "markdown",
   "metadata": {},
   "source": [
    "Comme précédemment, on teste l'algorithme sur l'exemple du cours :"
   ]
  },
  {
   "cell_type": "code",
   "execution_count": 7,
   "metadata": {},
   "outputs": [
    {
     "name": "stdout",
     "output_type": "stream",
     "text": [
      "[['1', '2', 2], ['3', '4', 2], ['2', '3', 3], ['0', '4', 4]]\n"
     ]
    }
   ],
   "source": [
    "G1=Graphe()\n",
    "G1.ajouterArete(\"0\",\"1\",5)\n",
    "G1.ajouterArete(\"0\",\"4\",4)\n",
    "G1.ajouterArete(\"4\",\"1\",6)\n",
    "G1.ajouterArete(\"4\",\"3\",2)\n",
    "G1.ajouterArete(\"1\",\"3\",4)\n",
    "G1.ajouterArete(\"1\",\"2\",2)\n",
    "G1.ajouterArete(\"3\",\"2\",3)\n",
    "arbre=Kruskal(G1)\n",
    "ls=arbre.minArete()\n",
    "print(ls)"
   ]
  },
  {
   "cell_type": "markdown",
   "metadata": {},
   "source": [
    "On remarque que l'on obtient le même resultat. Nous allons maintenant tester les 2 algorithmes sur un exemple que nous allons créer aléatoirement, et nous allons mesurer les temps d'exécution de ces derniers. Pour cela nous créons tout d'abord une classe qui va générer un graphe aléatoire avec des valeurs d'arc aléatoires."
   ]
  },
  {
   "cell_type": "code",
   "execution_count": 8,
   "metadata": {},
   "outputs": [],
   "source": [
    "#Méthode pour générer un graphe connexe simple non orienté\n",
    "    #nbSom : nombre de Sommet\n",
    "    #minVal : valeur maximum d'une arête \n",
    "    #maxVal : valeur maximale d'une arête\n",
    "def genGraphe(nbSom=10,minVal=0,maxVal=10):\n",
    "    #On crée l graphe initial\n",
    "    graphe=Graphe()\n",
    "    #On ajoute des arêtes entre tous les sommets\n",
    "    for i in range(1,nbSom+1):\n",
    "        for j in range(i+1,nbSom+1):\n",
    "            graphe.ajouterArete(str(i),str(j), random.randint(minVal,maxVal))\n",
    "    #On retourne le graphe final\n",
    "    return(graphe)"
   ]
  },
  {
   "cell_type": "code",
   "execution_count": 9,
   "metadata": {},
   "outputs": [],
   "source": [
    "#Méthode pour générer un graphe connexe simple non orienté\n",
    "    #nbSom : nombre de Sommet\n",
    "    #minVal : valeur maximum d'une arête \n",
    "    #maxVal : valeur maximale d'une arête\n",
    "def genGraphe2(nbS=10,nbA=100,minVal=1,maxVal=1000):\n",
    "    #On crée le graphe initial\n",
    "    graphe=Graphe()\n",
    "    #On répertorie toutes les possibilités d'arêtes possibles\n",
    "    possibilite = [ [i,j]   for i in range(1,nbS+1) for j in range(i+2,nbS+1)]\n",
    "    #On crée un cycle trivial dans le graphe afin qu'il soit connexe\n",
    "    for i in range(1,nbS+1):\n",
    "        graphe.ajouterArete(str(i),str((i % nbS) + 1),random.randint(minVal,maxVal))\n",
    "    #On complete le graphe par des arêtes choisies au hasard parmi celle possible\n",
    "    for choice in random.sample(possibilite,k=min((nbA-nbS),len(possibilite))):\n",
    "        graphe.ajouterArete(str(choice[0]),str(choice[1]),random.randint(minVal,maxVal))\n",
    "    #On retourne le graphe\n",
    "    return(graphe)"
   ]
  },
  {
   "cell_type": "markdown",
   "metadata": {},
   "source": [
    "Nous allons donc pouvoir créer notre graphe aléatoire. Nous allons maintenant le tester pour un graphe de 300 sommets."
   ]
  },
  {
   "cell_type": "code",
   "execution_count": 10,
   "metadata": {
    "scrolled": true
   },
   "outputs": [
    {
     "name": "stdout",
     "output_type": "stream",
     "text": [
      "Création du graphe\n",
      "Exécution de l'algorithme de Kruskal\n",
      "Le temps d'exécution est de 4.258992910385132.\n",
      "Exécution de l'algorithme de Prim\n",
      "Le temps d'exécution est de 0.606025218963623.\n",
      "Test pour savoir si les 2 algorithmes rendent le même resultat : True\n"
     ]
    }
   ],
   "source": [
    "print(\"Création du graphe\")\n",
    "nbS=300\n",
    "B=genGraphe(nbS)\n",
    "print(\"Exécution de l'algorithme de Kruskal\")\n",
    "t1=time.time()\n",
    "arbre1=Kruskal(B)\n",
    "t2=time.time()\n",
    "print(f\"Le temps d'exécution est de {t2-t1}.\")\n",
    "print(\"Exécution de l'algorithme de Prim\")\n",
    "t1=time.time()\n",
    "arbre2=Prim(B)\n",
    "t2=time.time()\n",
    "print(f\"Le temps d'exécution est de {t2-t1}.\")\n",
    "ls1=arbre1.minArete()\n",
    "poid1=sum([i[2] for i in ls1])\n",
    "ls2=arbre2.minArete()\n",
    "poid2=sum([i[2] for i in ls2])\n",
    "print(f\"Test pour savoir si les 2 algorithmes rendent le même resultat : {poid1==poid2}\")"
   ]
  },
  {
   "cell_type": "raw",
   "metadata": {},
   "source": [
    "On observe alors que les 2 algorithmes donnent le même resultat. En revanche, on observe que l'algorithme de Kruskal est un peu plus long que l'algorithme de Prim en général. Notre objectif est maintenant d'optimiser la complexité de ces derniers."
   ]
  },
  {
   "cell_type": "raw",
   "metadata": {},
   "source": [
    "Pour cela, nous commencons tout d'abord par optimiser l'algorithme de Prim.Ce qui est long dans l'éxécution de celui-ci est de trouver le minimum. Pour cela, nous allons utiliser la structure de tas-min binaire qui nous permet de trouver le minimum très rapidement car c'est le premier élément de la liste. Pour le concept de tas min binaire, nous utilisons le module heapq dans lequel toutes les méthodes dont nous avons besoin sont déjà implémenté. Voici donc la 2ème version de l'algorithme de Prim :"
   ]
  },
  {
   "cell_type": "code",
   "execution_count": 11,
   "metadata": {},
   "outputs": [],
   "source": [
    "#Deuxième version de l'Algorithme de Prim\n",
    "    #G : un graphe simple non orienté connexe\n",
    "def Prim2(G):\n",
    "    #Création de l'Arbre Couvrant de poids minimal\n",
    "    Gfinal=Graphe()\n",
    "    #Choix d'un sommet aléatoire que l'on rajoute à l'arbre\n",
    "    choice=random.choice(G.so)\n",
    "    Gfinal.ajouterSommet(choice)\n",
    "    #Création d'un tas min binaire\n",
    "    heap=[]\n",
    "    #Ajout de toutes les arêtes ayant le premier sommet comme extrémité\n",
    "    #au tas min binaire\n",
    "    for key2 in G.ar[choice].keys():\n",
    "        heappush(heap , (G.ar[choice][key2],choice,key2))\n",
    "    #Tant que l'arbre couvrant de poids minimum n'est pas composé de tous les sommets,\n",
    "    #on prend le minimum des arêtes dans le tas min\n",
    "    while Gfinal.nbS < G.nbS:\n",
    "        #Récupération du minimum\n",
    "        minimum=heappop(heap)\n",
    "        #On regarde si les extrémités sont déjà dans l'arbre couvrant\n",
    "        extremite1= minimum[1] in Gfinal.so\n",
    "        extremite2= minimum[2] in Gfinal.so\n",
    "        #Si il y en a une présente dans le graphe et l'autre non alors on l'ajoute à l'arbre\n",
    "        if extremite1+extremite2<2:\n",
    "            #On ajoute toutes les arêtes ayant pour extrémité le sommet qui n'est pas déjà dans l'arbre\n",
    "            if extremite1:\n",
    "                for key2 in G.ar[minimum[2]].keys():\n",
    "                    heappush(heap , (G.ar[minimum[2]][key2] ,minimum[2],key2))\n",
    "            else :\n",
    "                for key2 in G.ar[minimum[1]].keys():\n",
    "                    heappush(heap ,(G.ar[minimum[1]][key2],minimum[1],key2))\n",
    "            #On ajoute l'arête à l'arbre\n",
    "            Gfinal.ajouterArete(minimum[1],minimum[2],minimum[0])\n",
    "    #On retourne l'arbre couvrant de poids minimum\n",
    "    return(Gfinal)"
   ]
  },
  {
   "cell_type": "raw",
   "metadata": {},
   "source": [
    "Comme précédémment, on vient tester sur l'exemple basique du cours"
   ]
  },
  {
   "cell_type": "code",
   "execution_count": 12,
   "metadata": {},
   "outputs": [
    {
     "name": "stdout",
     "output_type": "stream",
     "text": [
      "[['3', '4', 2], ['1', '2', 2], ['2', '3', 3], ['0', '4', 4]]\n"
     ]
    }
   ],
   "source": [
    "G1=Graphe()\n",
    "G1.ajouterArete(\"0\",\"1\",5)\n",
    "G1.ajouterArete(\"0\",\"4\",4)\n",
    "G1.ajouterArete(\"4\",\"1\",6)\n",
    "G1.ajouterArete(\"4\",\"3\",2)\n",
    "G1.ajouterArete(\"1\",\"3\",4)\n",
    "G1.ajouterArete(\"1\",\"2\",2)\n",
    "G1.ajouterArete(\"3\",\"2\",3)\n",
    "arbre=Prim2(G1)\n",
    "ls=arbre.minArete()\n",
    "print(ls)"
   ]
  },
  {
   "cell_type": "markdown",
   "metadata": {},
   "source": [
    "On obtient alors le bon résultat. Nous retesterons une deuxième fois la validité de l'algorithme lorsque nous le comparerons avec les autres."
   ]
  },
  {
   "cell_type": "markdown",
   "metadata": {},
   "source": [
    "Le deuxième algorithme qui nous intéresse à optimiser est l'algorithme de Kruskal. Cette fois-ci la partie que nous allons optimiser est la recherche d'un cycle. En effet, nous ne travaillons pas avec un arbre non orienté quelconque mais avec un arbre donc un graphe acyclique auquel nous ajoutons une arête. Par conséquent, pour repérer a présence de cycle nous allons utiliser une structure de type Union-Find qui va regrouper les sommets sous forme de groupe. Voici quelques fonctions qui vont nous êtres utile pour la suite afin d'utiliser cette structure : "
   ]
  },
  {
   "cell_type": "code",
   "execution_count": 13,
   "metadata": {},
   "outputs": [],
   "source": [
    "#Fonction qui permet de trouver la racine d'un sommet dans une structure unionFind\n",
    "    #sommet :  sommet à qui on veut trouver sa racine\n",
    "    #unionFind : dictionnaire contenant pour chaque sommet soit un nombre négatif pour la racine d'une classe réprésentant\n",
    "    #la taille de la classe soit un nombre positif représentant le parent du sommet\n",
    "def find(sommet,unionFind):\n",
    "    #Si le nombre est négatif alors on a trouvé la racine de la classe\n",
    "    if int(unionFind[sommet]) <0:\n",
    "        return sommet\n",
    "    #Sinon on réapelle la fonction avec le père du sommet\n",
    "    parent=find(unionFind[sommet],unionFind)\n",
    "    return(parent)\n",
    "\n",
    "#Fonction qui permet de faire l'union de 2 sommets dans une structure unionFind\n",
    "    #s1 : 1er sommet\n",
    "    #s2 : 2ème sommet\n",
    "    #unionFind : dictionnaire contenant pour chaque sommet soit un nombre négatif pour la racine d'une classe réprésentant\n",
    "    #la taille de la classe soit un nombre positif représentant le parent du sommet\n",
    "def union(s1,s2,unionFind):\n",
    "    #On récupère la racine du groupe de s1 et de s2\n",
    "    racines1=find(s1,unionFind)\n",
    "    racines2=find(s2,unionFind)\n",
    "    #Si ils ont la même racine, alors on fait rien\n",
    "    if racines1==racines2:\n",
    "        return \n",
    "    #Sinon, pour la classe la plus grande en taille, on y ajoute toute l'autre classe\n",
    "    if int(unionFind[racines1]) > int(unionFind[racines2]):\n",
    "        unionFind[racines2]+=unionFind[racines1]\n",
    "        unionFind[racines1]=racines2\n",
    "    else:\n",
    "        unionFind[racines1]+=unionFind[racines2]\n",
    "        unionFind[racines2]=racines1 "
   ]
  },
  {
   "cell_type": "markdown",
   "metadata": {},
   "source": [
    "Par la suite, on peut donc implémenter une deuxième version de l'algorithme de Kruskal :"
   ]
  },
  {
   "cell_type": "code",
   "execution_count": 14,
   "metadata": {},
   "outputs": [],
   "source": [
    "#Deuxième version de l'Algorithme de Kruskal\n",
    "    #G : un graphe simple non orienté connexe\n",
    "def Kruskal2(G):\n",
    "    #Création de la liste des arêtes triées\n",
    "    aretetrie=G.minArete()\n",
    "    #On définit la structure union find\n",
    "    unionFind={ i : -1 for i in G.so }\n",
    "    #On crée l'arbre qu'on va retourner à la fin\n",
    "    Garbre=Graphe()\n",
    "    #On y ajoute tous les sommets\n",
    "    for sommet in G.so:\n",
    "        Garbre.ajouterSommet(sommet)\n",
    "    #Tant que l'arbre a moins de n-1 arêtes, on ajoute des arêtes\n",
    "    while(Garbre.nbA < Garbre.nbS-1):\n",
    "        #On prend la première arête de la liste\n",
    "        arete=aretetrie[0]\n",
    "        #Si les arêtes n'appartiennent pas au même groupe alors on peut ajouter l'arête à l'arbre\n",
    "        #et regrouper les 2 grouoes dans la structure unionFind\n",
    "        if(find(arete[0],unionFind) != find(arete[1],unionFind)):\n",
    "            Garbre.ajouterArete(arete[0],arete[1],arete[2])\n",
    "            union(arete[0],arete[1],unionFind)\n",
    "        #On supprime l'arête de la liste\n",
    "        del(aretetrie[0])\n",
    "    #On retourne l'arbre couvrant de poids min\n",
    "    return(Garbre)"
   ]
  },
  {
   "cell_type": "raw",
   "metadata": {},
   "source": [
    "Comme précédémment, on vient tester sur l'exemple basique du cours"
   ]
  },
  {
   "cell_type": "code",
   "execution_count": 15,
   "metadata": {},
   "outputs": [
    {
     "name": "stdout",
     "output_type": "stream",
     "text": [
      "[['1', '2', 2], ['3', '4', 2], ['2', '3', 3], ['0', '4', 4]]\n"
     ]
    }
   ],
   "source": [
    "G1=Graphe()\n",
    "G1.ajouterArete(\"0\",\"1\",5)\n",
    "G1.ajouterArete(\"0\",\"4\",4)\n",
    "G1.ajouterArete(\"4\",\"1\",6)\n",
    "G1.ajouterArete(\"4\",\"3\",2)\n",
    "G1.ajouterArete(\"1\",\"3\",4)\n",
    "G1.ajouterArete(\"1\",\"2\",2)\n",
    "G1.ajouterArete(\"3\",\"2\",3)\n",
    "arbre=Kruskal2(G1)\n",
    "ls=arbre.minArete()\n",
    "print(ls)"
   ]
  },
  {
   "cell_type": "raw",
   "metadata": {},
   "source": [
    "On obtient alors le bon résultat. Nous allons maintenant comparer leur vitesse d'execution et regarder si il donnent tous les 4 le même résultat. Pour cela, nous créons tout d'abord une deuxième méthode pour générer un graphe qui cette fois prend la valeur d'arête souhaité en paramètre et ne crée donc pas une arête entre tous les sommets :"
   ]
  },
  {
   "cell_type": "code",
   "execution_count": 16,
   "metadata": {},
   "outputs": [],
   "source": [
    "#Méthode pour générer un graphe connexe simple non orienté\n",
    "    #nbSom : nombre de Sommet\n",
    "    #minVal : valeur maximum d'une arête \n",
    "    #maxVal : valeur maximale d'une arête\n",
    "def genGraphe2(nbS=10,nbA=100,minVal=1,maxVal=1000):\n",
    "    #On crée le graphe initial\n",
    "    graphe=Graphe()\n",
    "    #On répertorie toutes les possibilités d'arêtes possibles\n",
    "    possibilite = [ [i,j]   for i in range(1,nbS+1) for j in range(i+2,nbS+1)]\n",
    "    #On crée un cycle trivial dans le graphe afin qu'il soit connexe\n",
    "    for i in range(1,nbS+1):\n",
    "        graphe.ajouterArete(str(i),str((i % nbS) + 1),random.randint(minVal,maxVal))\n",
    "    #On complete le graphe par des arêtes choisies au hasard parmi celle possible\n",
    "    for choice in random.sample(possibilite,k=min((nbA-nbS),len(possibilite))):\n",
    "        graphe.ajouterArete(str(choice[0]),str(choice[1]),random.randint(minVal,maxVal))\n",
    "    #On retourne le graphe\n",
    "    return(graphe)"
   ]
  },
  {
   "cell_type": "raw",
   "metadata": {},
   "source": [
    "Nous nous intéressons maintenant à comparer de manière qualitative le temps d'éxécution des 4 algorithmes pour 500 sommets et 4000 arêtes."
   ]
  },
  {
   "cell_type": "code",
   "execution_count": 17,
   "metadata": {},
   "outputs": [
    {
     "name": "stdout",
     "output_type": "stream",
     "text": [
      "Création du graphe\n",
      "Exécution de la première version de l'algorithme de Kruskal\n",
      "Le temps d'exécution est de 20.03916835784912.\n",
      "Exécution de la première version de l'algorithme de Prim\n",
      "Le temps d'exécution est de 1.1574299335479736.\n",
      "Exécution de la deuxième version de l'algorithme de Kruskal\n",
      "Le temps d'exécution est de 0.03949713706970215.\n",
      "Exécution de la deuxième version de l'algorithme de Prim\n",
      "Le temps d'exécution est de 0.09314107894897461.\n",
      "Test pour savoir si les 4 algorithmes rendent le même resultat : True\n"
     ]
    }
   ],
   "source": [
    "print(\"Création du graphe\")\n",
    "nbS=500\n",
    "nbA=4000\n",
    "B=genGraphe2(nbS,nbA)\n",
    "print(\"Exécution de la première version de l'algorithme de Kruskal\")\n",
    "t1=time.time()\n",
    "arbre1=Kruskal(B)\n",
    "t2=time.time()\n",
    "print(f\"Le temps d'exécution est de {t2-t1}.\")\n",
    "\n",
    "print(\"Exécution de la première version de l'algorithme de Prim\")\n",
    "t1=time.time()\n",
    "arbre2=Prim(B)\n",
    "t2=time.time()\n",
    "print(f\"Le temps d'exécution est de {t2-t1}.\")\n",
    "\n",
    "print(\"Exécution de la deuxième version de l'algorithme de Kruskal\")\n",
    "t1=time.time()\n",
    "arbre3=Kruskal2(B)\n",
    "t2=time.time()\n",
    "print(f\"Le temps d'exécution est de {t2-t1}.\")\n",
    "\n",
    "print(\"Exécution de la deuxième version de l'algorithme de Prim\")\n",
    "t1=time.time()\n",
    "arbre4=Prim2(B)\n",
    "t2=time.time()\n",
    "print(f\"Le temps d'exécution est de {t2-t1}.\")\n",
    "\n",
    "ls1=arbre1.minArete()\n",
    "poid1=sum([i[2] for i in ls1])\n",
    "ls2=arbre2.minArete()\n",
    "poid2=sum([i[2] for i in ls2])\n",
    "ls3=arbre3.minArete()\n",
    "poid3=sum([i[2] for i in ls3])\n",
    "ls4=arbre4.minArete()\n",
    "poid4=sum([i[2] for i in ls4])\n",
    "print(f\"Test pour savoir si les 4 algorithmes rendent le même resultat : {poid1==poid2 and poid2==poid3 and poid3==poid4}\")"
   ]
  },
  {
   "cell_type": "raw",
   "metadata": {},
   "source": [
    "On remarque que les 4 algorithmes nous donnent le même poid final donc les 4 algorithmes fonctionnent bien. De plus, on observe que les deuxièmes versions des algorithmes vont beaucoup plus vite à s'éxécuter. Pour avoir une approche plus quantitative, nous allons réaliser une étude de complexité pour les 4 algorithmes. Tout d'abord, on vient comparer le temps d'exécution des 4 algorithmes pour des valeurs de n différentes et avec m=n*20."
   ]
  },
  {
   "cell_type": "code",
   "execution_count": 18,
   "metadata": {},
   "outputs": [
    {
     "name": "stdout",
     "output_type": "stream",
     "text": [
      "100 110 120 130 140 150 160 170 180 190 200 210 220 "
     ]
    },
    {
     "ename": "KeyboardInterrupt",
     "evalue": "",
     "output_type": "error",
     "traceback": [
      "\u001b[1;31m---------------------------------------------------------------------------\u001b[0m",
      "\u001b[1;31mKeyboardInterrupt\u001b[0m                         Traceback (most recent call last)",
      "\u001b[1;32m<ipython-input-18-d2907861e831>\u001b[0m in \u001b[0;36m<module>\u001b[1;34m\u001b[0m\n\u001b[0;32m     17\u001b[0m \u001b[1;33m\u001b[0m\u001b[0m\n\u001b[0;32m     18\u001b[0m     \u001b[0mt1\u001b[0m\u001b[1;33m=\u001b[0m\u001b[0mtime\u001b[0m\u001b[1;33m.\u001b[0m\u001b[0mtime\u001b[0m\u001b[1;33m(\u001b[0m\u001b[1;33m)\u001b[0m\u001b[1;33m\u001b[0m\u001b[1;33m\u001b[0m\u001b[0m\n\u001b[1;32m---> 19\u001b[1;33m     \u001b[0marbre1\u001b[0m\u001b[1;33m=\u001b[0m\u001b[0mKruskal\u001b[0m\u001b[1;33m(\u001b[0m\u001b[0mB\u001b[0m\u001b[1;33m)\u001b[0m\u001b[1;33m\u001b[0m\u001b[1;33m\u001b[0m\u001b[0m\n\u001b[0m\u001b[0;32m     20\u001b[0m     \u001b[0mt2\u001b[0m\u001b[1;33m=\u001b[0m\u001b[0mtime\u001b[0m\u001b[1;33m.\u001b[0m\u001b[0mtime\u001b[0m\u001b[1;33m(\u001b[0m\u001b[1;33m)\u001b[0m\u001b[1;33m\u001b[0m\u001b[1;33m\u001b[0m\u001b[0m\n\u001b[0;32m     21\u001b[0m     \u001b[0mtkruskal1\u001b[0m\u001b[1;33m.\u001b[0m\u001b[0mappend\u001b[0m\u001b[1;33m(\u001b[0m\u001b[0mt2\u001b[0m\u001b[1;33m-\u001b[0m\u001b[0mt1\u001b[0m\u001b[1;33m)\u001b[0m\u001b[1;33m\u001b[0m\u001b[1;33m\u001b[0m\u001b[0m\n",
      "\u001b[1;32m<ipython-input-6-ea0eb6457a84>\u001b[0m in \u001b[0;36mKruskal\u001b[1;34m(G)\u001b[0m\n\u001b[0;32m     15\u001b[0m         \u001b[1;31m#Si elle ne crée pas de cycle, on l'ajoute, sinon on la supprime\u001b[0m\u001b[1;33m\u001b[0m\u001b[1;33m\u001b[0m\u001b[1;33m\u001b[0m\u001b[0m\n\u001b[0;32m     16\u001b[0m         \u001b[0mGarbre\u001b[0m\u001b[1;33m.\u001b[0m\u001b[0majouterArete\u001b[0m\u001b[1;33m(\u001b[0m\u001b[0marete\u001b[0m\u001b[1;33m[\u001b[0m\u001b[1;36m0\u001b[0m\u001b[1;33m]\u001b[0m\u001b[1;33m,\u001b[0m\u001b[0marete\u001b[0m\u001b[1;33m[\u001b[0m\u001b[1;36m1\u001b[0m\u001b[1;33m]\u001b[0m\u001b[1;33m,\u001b[0m\u001b[0marete\u001b[0m\u001b[1;33m[\u001b[0m\u001b[1;36m2\u001b[0m\u001b[1;33m]\u001b[0m\u001b[1;33m)\u001b[0m\u001b[1;33m\u001b[0m\u001b[1;33m\u001b[0m\u001b[0m\n\u001b[1;32m---> 17\u001b[1;33m         \u001b[1;32mif\u001b[0m\u001b[1;33m(\u001b[0m\u001b[0mdetectionCycle\u001b[0m\u001b[1;33m(\u001b[0m\u001b[0mGarbre\u001b[0m\u001b[1;33m)\u001b[0m\u001b[1;33m)\u001b[0m\u001b[1;33m:\u001b[0m\u001b[1;33m\u001b[0m\u001b[1;33m\u001b[0m\u001b[0m\n\u001b[0m\u001b[0;32m     18\u001b[0m             \u001b[0mGarbre\u001b[0m\u001b[1;33m.\u001b[0m\u001b[0menleverArete\u001b[0m\u001b[1;33m(\u001b[0m\u001b[0marete\u001b[0m\u001b[1;33m[\u001b[0m\u001b[1;36m0\u001b[0m\u001b[1;33m]\u001b[0m\u001b[1;33m,\u001b[0m\u001b[0marete\u001b[0m\u001b[1;33m[\u001b[0m\u001b[1;36m1\u001b[0m\u001b[1;33m]\u001b[0m\u001b[1;33m)\u001b[0m\u001b[1;33m\u001b[0m\u001b[1;33m\u001b[0m\u001b[0m\n\u001b[0;32m     19\u001b[0m         \u001b[1;32mdel\u001b[0m\u001b[1;33m(\u001b[0m\u001b[0maretetrie\u001b[0m\u001b[1;33m[\u001b[0m\u001b[1;36m0\u001b[0m\u001b[1;33m]\u001b[0m\u001b[1;33m)\u001b[0m\u001b[1;33m\u001b[0m\u001b[1;33m\u001b[0m\u001b[0m\n",
      "\u001b[1;32m<ipython-input-5-2ef36d7b4556>\u001b[0m in \u001b[0;36mdetectionCycle\u001b[1;34m(G)\u001b[0m\n\u001b[0;32m     10\u001b[0m     \u001b[1;32mwhile\u001b[0m\u001b[1;33m(\u001b[0m\u001b[0many\u001b[0m\u001b[1;33m(\u001b[0m\u001b[1;33m[\u001b[0m\u001b[0mc\u001b[0m\u001b[1;33m==\u001b[0m\u001b[1;34m\"w\"\u001b[0m \u001b[1;32mfor\u001b[0m \u001b[0mc\u001b[0m \u001b[1;32min\u001b[0m \u001b[0mcolor\u001b[0m\u001b[1;33m.\u001b[0m\u001b[0mvalues\u001b[0m\u001b[1;33m(\u001b[0m\u001b[1;33m)\u001b[0m\u001b[1;33m]\u001b[0m\u001b[1;33m)\u001b[0m\u001b[1;33m)\u001b[0m\u001b[1;33m:\u001b[0m\u001b[1;33m\u001b[0m\u001b[1;33m\u001b[0m\u001b[0m\n\u001b[0;32m     11\u001b[0m         \u001b[1;31m#On choisit un sommet aléatoire non traité\u001b[0m\u001b[1;33m\u001b[0m\u001b[1;33m\u001b[0m\u001b[1;33m\u001b[0m\u001b[0m\n\u001b[1;32m---> 12\u001b[1;33m         \u001b[0mrand\u001b[0m\u001b[1;33m=\u001b[0m\u001b[0mrandom\u001b[0m\u001b[1;33m.\u001b[0m\u001b[0mchoice\u001b[0m\u001b[1;33m(\u001b[0m\u001b[1;33m[\u001b[0m\u001b[0msommet\u001b[0m \u001b[1;32mfor\u001b[0m \u001b[0msommet\u001b[0m \u001b[1;32min\u001b[0m \u001b[0mG\u001b[0m\u001b[1;33m.\u001b[0m\u001b[0mso\u001b[0m \u001b[1;32mif\u001b[0m \u001b[0mcolor\u001b[0m\u001b[1;33m[\u001b[0m\u001b[0msommet\u001b[0m\u001b[1;33m]\u001b[0m\u001b[1;33m==\u001b[0m\u001b[1;34m\"w\"\u001b[0m\u001b[1;33m]\u001b[0m\u001b[1;33m)\u001b[0m\u001b[1;33m\u001b[0m\u001b[1;33m\u001b[0m\u001b[0m\n\u001b[0m\u001b[0;32m     13\u001b[0m         \u001b[1;31m#on le rajoute dans la pile\u001b[0m\u001b[1;33m\u001b[0m\u001b[1;33m\u001b[0m\u001b[1;33m\u001b[0m\u001b[0m\n\u001b[0;32m     14\u001b[0m         \u001b[0mpile\u001b[0m\u001b[1;33m=\u001b[0m\u001b[1;33m[\u001b[0m\u001b[0mrand\u001b[0m\u001b[1;33m]\u001b[0m\u001b[1;33m\u001b[0m\u001b[1;33m\u001b[0m\u001b[0m\n",
      "\u001b[1;32m<ipython-input-5-2ef36d7b4556>\u001b[0m in \u001b[0;36m<listcomp>\u001b[1;34m(.0)\u001b[0m\n\u001b[0;32m     10\u001b[0m     \u001b[1;32mwhile\u001b[0m\u001b[1;33m(\u001b[0m\u001b[0many\u001b[0m\u001b[1;33m(\u001b[0m\u001b[1;33m[\u001b[0m\u001b[0mc\u001b[0m\u001b[1;33m==\u001b[0m\u001b[1;34m\"w\"\u001b[0m \u001b[1;32mfor\u001b[0m \u001b[0mc\u001b[0m \u001b[1;32min\u001b[0m \u001b[0mcolor\u001b[0m\u001b[1;33m.\u001b[0m\u001b[0mvalues\u001b[0m\u001b[1;33m(\u001b[0m\u001b[1;33m)\u001b[0m\u001b[1;33m]\u001b[0m\u001b[1;33m)\u001b[0m\u001b[1;33m)\u001b[0m\u001b[1;33m:\u001b[0m\u001b[1;33m\u001b[0m\u001b[1;33m\u001b[0m\u001b[0m\n\u001b[0;32m     11\u001b[0m         \u001b[1;31m#On choisit un sommet aléatoire non traité\u001b[0m\u001b[1;33m\u001b[0m\u001b[1;33m\u001b[0m\u001b[1;33m\u001b[0m\u001b[0m\n\u001b[1;32m---> 12\u001b[1;33m         \u001b[0mrand\u001b[0m\u001b[1;33m=\u001b[0m\u001b[0mrandom\u001b[0m\u001b[1;33m.\u001b[0m\u001b[0mchoice\u001b[0m\u001b[1;33m(\u001b[0m\u001b[1;33m[\u001b[0m\u001b[0msommet\u001b[0m \u001b[1;32mfor\u001b[0m \u001b[0msommet\u001b[0m \u001b[1;32min\u001b[0m \u001b[0mG\u001b[0m\u001b[1;33m.\u001b[0m\u001b[0mso\u001b[0m \u001b[1;32mif\u001b[0m \u001b[0mcolor\u001b[0m\u001b[1;33m[\u001b[0m\u001b[0msommet\u001b[0m\u001b[1;33m]\u001b[0m\u001b[1;33m==\u001b[0m\u001b[1;34m\"w\"\u001b[0m\u001b[1;33m]\u001b[0m\u001b[1;33m)\u001b[0m\u001b[1;33m\u001b[0m\u001b[1;33m\u001b[0m\u001b[0m\n\u001b[0m\u001b[0;32m     13\u001b[0m         \u001b[1;31m#on le rajoute dans la pile\u001b[0m\u001b[1;33m\u001b[0m\u001b[1;33m\u001b[0m\u001b[1;33m\u001b[0m\u001b[0m\n\u001b[0;32m     14\u001b[0m         \u001b[0mpile\u001b[0m\u001b[1;33m=\u001b[0m\u001b[1;33m[\u001b[0m\u001b[0mrand\u001b[0m\u001b[1;33m]\u001b[0m\u001b[1;33m\u001b[0m\u001b[1;33m\u001b[0m\u001b[0m\n",
      "\u001b[1;31mKeyboardInterrupt\u001b[0m: "
     ]
    }
   ],
   "source": [
    "nTest=[ i*10 for i in range(10,60,1)]\n",
    "tkruskal2=[]\n",
    "tkruskal1=[]\n",
    "tprim1=[]\n",
    "tprim2=[]\n",
    "o=[]\n",
    "\n",
    "for i in nTest:\n",
    "    print(i, end=\" \")\n",
    "    B=genGraphe2(i,i*10)\n",
    "    \n",
    "    t1=time.time()\n",
    "    arbre1=Kruskal2(B)\n",
    "    t2=time.time()\n",
    "    tkruskal2.append(t2-t1)\n",
    "    \n",
    "        \n",
    "    t1=time.time()\n",
    "    arbre1=Kruskal(B)\n",
    "    t2=time.time()\n",
    "    tkruskal1.append(t2-t1)\n",
    "\n",
    "       \n",
    "    t1=time.time()\n",
    "    arbre1=Prim2(B)\n",
    "    t2=time.time()\n",
    "    tprim2.append(t2-t1)\n",
    "\n",
    "         \n",
    "    t1=time.time()\n",
    "    arbre1=Prim(B)\n",
    "    t2=time.time()\n",
    "    tprim1.append(t2-t1)\n",
    "       \n",
    "    o.append(i)\n",
    "\n",
    "plt.figure(figsize=(10,10))\n",
    "plt.subplot(2,2,1)\n",
    "plt.plot(nTest,tkruskal1,label=\"Kruskal1\")\n",
    "plt.xlabel('Nombre de noeuds')\n",
    "plt.ylabel(\"Temps d éxécution (en s )\")\n",
    "plt.legend()\n",
    "\n",
    "plt.subplot(2,2,2)\n",
    "plt.plot(nTest,tkruskal2,label=\"Kruskal2\")\n",
    "plt.xlabel('Nombre de noeuds')\n",
    "plt.ylabel(\"Temps d éxécution (en s )\")\n",
    "plt.legend()\n",
    "\n",
    "plt.subplot(2,2,3)\n",
    "plt.plot(nTest,tprim1,label=\"Prim1\")\n",
    "plt.xlabel('Nombre de noeuds')\n",
    "plt.ylabel(\"Temps d éxécution (en s )\")\n",
    "plt.legend()\n",
    "\n",
    "plt.subplot(2,2,4)\n",
    "plt.plot(nTest,tprim2,label=\"Prim2\")\n",
    "plt.xlabel('Nombre de noeuds')\n",
    "plt.ylabel(\"Temps d éxécution (en s )\")\n",
    "plt.legend()\n",
    "\n",
    "plt.show()"
   ]
  },
  {
   "cell_type": "markdown",
   "metadata": {},
   "source": [
    "On observe alors que l'algorithme le plus long est la première version de Kruskal. De plus, nos 2 algorithmes optimisés ont une complexité plus faible.\n",
    "Maintenant, on aimerait bien identifier la complexité de ces derniers.\n",
    "\n",
    "Théoriquement, on obtient que la complexité des 2 premiers algorithmes est :\n",
    "-Pour Kruskal, le tri se fait en O(m*log(m)) et réalise au maximum m itérations dans lesquels on recherche un cycle dans un graphe d'au maximum n-1 arêtes et connexe ( complexité en O(n) ). Par conséquent, la complexité du tri est négligeable devant la complexité de la boucle et Kruskal a une complexité en O(m*n)\n",
    "-Pour Prim, nous aussi le tri en O(m*log(m)). Ensuite, cela est plus complexe et va beaucoup varier en fonction du graphe. En effet, dans la boucle nous avons au plus n itération et lors d'une itération on va passer O(n) fois dans la boucle while avec n O(n) comparaisons . On obtient donc une complexité en O(n*n*n).\n",
    "Maintenant nous allons representer le temps d'execution de ces algorithmes pour des valeurs de n et m différentes en fonction de leur complexité théorique pour s'assurer de celle-ci. On devrait alors obtenir une droite."
   ]
  },
  {
   "cell_type": "code",
   "execution_count": 19,
   "metadata": {},
   "outputs": [
    {
     "name": "stdout",
     "output_type": "stream",
     "text": [
      "10 20 30 40 50 60 70 80 90 100 110 120 130 140 150 160 170 180 190 200 210 220 230 "
     ]
    },
    {
     "ename": "KeyboardInterrupt",
     "evalue": "",
     "output_type": "error",
     "traceback": [
      "\u001b[1;31m---------------------------------------------------------------------------\u001b[0m",
      "\u001b[1;31mKeyboardInterrupt\u001b[0m                         Traceback (most recent call last)",
      "\u001b[1;32m<ipython-input-19-06caa983b99c>\u001b[0m in \u001b[0;36m<module>\u001b[1;34m\u001b[0m\n\u001b[0;32m     11\u001b[0m     \u001b[1;31m#Calcul du temps d'éxécution de la première version de Kruskal\u001b[0m\u001b[1;33m\u001b[0m\u001b[1;33m\u001b[0m\u001b[1;33m\u001b[0m\u001b[0m\n\u001b[0;32m     12\u001b[0m     \u001b[0mt1\u001b[0m\u001b[1;33m=\u001b[0m\u001b[0mtime\u001b[0m\u001b[1;33m.\u001b[0m\u001b[0mtime\u001b[0m\u001b[1;33m(\u001b[0m\u001b[1;33m)\u001b[0m\u001b[1;33m\u001b[0m\u001b[1;33m\u001b[0m\u001b[0m\n\u001b[1;32m---> 13\u001b[1;33m     \u001b[0marbre1\u001b[0m\u001b[1;33m=\u001b[0m\u001b[0mKruskal\u001b[0m\u001b[1;33m(\u001b[0m\u001b[0mB\u001b[0m\u001b[1;33m)\u001b[0m\u001b[1;33m\u001b[0m\u001b[1;33m\u001b[0m\u001b[0m\n\u001b[0m\u001b[0;32m     14\u001b[0m     \u001b[0mt2\u001b[0m\u001b[1;33m=\u001b[0m\u001b[0mtime\u001b[0m\u001b[1;33m.\u001b[0m\u001b[0mtime\u001b[0m\u001b[1;33m(\u001b[0m\u001b[1;33m)\u001b[0m\u001b[1;33m\u001b[0m\u001b[1;33m\u001b[0m\u001b[0m\n\u001b[0;32m     15\u001b[0m     \u001b[0mtkruskal1\u001b[0m\u001b[1;33m.\u001b[0m\u001b[0mappend\u001b[0m\u001b[1;33m(\u001b[0m\u001b[0mt2\u001b[0m\u001b[1;33m-\u001b[0m\u001b[0mt1\u001b[0m\u001b[1;33m)\u001b[0m\u001b[1;33m\u001b[0m\u001b[1;33m\u001b[0m\u001b[0m\n",
      "\u001b[1;32m<ipython-input-6-ea0eb6457a84>\u001b[0m in \u001b[0;36mKruskal\u001b[1;34m(G)\u001b[0m\n\u001b[0;32m     15\u001b[0m         \u001b[1;31m#Si elle ne crée pas de cycle, on l'ajoute, sinon on la supprime\u001b[0m\u001b[1;33m\u001b[0m\u001b[1;33m\u001b[0m\u001b[1;33m\u001b[0m\u001b[0m\n\u001b[0;32m     16\u001b[0m         \u001b[0mGarbre\u001b[0m\u001b[1;33m.\u001b[0m\u001b[0majouterArete\u001b[0m\u001b[1;33m(\u001b[0m\u001b[0marete\u001b[0m\u001b[1;33m[\u001b[0m\u001b[1;36m0\u001b[0m\u001b[1;33m]\u001b[0m\u001b[1;33m,\u001b[0m\u001b[0marete\u001b[0m\u001b[1;33m[\u001b[0m\u001b[1;36m1\u001b[0m\u001b[1;33m]\u001b[0m\u001b[1;33m,\u001b[0m\u001b[0marete\u001b[0m\u001b[1;33m[\u001b[0m\u001b[1;36m2\u001b[0m\u001b[1;33m]\u001b[0m\u001b[1;33m)\u001b[0m\u001b[1;33m\u001b[0m\u001b[1;33m\u001b[0m\u001b[0m\n\u001b[1;32m---> 17\u001b[1;33m         \u001b[1;32mif\u001b[0m\u001b[1;33m(\u001b[0m\u001b[0mdetectionCycle\u001b[0m\u001b[1;33m(\u001b[0m\u001b[0mGarbre\u001b[0m\u001b[1;33m)\u001b[0m\u001b[1;33m)\u001b[0m\u001b[1;33m:\u001b[0m\u001b[1;33m\u001b[0m\u001b[1;33m\u001b[0m\u001b[0m\n\u001b[0m\u001b[0;32m     18\u001b[0m             \u001b[0mGarbre\u001b[0m\u001b[1;33m.\u001b[0m\u001b[0menleverArete\u001b[0m\u001b[1;33m(\u001b[0m\u001b[0marete\u001b[0m\u001b[1;33m[\u001b[0m\u001b[1;36m0\u001b[0m\u001b[1;33m]\u001b[0m\u001b[1;33m,\u001b[0m\u001b[0marete\u001b[0m\u001b[1;33m[\u001b[0m\u001b[1;36m1\u001b[0m\u001b[1;33m]\u001b[0m\u001b[1;33m)\u001b[0m\u001b[1;33m\u001b[0m\u001b[1;33m\u001b[0m\u001b[0m\n\u001b[0;32m     19\u001b[0m         \u001b[1;32mdel\u001b[0m\u001b[1;33m(\u001b[0m\u001b[0maretetrie\u001b[0m\u001b[1;33m[\u001b[0m\u001b[1;36m0\u001b[0m\u001b[1;33m]\u001b[0m\u001b[1;33m)\u001b[0m\u001b[1;33m\u001b[0m\u001b[1;33m\u001b[0m\u001b[0m\n",
      "\u001b[1;32m<ipython-input-5-2ef36d7b4556>\u001b[0m in \u001b[0;36mdetectionCycle\u001b[1;34m(G)\u001b[0m\n\u001b[0;32m     10\u001b[0m     \u001b[1;32mwhile\u001b[0m\u001b[1;33m(\u001b[0m\u001b[0many\u001b[0m\u001b[1;33m(\u001b[0m\u001b[1;33m[\u001b[0m\u001b[0mc\u001b[0m\u001b[1;33m==\u001b[0m\u001b[1;34m\"w\"\u001b[0m \u001b[1;32mfor\u001b[0m \u001b[0mc\u001b[0m \u001b[1;32min\u001b[0m \u001b[0mcolor\u001b[0m\u001b[1;33m.\u001b[0m\u001b[0mvalues\u001b[0m\u001b[1;33m(\u001b[0m\u001b[1;33m)\u001b[0m\u001b[1;33m]\u001b[0m\u001b[1;33m)\u001b[0m\u001b[1;33m)\u001b[0m\u001b[1;33m:\u001b[0m\u001b[1;33m\u001b[0m\u001b[1;33m\u001b[0m\u001b[0m\n\u001b[0;32m     11\u001b[0m         \u001b[1;31m#On choisit un sommet aléatoire non traité\u001b[0m\u001b[1;33m\u001b[0m\u001b[1;33m\u001b[0m\u001b[1;33m\u001b[0m\u001b[0m\n\u001b[1;32m---> 12\u001b[1;33m         \u001b[0mrand\u001b[0m\u001b[1;33m=\u001b[0m\u001b[0mrandom\u001b[0m\u001b[1;33m.\u001b[0m\u001b[0mchoice\u001b[0m\u001b[1;33m(\u001b[0m\u001b[1;33m[\u001b[0m\u001b[0msommet\u001b[0m \u001b[1;32mfor\u001b[0m \u001b[0msommet\u001b[0m \u001b[1;32min\u001b[0m \u001b[0mG\u001b[0m\u001b[1;33m.\u001b[0m\u001b[0mso\u001b[0m \u001b[1;32mif\u001b[0m \u001b[0mcolor\u001b[0m\u001b[1;33m[\u001b[0m\u001b[0msommet\u001b[0m\u001b[1;33m]\u001b[0m\u001b[1;33m==\u001b[0m\u001b[1;34m\"w\"\u001b[0m\u001b[1;33m]\u001b[0m\u001b[1;33m)\u001b[0m\u001b[1;33m\u001b[0m\u001b[1;33m\u001b[0m\u001b[0m\n\u001b[0m\u001b[0;32m     13\u001b[0m         \u001b[1;31m#on le rajoute dans la pile\u001b[0m\u001b[1;33m\u001b[0m\u001b[1;33m\u001b[0m\u001b[1;33m\u001b[0m\u001b[0m\n\u001b[0;32m     14\u001b[0m         \u001b[0mpile\u001b[0m\u001b[1;33m=\u001b[0m\u001b[1;33m[\u001b[0m\u001b[0mrand\u001b[0m\u001b[1;33m]\u001b[0m\u001b[1;33m\u001b[0m\u001b[1;33m\u001b[0m\u001b[0m\n",
      "\u001b[1;32m<ipython-input-5-2ef36d7b4556>\u001b[0m in \u001b[0;36m<listcomp>\u001b[1;34m(.0)\u001b[0m\n\u001b[0;32m     10\u001b[0m     \u001b[1;32mwhile\u001b[0m\u001b[1;33m(\u001b[0m\u001b[0many\u001b[0m\u001b[1;33m(\u001b[0m\u001b[1;33m[\u001b[0m\u001b[0mc\u001b[0m\u001b[1;33m==\u001b[0m\u001b[1;34m\"w\"\u001b[0m \u001b[1;32mfor\u001b[0m \u001b[0mc\u001b[0m \u001b[1;32min\u001b[0m \u001b[0mcolor\u001b[0m\u001b[1;33m.\u001b[0m\u001b[0mvalues\u001b[0m\u001b[1;33m(\u001b[0m\u001b[1;33m)\u001b[0m\u001b[1;33m]\u001b[0m\u001b[1;33m)\u001b[0m\u001b[1;33m)\u001b[0m\u001b[1;33m:\u001b[0m\u001b[1;33m\u001b[0m\u001b[1;33m\u001b[0m\u001b[0m\n\u001b[0;32m     11\u001b[0m         \u001b[1;31m#On choisit un sommet aléatoire non traité\u001b[0m\u001b[1;33m\u001b[0m\u001b[1;33m\u001b[0m\u001b[1;33m\u001b[0m\u001b[0m\n\u001b[1;32m---> 12\u001b[1;33m         \u001b[0mrand\u001b[0m\u001b[1;33m=\u001b[0m\u001b[0mrandom\u001b[0m\u001b[1;33m.\u001b[0m\u001b[0mchoice\u001b[0m\u001b[1;33m(\u001b[0m\u001b[1;33m[\u001b[0m\u001b[0msommet\u001b[0m \u001b[1;32mfor\u001b[0m \u001b[0msommet\u001b[0m \u001b[1;32min\u001b[0m \u001b[0mG\u001b[0m\u001b[1;33m.\u001b[0m\u001b[0mso\u001b[0m \u001b[1;32mif\u001b[0m \u001b[0mcolor\u001b[0m\u001b[1;33m[\u001b[0m\u001b[0msommet\u001b[0m\u001b[1;33m]\u001b[0m\u001b[1;33m==\u001b[0m\u001b[1;34m\"w\"\u001b[0m\u001b[1;33m]\u001b[0m\u001b[1;33m)\u001b[0m\u001b[1;33m\u001b[0m\u001b[1;33m\u001b[0m\u001b[0m\n\u001b[0m\u001b[0;32m     13\u001b[0m         \u001b[1;31m#on le rajoute dans la pile\u001b[0m\u001b[1;33m\u001b[0m\u001b[1;33m\u001b[0m\u001b[1;33m\u001b[0m\u001b[0m\n\u001b[0;32m     14\u001b[0m         \u001b[0mpile\u001b[0m\u001b[1;33m=\u001b[0m\u001b[1;33m[\u001b[0m\u001b[0mrand\u001b[0m\u001b[1;33m]\u001b[0m\u001b[1;33m\u001b[0m\u001b[1;33m\u001b[0m\u001b[0m\n",
      "\u001b[1;31mKeyboardInterrupt\u001b[0m: "
     ]
    }
   ],
   "source": [
    "nTest=range(10,500,10)\n",
    "tkruskal1=[] ; tkruskal2=[] ;tprim1=[] ;tprim2=[]\n",
    "o1=[] ;o2=[] ;o3=[] ;o4=[]\n",
    "\n",
    "for i in nTest:\n",
    "    #On affiche la taille du graphe\n",
    "    print(i, end=\" \")\n",
    "    #Création du graphe\n",
    "    B=genGraphe2(nbS=i,nbA=i*10)\n",
    "    m=B.nbA\n",
    "    #Calcul du temps d'éxécution de la première version de Kruskal\n",
    "    t1=time.time()\n",
    "    arbre1=Kruskal(B)\n",
    "    t2=time.time()\n",
    "    tkruskal1.append(t2-t1)\n",
    "    #On garde en mémoire la complexité de cette version\n",
    "    o1.append(m*i)\n",
    "    \n",
    "    #Calcul du temps d'éxécution de la première version de Prim\n",
    "    t1=time.time()\n",
    "    arbre1=Prim(B)\n",
    "    t2=time.time()\n",
    "    tprim1.append(t2-t1)\n",
    "    #On garde en mémoire la complexité de cette version\n",
    "    o3.append(i*i*i)\n",
    "\n",
    "plt.plot(o1,tkruskal1,label=\"Kruskal1\")\n",
    "plt.xlabel(\"n*m\")\n",
    "plt.ylabel(\"Temps d'éxécution\")\n",
    "plt.legend()\n",
    "plt.show()\n",
    "\n",
    "plt.plot(o3,tprim1,label=\"Prim1\")\n",
    "plt.xlabel(\"n*n*n\")\n",
    "plt.ylabel(\"Temps d'éxécution\")\n",
    "plt.legend()\n",
    "plt.show()"
   ]
  },
  {
   "cell_type": "markdown",
   "metadata": {},
   "source": [
    "On remarque alors effectivement que l'algorithme de Kruskal a une complexité en O(m*n) et Prim en O(n*n*n) pour leur première version. Théoriquement, pour les 2 autres versions on obtient :\n",
    "-Pour kruskal , nous n'avons plus la recherche de cycle basique à chaque itération. Au moment d’ajouter une arête {u, v} dans T, on détecte alors un cycle en regardant simplement si v est dans la liste des sommets que l’on peut atteindre\n",
    "depuis u. Grâce à la structure Union-Find , le maintien des listes de sommets accessibles et la\n",
    "détection de cycle peuvent alors être faits en O(log(n)). Par conséquent, l'exécution de la boucle est maintenant en O(m*log(n)) ce qui est cette fois négligeable devant la complexité du tri et l'algorithme de Kruskal est maintenant en O(m*log(m)).\n",
    "-Pour Prim, la boucle va faire au maximum m itération.De plus, pour chaque itération on va retirer le premier élément du tas min binaire ce qui se fait en log(nbElement). De plus, lorsqu'on rajoute un élément à l'arbre on y ajoute toutes ces arrêtes dans le tas donc on le fait au 2*m fois et cette opération est en log(nbElement). Le nombre d'element dans le tas varie à chaque tour on sait que le tas vas etre au maximum de m-n élément. On obtient alors une complexité entre O(m*log(n)) et  O(m*log(m-n)).Ce n'est pas la plus optimisée avec les tas min binaire. On aurait pu aller jusqu'à O(m*log(n)).\n",
    "Maintenant si on teste numériquement, on obtient alors :"
   ]
  },
  {
   "cell_type": "code",
   "execution_count": null,
   "metadata": {},
   "outputs": [],
   "source": [
    "nTest=range(10,1000,10)  \n",
    "tkruskal2=[] ;tprim2=[]\n",
    "o2=[] ;o4=[]\n",
    "for i in nTest:\n",
    "    #On affiche la taille du graphe\n",
    "    print(i, end=\" \")\n",
    "    #Création du graphe\n",
    "    B=genGraphe2(nbS=i,nbA=i*100)\n",
    "    m=B.nbA    \n",
    "    #Calcul du temps d'éxécution de la deuxième version de Kruskal\n",
    "    t1=time.time()\n",
    "    arbre1=Kruskal2(B)\n",
    "    t2=time.time()\n",
    "    tkruskal2.append(t2-t1)\n",
    "    #On garde en mémoire la complexité de cette version\n",
    "    o2.append(m*math.log(m))\n",
    "    \n",
    "    #Calcul du temps d'éxécution de la deuxième version de Prim\n",
    "    t1=time.time()\n",
    "    arbre1=Prim2(B)\n",
    "    t2=time.time()\n",
    "    tprim2.append(t2-t1)\n",
    "    #On garde en mémoire la complexité de cette version\n",
    "    o4.append(m*math.log(m-i))\n",
    "    \n",
    "plt.plot(o2,tkruskal2,label=\"Kruskal2\")\n",
    "plt.xlabel(\"m*log(n)\")\n",
    "plt.ylabel(\"Temps d'éxécution\")\n",
    "plt.legend()\n",
    "plt.show()\n",
    "\n",
    "plt.plot(o4,tprim2,label=\"Prim2\")\n",
    "plt.xlabel(\"m*log(m-n)\")\n",
    "plt.ylabel(\"Temps d'éxécution\")\n",
    "plt.legend()\n",
    "plt.show()"
   ]
  },
  {
   "cell_type": "markdown",
   "metadata": {},
   "source": [
    "On remarque alors que grâce à l'optimisation des algorithmes nous aons réussit à obtenir un algorithme de Kruskal avec une complexité en O(m*log(m)) et pour l'algorithme de Prim entre O(m*log(m-n)) et O(m*log(n)). Ils auraient fallu optimiser la taille du tas dans l'algorithme de Prim pour obtenir une complexité en O(m*log(n)). En revanche, l'algorithme de Prim est le plus rapide asymptotiquement."
   ]
  },
  {
   "cell_type": "markdown",
   "metadata": {},
   "source": [
    "## Arbre couvrant de poids minimum : Modélisation PLNE"
   ]
  },
  {
   "cell_type": "markdown",
   "metadata": {},
   "source": [
    "Nous allons maintenant modéliser le problème de l'arbre couvrant de poids minimum comme un programme linéaire en nombre entier. Pour cela nous utiliserons la librairie PuLP:"
   ]
  },
  {
   "cell_type": "code",
   "execution_count": 20,
   "metadata": {},
   "outputs": [],
   "source": [
    "from pulp import*\n",
    "import numpy as np\n",
    "from itertools import combinations\n",
    "import re\n",
    "import math as m"
   ]
  },
  {
   "cell_type": "markdown",
   "metadata": {},
   "source": [
    "**1) Premier modèle**"
   ]
  },
  {
   "cell_type": "markdown",
   "metadata": {},
   "source": [
    "On considère comme précédemment un graphe non-orienté connexe $G=[S,A]$ dont chaque arête possède un poids $p_{a}$. On note désormais $n=|S|$ et $m=|A|$. Par la suite, chaque sommet sera numéroté de $0$ à $n-1$ et chaque arête sera numérotée de $0$ à $m-1$. On définit donc notre modèle :\n",
    "\n",
    "*Variables :*\n",
    "- $\\forall a \\in A, x_a\\in \\{0,1\\}$ et $x_a=1$ si l'arrête $a$ est dans l'arbre couvrant de poids minimum.\n",
    "\n",
    "*Objectif :*\n",
    "\n",
    "- On cherche à minimiser la somme des poids des arêtes contenues dans l'arbre : \n",
    "\n",
    "$\\min{\\sum_{a\\in A}{x_ap_a}}$ \n",
    "\n",
    "*Contraintes :*\n",
    "\n",
    "Il faut que le graphe obtenu soit un arbre, on impose donc les 2 contraintes suivantes:\n",
    "\n",
    "- Il faut qu'il y ait exactement $|S|-1$ arêtes soit $n-1$ arêtes:\n",
    "\n",
    "$\\begin{equation}\n",
    "    {\\sum_{a\\in A}{x_a}=n-1}\n",
    "    \\end{equation}$\n",
    "\n",
    "- Pour assurer la connexité et éviter la présence de cycles, chaque sous-ensemble $\\bar{S}\\subset S$ doit avoir au plus $|\\bar{S}|-1$ arêtes : \n",
    "\n",
    "$\\begin{equation}\n",
    "    \\sum_{a\\in \\bar{A}}{x_a} \\le |\\bar{S}|-1\n",
    "    \\end{equation}$, $\\forall \\bar{S}\\subset S$ et $\\bar{A}$ l'ensemble des arêtes dont les 2 sommets sont dans $\\bar{S}$.\n"
   ]
  },
  {
   "cell_type": "markdown",
   "metadata": {},
   "source": [
    "On crée donc d'abord une fonction chargée de construire le modèle. Elle prendra en argument la liste d'incidence du graphe (sous forme d'un dictionnaire dont les clé sont les sommets et les valeurs les arêtes ayant une extrémité dans ces sommets) ainsi qu'un dictionnaire contenant les poids de chaque arête et dont la numérotation des arêtes correspond à celle de la liste. Cette fonction renvoie le modèle non résolu."
   ]
  },
  {
   "cell_type": "code",
   "execution_count": 21,
   "metadata": {},
   "outputs": [],
   "source": [
    "def ModelePLNE_1(Liste,Poids):\n",
    "    \n",
    "    #Création du problème :\n",
    "    prob = LpProblem(\"ACPM_1\",LpMinimize)\n",
    "    \n",
    "    n = len(Liste.keys()) #Nombre de sommets\n",
    "    m = len(Poids.keys()) #Nombre d'arêtes\n",
    "    S = list(Liste.keys()) #Liste des sommets\n",
    "    A = list(Poids.keys()) #Liste des arêtes\n",
    "    \n",
    "    #Variable :\n",
    "    x={}\n",
    "    for i in A:\n",
    "        x[i] = LpVariable(\"x\"+\"_\"+str(i),0,1,LpInteger)\n",
    "\n",
    "            \n",
    "    #Objectif :\n",
    "    prob += lpSum([x[i]*Poids[i] for i in A])\n",
    "\n",
    "    #Contraintes :\n",
    "    \n",
    "    prob += lpSum([x[i] for i in A]) == n-1\n",
    "    \n",
    "    for k in range(3,n):\n",
    "        L = list(combination(S,k))\n",
    "        for ensemble in L:\n",
    "            E = []\n",
    "            for arc in A:\n",
    "                for sommet1 in ensemble:\n",
    "                    for sommet2 in ensemble:\n",
    "                        if(sommet1 != sommet2 and arc in Liste[sommet1] and arc in Liste[sommet2] and arc not in E):\n",
    "                            E.append(arc)\n",
    "            prob += lpSum([x[a] for a in E])<=k-1\n",
    "                \n",
    "    #Retour du problème :\n",
    "    return(prob)"
   ]
  },
  {
   "cell_type": "markdown",
   "metadata": {},
   "source": [
    "*Remarque :*\n",
    "\n",
    "Pour modéliser la seconde contrainte, nous avons considéré toutes les combinaisons de $k\\in\\{3,...,n-1\\}$ sommets parmi $n$ sommets au total pour décrire les sous-ensembles $\\bar{S}\\subset S$. Le nombre de contraintes **NbCTR** pour un graphe donné en entrée de $n$ sommets sera donc :\n",
    "\n",
    "$NbCTR = 1+\\sum_{k=3}^{n-1}{C_n^k}=\\sum_{k=0}^{n}{C_n^k}+1-C_n^0-C_n^1-C_n^2-C_n^n=2^n-n-\\frac{n(n-1)}{2}-1$\n",
    "\n",
    "Pour un graphe (de $n$ sommets et de $m$ arêtes) donné en entrée, ce premier modèle contiendra $m$ variables et $2^n-n-\\frac{n(n-1)}{2}-1$ contraintes."
   ]
  },
  {
   "cell_type": "markdown",
   "metadata": {},
   "source": [
    "On crée ensuite une fonction permettant de résoudre le problème et de l'afficher. Cette fonction prend en paramètre le modèle, son nom et une variable booléenne. Si cette dernière est VRAI, on affichera le modèle complet et sa solution en affichant les valeurs de toutes les variables (pour ne pas encombrer l'affichage, seuls les variables $x_a$ égales à 1 sont affichées). Si elle est FAUSSE, la fonction affiche simplement la solution en indiquant seulement le numéro des arêtes présentes dans l'arbre final ainsi que le poids total de cet arbre."
   ]
  },
  {
   "cell_type": "code",
   "execution_count": 22,
   "metadata": {},
   "outputs": [],
   "source": [
    "def SolveAndPrint_1(Modele,name,Affichage_modele = 0): \n",
    "    if(Affichage_modele):\n",
    "        #Affichage du modèle\n",
    "        Modele.writeLP(name)\n",
    "        print(Modele)\n",
    "        #Résolution:\n",
    "        print(\"Solve with CBC\")\n",
    "        Modele.solve(PULP_CBC_CMD())\n",
    "        print(\"Status :\",LpStatus[Modele.status])\n",
    "        #Affichage de la solution :\n",
    "        print(\"Optimal value =\",value(Modele.objective))\n",
    "        print(\"Optimal solution :\")\n",
    "        for v in Modele.variables():\n",
    "            if(v.varValue != 0):\n",
    "                print(v.name,\"=\",v.varValue)\n",
    "    else:\n",
    "        #Résolution:\n",
    "        print(\"Solve with CBC\")\n",
    "        Modele.solve(PULP_CBC_CMD())\n",
    "        print(\"Status :\",LpStatus[Modele.status])\n",
    "        AretesTraites = []\n",
    "        regexp = re.compile(r\"_(\\w+)\")\n",
    "        for v in Modele.variables():\n",
    "            if(v.varValue != 0 and v.name[0] == 'x'):\n",
    "                result = regexp.search(v.name)\n",
    "                if result != None:\n",
    "                    i = result.group(1)\n",
    "                    AretesTraites.append(i)\n",
    "        for arete in AretesTraites:\n",
    "            print(\"L'arbre contient l'arête n°\",arete)\n",
    "        print('Le poids de total de l\\'arbre est de : ',value(Modele.objective))"
   ]
  },
  {
   "cell_type": "markdown",
   "metadata": {},
   "source": [
    "*Exemples et tests :*\n",
    "\n",
    "Nous allons maintenant tester ces fonctions sur des exemples (dont l'exemple du cours) :"
   ]
  },
  {
   "cell_type": "markdown",
   "metadata": {},
   "source": [
    "*Exemple n°1:*"
   ]
  },
  {
   "cell_type": "markdown",
   "metadata": {},
   "source": [
    "![title](image1.png)"
   ]
  },
  {
   "cell_type": "markdown",
   "metadata": {},
   "source": [
    "Ce graphe possède $5$ sommets, il y aura donc $16$ contraintes. "
   ]
  },
  {
   "cell_type": "code",
   "execution_count": 23,
   "metadata": {},
   "outputs": [
    {
     "name": "stdout",
     "output_type": "stream",
     "text": [
      "Solve with CBC\n",
      "Status : Optimal\n",
      "L'arbre contient l'arête n° 0\n",
      "L'arbre contient l'arête n° 3\n",
      "L'arbre contient l'arête n° 5\n",
      "L'arbre contient l'arête n° 6\n",
      "Le poids de total de l'arbre est de :  11.0\n"
     ]
    }
   ],
   "source": [
    "#Création de la liste d'incidence du graphe:\n",
    "L1 = {0:{0,1},1:{1,2,4,5},2:{5,6},3:{3,4,6},4:{0,2,3}}\n",
    "    \n",
    "#Création du dictionnaire des poids:\n",
    "P1 = {0:4,1:5,2:6,3:2,4:4,5:2,6:3}\n",
    "\n",
    "#Recherche de l'arbre couvrant de poids minimum (ACPM):\n",
    "SolveAndPrint_1(ModelePLNE_1(L1,P1),\"ACPM Exemple n°1\")"
   ]
  },
  {
   "cell_type": "markdown",
   "metadata": {},
   "source": [
    "Obtient ainsi l'arbre suivant. On retrouve bien le même résultat obtenu avec l'implémentation des algorithmes de Prim et de Kruskal :"
   ]
  },
  {
   "cell_type": "markdown",
   "metadata": {},
   "source": [
    "![title](image2.png)"
   ]
  },
  {
   "cell_type": "markdown",
   "metadata": {},
   "source": [
    "*Exemple n°2:*\n",
    "\n",
    "On essaye maintenant notre programme sur un graphe possèdant cette fois-ci plus de sommets. Le graphe suivant possède $10$ sommets, il y aura donc $968$ contraintes dans notre programme."
   ]
  },
  {
   "cell_type": "markdown",
   "metadata": {},
   "source": [
    "![title](image3.png)"
   ]
  },
  {
   "cell_type": "code",
   "execution_count": 24,
   "metadata": {},
   "outputs": [
    {
     "name": "stdout",
     "output_type": "stream",
     "text": [
      "Solve with CBC\n",
      "Status : Optimal\n",
      "L'arbre contient l'arête n° 11\n",
      "L'arbre contient l'arête n° 12\n",
      "L'arbre contient l'arête n° 17\n",
      "L'arbre contient l'arête n° 2\n",
      "L'arbre contient l'arête n° 20\n",
      "L'arbre contient l'arête n° 3\n",
      "L'arbre contient l'arête n° 6\n",
      "L'arbre contient l'arête n° 7\n",
      "L'arbre contient l'arête n° 8\n",
      "Le poids de total de l'arbre est de :  38.0\n"
     ]
    }
   ],
   "source": [
    "#Création de la liste d'incidence du graphe:\n",
    "L2 = {0: {0, 16, 20},\n",
    "      1: {0, 1, 2, 4},\n",
    "      2: {1, 3, 14, 15, 20},\n",
    "      3: {2, 3, 5, 6},\n",
    "      4: {4, 5, 7, 8, 9},\n",
    "      5: {8, 10, 11},\n",
    "      6: {9, 11, 12, 13},\n",
    "      7: {10, 12, 18, 19},\n",
    "      8: {6, 7, 13, 14, 17, 18},\n",
    "      9: {15, 16, 17, 19}}\n",
    "    \n",
    "#Création du dictionnaire des poids:\n",
    "P2={}\n",
    "    \n",
    "P2[0]=6; P2[1]=4; P2[2]=2; P2[3]=2; P2[4]=9\n",
    "P2[5]=9; P2[6]=8; P2[7]=7; P2[8]=4; P2[9]=5\n",
    "P2[10]=4; P2[11]=1; P2[12]=3; P2[13]=9; P2[14]=9\n",
    "P2[15]=9; P2[16]=9; P2[17]=8; P2[18]=10; P2[19]=18\n",
    "P2[20]=3\n",
    "\n",
    "#Recherche de l'arbre couvrant de poids minimum (ACPM):\n",
    "SolveAndPrint_1(ModelePLNE_1(L2,P2),\"ACPM Exemple n°2\")"
   ]
  },
  {
   "cell_type": "markdown",
   "metadata": {},
   "source": [
    " On obtient ainsi le résultat suivant. Le sous-graphe retenu est bien un arbre (c'est un graphe connexe et acyclique) et la somme des poids de toutes les arêtes est minimum :"
   ]
  },
  {
   "cell_type": "markdown",
   "metadata": {},
   "source": [
    "![title](image4.png)"
   ]
  },
  {
   "cell_type": "markdown",
   "metadata": {},
   "source": [
    "Il serait maintenant intéressant de tester ce modèle sur des graphes généré aléatoirement (afin d'étudier plus en détail ses performances sur des graphes de grande taille). Précédemment, nous avons crée une fonction *genGraphe2* permettant de générer un graphe connexe non orienté d'un taille donnée (nombre d'arêtes et de sommets) dont chacun des ses arcs possède un poids. Le graphe crée possède un double dictionnaire contenant ses arêtes et les poids associés. Nous allons donc créer une fonction \"ConvertirListe\" qui à partir de ce double dictionnaire créé la liste d'incidence du graphe et un dictionnaire de poids qui lui est associé."
   ]
  },
  {
   "cell_type": "code",
   "execution_count": 25,
   "metadata": {},
   "outputs": [],
   "source": [
    "def ConvertirListe(Dictionnaire):\n",
    "    Aretes = {}\n",
    "    Poids = {}\n",
    "    Adjacence = {}\n",
    "    k = 0\n",
    "    for i in Dictionnaire:\n",
    "        for j in Dictionnaire[i]:\n",
    "            if({i,j} not in Aretes.values()):\n",
    "                Aretes[k] = {i,j}\n",
    "                Poids[k] = Dictionnaire[i][j]\n",
    "                k +=1\n",
    "    for v in Dictionnaire:\n",
    "        L =[]\n",
    "        for a in Aretes:\n",
    "            if v in Aretes[a]:\n",
    "                L.append(a)\n",
    "        Adjacence[v] = set(L)\n",
    "    return(Adjacence,Poids)\n",
    "    "
   ]
  },
  {
   "cell_type": "markdown",
   "metadata": {},
   "source": [
    "On peut maintenant tester ce modèle sur des graphes générés aléatoirement. On compare également la solution obtenue avec le modèle PLNE avec celles des algorithmes de Prim et de Kruskal (On n'affichera que les poids des arbres obtenus pour les algorithmes de Prim et Kruskal) :"
   ]
  },
  {
   "cell_type": "code",
   "execution_count": 26,
   "metadata": {},
   "outputs": [
    {
     "name": "stdout",
     "output_type": "stream",
     "text": [
      "Solve with CBC\n",
      "Status : Optimal\n",
      "L'arbre contient l'arête n° 1\n",
      "L'arbre contient l'arête n° 10\n",
      "L'arbre contient l'arête n° 11\n",
      "L'arbre contient l'arête n° 14\n",
      "L'arbre contient l'arête n° 16\n",
      "L'arbre contient l'arête n° 17\n",
      "L'arbre contient l'arête n° 18\n",
      "L'arbre contient l'arête n° 3\n",
      "L'arbre contient l'arête n° 5\n",
      "Le poids de total de l'arbre est de :  36.0\n",
      "Poids de l'abre obtenu avec l'algorithme de Kruskal:  36.0\n",
      "Poids de l'abre obtenu avec l'algorithme de Prim:  36.0\n"
     ]
    }
   ],
   "source": [
    "#On génère un graphe non orienté connexe de 15 sommets \n",
    "G3 = genGraphe2(10,20,1,10)\n",
    "\n",
    "#On récupère la liste d'incidence du graphe ainsi que le dictionnaire de poids associé\n",
    "L3,P3 = ConvertirListe(G3.ar)\n",
    "\n",
    "#Recherche de l'arbre couvrant de poids minimum (ACPM):\n",
    "SolveAndPrint_1(ModelePLNE_1(L3,P3),\"ACPM Exemple graphe connexe aléatoire\")\n",
    "\n",
    "#Solution algorithme de Kruskal :\n",
    "Arbre_K = Kruskal2(G3)\n",
    "Poid_total_K = 0\n",
    "for i in Arbre_K.ar:\n",
    "    for j in Arbre_K.ar[i]:\n",
    "        Poid_total_K += Arbre_K.ar[i][j]\n",
    "Poid_total_K = Poid_total_K/2\n",
    "print(\"Poids de l'abre obtenu avec l'algorithme de Kruskal: \",Poid_total_K)\n",
    "\n",
    "#Solution algorithme de Prim :\n",
    "Arbre_P = Prim2(G3)\n",
    "Poid_total_P = 0\n",
    "for i in Arbre_P.ar:\n",
    "    for j in Arbre_P.ar[i]:\n",
    "        Poid_total_P += Arbre_P.ar[i][j]\n",
    "Poid_total_P = Poid_total_P/2\n",
    "print(\"Poids de l'abre obtenu avec l'algorithme de Prim: \",Poid_total_P)"
   ]
  },
  {
   "cell_type": "markdown",
   "metadata": {},
   "source": [
    "Ceci nous a donc permis de verifier que ce premier modèle renvoyait bien les mêmes résultats que les algorithmes de Prim et Kruskal implémentés précédemment."
   ]
  },
  {
   "cell_type": "markdown",
   "metadata": {},
   "source": [
    "Nous savons maintenant que ce premier modèle fonctionne. Il a été testé sur des graphes de petite taille (>10 sommets) mais qu'en est-t-il pour des instances plus grandes ? Nous avons vu que le nombre de contraintes générées était de $2^n-n-\\frac{n(n-1)}{2}-1$, cela signifie que le nombre de contraintes augmente très rapidement avec le nombre de sommets du graphe à traiter."
   ]
  },
  {
   "cell_type": "markdown",
   "metadata": {},
   "source": [
    "Nous proposons donc un second modèle qui génèrera moins de contraintes que celui-ci."
   ]
  },
  {
   "cell_type": "markdown",
   "metadata": {},
   "source": [
    "**2) Second modèle**"
   ]
  },
  {
   "cell_type": "markdown",
   "metadata": {},
   "source": [
    "On considère toujours $G=(S,A)$ un graphe non-orienté connexe. Chaque arête $\\{i,j\\}$$\\in$$A$ est munie d’un poids $p_{ij}$.\n",
    "Pour modéliser ce problème, on crée cette fois-ci un graphe orienté $\\bar{G}=(S,\\bar{A})$ associé à $G$ tel que $\\forall \\{u,v\\}\\in A$ on a $(u,v)\\in \\bar{A}$ et $(v,u)\\in \\bar{A}$ (Pour charque arête de $G$, on crée deux arcs de sens inverse dans $\\bar{G}$). On cherche un arbre $T=(S,A_T)$ tel que $A_T \\subset A$ dont le poids total est minimum. Le second modèle que nous proposons utilisera des flots dans le graphe $\\bar{G}$ permettant d'assurer la connexité dans l'arbre final $T$. En effet, si on prend un sommet $s$ quelconque de $S$, $T$ est connexe si et seulement si pour tous $t\\in S\\backslash \\{s\\}$, il existe un flot $s-t$ compatible de valeur $1$ dans $\\bar{T}$ le graphe orienté associé à $T$."
   ]
  },
  {
   "cell_type": "markdown",
   "metadata": {},
   "source": [
    "*Variable :*\n",
    "\n",
    "- $\\forall (i,j) \\in \\bar{A}$, $x_{ij}$ est une variable de décision binaire $(x_{ij} \\in \\{0,1\\})$ et $x_{ij}=1$ si $\\{i,j\\}$ est dans $T$ (On a donc forcément $x_{ij}=x_{ji}$). \n",
    "- On choisit arbitrairement une source parmi $S$ que l’on note $s$. $\\forall  t \\in S\\backslash \\{s\\}$ et $\\forall (i,j)\\in \\bar{A}$,  $f_{(i,j)}^t$ est une variable binaire $(f_{(i,j)}^t \\in \\{0,1\\})$ donnant la valeur d’un flot $s-t$ compatible de valeur 1 passant sur l’arc $(i,j)$. $f_{(i,j)}^t=1$ s’il existe un flot  $s-t$ valant 1 passant par $(i,j)$.\n",
    "\n",
    "*Objectif :*\n",
    "\n",
    "On cherche à trouver un ensemble d'arêtes tel que le graphe $T$ restreint à cet ensemble d'arêtes est un arbre. On cherche enfin à minimiser le poids total de l'arbre $T$ (ici la valeur de l'objectif est divisée par 2 car chaque arête est représentée par 2 arcs dans $\\bar{G}$):\n",
    "\n",
    "$$\\min{\\frac{1}{2}\\sum_{(i,j)\\in \\bar{A}}{p_{ij}x_{ij}}}$$\n",
    "\n",
    "\n",
    "*Contraintes :*\n",
    "\n",
    "- Dans $\\bar{G}$, si on choisit un arc dans un sens alors on prend aussi celui dans l'autre sens : $\\forall i,j \\in S, x_{ij} = x_{ji}$.\n",
    "- Pour tous les sommets$t$ différents de $s$, le flot $s-t$ doit respecter la loi de conservation des flux :\n",
    "\n",
    "$$\\forall t \\in S\\backslash \\{s\\}, \\forall x \\in S\\backslash \\{s,t\\}, \\sum_{(u,x)\\in \\delta^{-}(x)}{f_{(u,x)}^t} = \\sum_{(x,v)\\in \\delta^{+}(x)}{f_{(x,v)}^t}$$\n",
    "\n",
    "- Pour tous les sommets $t$ différents de $s$, la flot $s-t$ doit être égale à 1 :\n",
    "\n",
    "$$\\forall t \\in S\\backslash \\{s\\},  \\sum_{(s,v)\\in \\delta^{+}(s)}{f_{(s,v)}^t} = 1$$\n",
    "\n",
    "$$\\forall t \\in S\\backslash \\{s\\},  \\sum_{(u,t)\\in \\delta^{-}(t)}{f_{(u,t)}^t} = 1$$\n",
    "\n",
    "- Pour tous les sommets $t$ différents de $s$, le flot $s-t$ entrant dans $s$ doit être nul :\n",
    "\n",
    "$$\\forall t \\in S\\backslash \\{s\\},  \\sum_{(u,s)\\in \\delta^{-}(s)}{f_{(u,s)}^t} = 0$$\n",
    "\n",
    "- Pour tous les sommets $t$ différents de $s$, la flot $s-t$ sortant de $t$ doit être nul :\n",
    "\n",
    "$$\\forall t \\in S\\backslash \\{s\\},  \\sum_{(t,v)\\in \\delta^{+}(t)}{f_{(t,v)}^t} = 0$$\n",
    "\n",
    "- Si $T$ est connexe alors $T$ est un arbre si $|A_T| = |S|-1$ (Chaque arête dans $T$ est représentée par 2 arcs donc on multiplie $|S|-1$ par 2):\n",
    "\n",
    "$$\\sum_{(i,j) \\in S}{x_{ij}} = 2 \\times (n-1)$$\n",
    "\n",
    "- Un flot ne peut valoir 1 sur une arête que si elle est choisie : $\\forall t\\in S\\backslash \\{s\\}, \\forall (i,j)\\in \\bar{A}, f_{(i,j)}^t \\le x_{i,j}$\n"
   ]
  },
  {
   "cell_type": "markdown",
   "metadata": {},
   "source": [
    "On crée donc d'abord une fonction chargée de construire ce nouveau modèle. Elle prendra en argument un double dictionnaire contenant les arêts du graphe (Comme l'attribut \"Graphe.ar\" de la classe \"Graphe()\"). Cette fonction renvoie le modèle non résolu."
   ]
  },
  {
   "cell_type": "code",
   "execution_count": 27,
   "metadata": {},
   "outputs": [],
   "source": [
    "def ModelePLNE_2(A):\n",
    "    \n",
    "    #Création du problème :\n",
    "    prob = LpProblem(\"ACPM\",LpMinimize)\n",
    "    S = list(A.keys()).copy() #Liste contenant les sommets du graphe (On effctue un copie car on est amené à retirer un sommet)\n",
    "    n = len(S) #Nombre de sommets du graphe\n",
    "    VsansSource = S\n",
    "    s = VsansSource.pop(0)\n",
    "    \n",
    "    #Variable :\n",
    "    x={}\n",
    "    for i in A.keys():\n",
    "        x[i] = {}\n",
    "        for j in A[i].keys():\n",
    "            x[i][j] = LpVariable(\"x_\"+str(i)+\"_\"+str(j),0,1,LpInteger)\n",
    "            \n",
    "    f={}\n",
    "    for i in A.keys():\n",
    "        f[i] = {}\n",
    "        for j in A[i].keys():\n",
    "            f[i][j] = {}\n",
    "            for t in VsansSource:\n",
    "                f[i][j][t] = LpVariable(\"f_\"+str(i)+\"_\"+str(j)+\"_\"+str(t),0,1,LpInteger)\n",
    "                    \n",
    "            \n",
    "    #Objectif :\n",
    "    prob += 1/2*lpSum([lpSum([x[i][j]*A[i][j] for j in A[i].keys()] for i in A.keys())])\n",
    "\n",
    "    #Contraintes :\n",
    "    for i in A.keys():\n",
    "        for j in A[i].keys():\n",
    "            prob += x[i][j] == x[j][i]\n",
    "            \n",
    "    for t in VsansSource:\n",
    "        for a in S:\n",
    "            if(a not in [s,t]):\n",
    "                prob += lpSum([f[a][j][t] for j in A[a].keys()]) == lpSum([f[i][a][t] for i in A.keys() if a in list(A[i].keys())])\n",
    "    \n",
    "    for t in VsansSource:\n",
    "        prob += lpSum([f[s][j][t] for j in A[s].keys()]) == 1\n",
    "        prob += lpSum([f[i][s][t] for i in A.keys() if s in list(A[i].keys())]) == 0\n",
    "    \n",
    "    for t in VsansSource:\n",
    "        prob += lpSum([f[i][t][t] for i in A.keys() if t in list(A[i].keys())]) == 1\n",
    "        prob += lpSum([f[t][j][t] for j in A[t].keys()]) == 0\n",
    "        \n",
    "    prob += lpSum([lpSum([x[i][j] for j in A[i].keys()]) for i in A.keys()]) == 2*(n-1)\n",
    "    \n",
    "    for t in VsansSource:\n",
    "        for i in A.keys():\n",
    "            for j in A[i].keys():\n",
    "                prob += f[i][j][t] <= x[i][j]\n",
    "            \n",
    "    #Retour du problème :\n",
    "    return(prob)\n",
    "\n"
   ]
  },
  {
   "cell_type": "markdown",
   "metadata": {},
   "source": [
    "*Remarque:*\n",
    "\n",
    "Si le graphe donné en entré possède $n$ sommets et $m$ arêtes, le second modèle génère $2 m + 2 m (n-1)$ variables et $2 m + (n-1) (n-2) + 4 (n-1) + 2 m (n-1) +1$ contraintes. Ces données seront intéressantes lorsque nous comparerons les performances des 2 modèles. "
   ]
  },
  {
   "cell_type": "markdown",
   "metadata": {},
   "source": [
    "De le même manière on créé une nouvelle fonction de résolution et d'affichage du modèle qui prendra en paramètre le modèle, son nom et un indicateur booléen. Si cet indicateur est vrai, on affichera alors l'intégralité du modèle et en particulier les valeurs de chaque variable. Si il est faux, l'affichage ne se limitera qu'aux arêtes contenues dans l'abre final et à la valeur de l'objectif (poid de l'arbre)."
   ]
  },
  {
   "cell_type": "code",
   "execution_count": 28,
   "metadata": {},
   "outputs": [],
   "source": [
    "def SolveAndPrint_2(Modele,name,Affichage_modele=0):\n",
    "    if(Affichage_modele):\n",
    "        #Affichage du modèle\n",
    "        Modele.writeLP(name)\n",
    "        print(Modele)\n",
    "        #Résolution:\n",
    "        print(\"Solve with CBC\")\n",
    "        Modele.solve(PULP_CBC_CMD())\n",
    "        print(\"Status :\",LpStatus[Modele.status])\n",
    "        #Affichage de la solution :\n",
    "        print(\"Optimal value =\",value(Modele.objective))\n",
    "        print(\"Optimal solution :\")\n",
    "        for v in Modele.variables():\n",
    "            if(v.varValue != 0):\n",
    "                print(v.name,\"=\",v.varValue)\n",
    "    else:\n",
    "        #Résolution:\n",
    "        print(\"Solve with CBC\")\n",
    "        Modele.solve(PULP_CBC_CMD())\n",
    "        print(\"Status :\",LpStatus[Modele.status])\n",
    "        #Affichage de la solution :\n",
    "        AretesTraites = []\n",
    "        regexp = re.compile(r\"_(\\w+)_(\\w+)\")\n",
    "        for v in Modele.variables():\n",
    "            if(v.varValue != 0 and v.name[0] == 'x'):\n",
    "                result = regexp.search(v.name)\n",
    "                if result != None:\n",
    "                    i = result.group(1)\n",
    "                    j = result.group(2)\n",
    "                    if([j,i] not in AretesTraites):\n",
    "                        AretesTraites.append([i,j])\n",
    "        for arete in AretesTraites:\n",
    "            print(\"L'arbre contient l'arête {\",arete[0],\",\",arete[1],\"}\")\n",
    "        print('Le poids de total de l\\'arbre est de : ',value(Modele.objective))"
   ]
  },
  {
   "cell_type": "markdown",
   "metadata": {},
   "source": [
    "Comme pour le précédent modèle, on effectue des test sur les 2 exemples proposés:"
   ]
  },
  {
   "cell_type": "markdown",
   "metadata": {},
   "source": [
    "*Exemple n°1:*"
   ]
  },
  {
   "cell_type": "code",
   "execution_count": 29,
   "metadata": {
    "scrolled": true
   },
   "outputs": [
    {
     "name": "stdout",
     "output_type": "stream",
     "text": [
      "Solve with CBC\n",
      "Status : Optimal\n",
      "L'arbre contient l'arête { A , E }\n",
      "L'arbre contient l'arête { B , C }\n",
      "L'arbre contient l'arête { C , D }\n",
      "L'arbre contient l'arête { D , E }\n",
      "Le poids de total de l'arbre est de :  11.0\n"
     ]
    }
   ],
   "source": [
    "#Création du graphe:\n",
    "G1 = Graphe()\n",
    "G1.ajouterArete('A','B',5)\n",
    "G1.ajouterArete('B','C',2)\n",
    "G1.ajouterArete('C','D',3)\n",
    "G1.ajouterArete('D','E',2)\n",
    "G1.ajouterArete('E','A',4)\n",
    "G1.ajouterArete('E','B',6)\n",
    "G1.ajouterArete('B','D',4)\n",
    "\n",
    "#Résolution à l'aide du second modèle\n",
    "SolveAndPrint_2(ModelePLNE_2(G1.ar),\"ACPM exemple n°1\")"
   ]
  },
  {
   "cell_type": "markdown",
   "metadata": {},
   "source": [
    "On retrouve bien le même résultat que celui obtenu avec le premier modèle."
   ]
  },
  {
   "cell_type": "markdown",
   "metadata": {},
   "source": [
    "*Exemple n°2:*"
   ]
  },
  {
   "cell_type": "code",
   "execution_count": 30,
   "metadata": {
    "scrolled": true
   },
   "outputs": [
    {
     "name": "stdout",
     "output_type": "stream",
     "text": [
      "Solve with CBC\n",
      "Status : Optimal\n",
      "L'arbre contient l'arête { 10 , 9 }\n",
      "L'arbre contient l'arête { 1 , 3 }\n",
      "L'arbre contient l'arête { 2 , 4 }\n",
      "L'arbre contient l'arête { 3 , 4 }\n",
      "L'arbre contient l'arête { 4 , 9 }\n",
      "L'arbre contient l'arête { 5 , 6 }\n",
      "L'arbre contient l'arête { 5 , 9 }\n",
      "L'arbre contient l'arête { 6 , 7 }\n",
      "L'arbre contient l'arête { 7 , 8 }\n",
      "Le poids de total de l'arbre est de :  38.0\n"
     ]
    }
   ],
   "source": [
    "#Création du graphe (On crée cette fois-ci directement le double dictionnaire sans passer par la classe Graphe):\n",
    "G2={}\n",
    "G2[1]={2:6,3:3,10:9}\n",
    "G2[2]={1:6,3:4,4:2,5:9}\n",
    "G2[3]={1:3,10:9,9:9,4:2,2:4}\n",
    "G2[4]={3:2,9:8,5:9,2:2}\n",
    "G2[5]={2:9,4:9,9:7,7:5,6:4}\n",
    "G2[6]={5:4,7:1,8:4}\n",
    "G2[7]={5:5,6:1,8:3,9:9}\n",
    "G2[8]={6:4,7:3,9:10,10:18}\n",
    "G2[9]={10:8,3:9,4:8,5:7,7:9,8:10}\n",
    "G2[10]={1:9,3:9,9:8,8:18}\n",
    "\n",
    "#Résolution à l'aide du second modèle\n",
    "SolveAndPrint_2(ModelePLNE_2(G2),\"ACPM exemple n°2\")"
   ]
  },
  {
   "cell_type": "markdown",
   "metadata": {},
   "source": [
    "On obtient le même résultat que celui obtenu avec le premier modèle."
   ]
  },
  {
   "cell_type": "markdown",
   "metadata": {},
   "source": [
    "*Exemple n°3:*\n",
    "\n",
    "On peut maintenant test ce modèle sur un graphe connexe généré aléatoirement en comparant le résulat obtenue avec les algorithmes de Prim et Kruskal."
   ]
  },
  {
   "cell_type": "code",
   "execution_count": 31,
   "metadata": {},
   "outputs": [
    {
     "name": "stdout",
     "output_type": "stream",
     "text": [
      "Solve with CBC\n",
      "Status : Optimal\n",
      "L'arbre contient l'arête { 10 , 2 }\n",
      "L'arbre contient l'arête { 10 , 8 }\n",
      "L'arbre contient l'arête { 1 , 2 }\n",
      "L'arbre contient l'arête { 1 , 5 }\n",
      "L'arbre contient l'arête { 3 , 9 }\n",
      "L'arbre contient l'arête { 4 , 8 }\n",
      "L'arbre contient l'arête { 5 , 6 }\n",
      "L'arbre contient l'arête { 6 , 7 }\n",
      "L'arbre contient l'arête { 6 , 9 }\n",
      "Le poids de total de l'arbre est de :  22.0\n",
      "Poids de l'abre obtenu avec l'algorithme de Kruskal:  22.0\n",
      "Poids de l'abre obtenu avec l'algorithme de Prim:  22.0\n"
     ]
    }
   ],
   "source": [
    "#On génère un graphe non orienté connexe de 15 sommets \n",
    "G3 = genGraphe2(10,20,1,10)\n",
    "\n",
    "#Recherche de l'arbre couvrant de poids minimum (ACPM):\n",
    "SolveAndPrint_2(ModelePLNE_2(G3.ar),\"ACPM Exemple graphe connexe aléatoire\")\n",
    "\n",
    "#Solution algorithme de Kruskal :\n",
    "Arbre_K = Kruskal2(G3)\n",
    "Poid_total_K = 0\n",
    "for i in Arbre_K.ar:\n",
    "    for j in Arbre_K.ar[i]:\n",
    "        Poid_total_K += Arbre_K.ar[i][j]\n",
    "Poid_total_K = Poid_total_K/2\n",
    "print(\"Poids de l'abre obtenu avec l'algorithme de Kruskal: \",Poid_total_K)\n",
    "\n",
    "#Solution algorithme de Prim :\n",
    "Arbre_P = Prim2(G3)\n",
    "Poid_total_P = 0\n",
    "for i in Arbre_P.ar:\n",
    "    for j in Arbre_P.ar[i]:\n",
    "        Poid_total_P += Arbre_P.ar[i][j]\n",
    "Poid_total_P = Poid_total_P/2\n",
    "print(\"Poids de l'abre obtenu avec l'algorithme de Prim: \",Poid_total_P)"
   ]
  },
  {
   "cell_type": "markdown",
   "metadata": {
    "scrolled": true
   },
   "source": [
    "On remarque que les algorithmes de Prim et de Kruskal fournissent bien le même résultat que le second modèle."
   ]
  },
  {
   "cell_type": "markdown",
   "metadata": {},
   "source": [
    "**3) Analyse et comparaison des 2 modèles**"
   ]
  },
  {
   "cell_type": "markdown",
   "metadata": {},
   "source": [
    "Nous disponsons maintenant de 2 modèles PLNE dont les caractéristiques sont les suivantes :\n",
    "\n",
    "*Modèle n°1:*\n",
    "\n",
    "Pour un graphe $G=(S,A)$ donné en entré avec $|S|=n$ et $|A|=m$:\n",
    "\n",
    "* Nombre de variables : $m$\n",
    "* Nombre de contraintes :  $2^n-n-\\frac{n(n-1)}{2}-1$\n",
    "\n",
    "*Modèle n°2:*\n",
    "\n",
    "Pour un graphe $G=(S,A)$ donné en entré avec $|S|=n$ et $|A|=m$:\n",
    "\n",
    "* Nombre de variables : $2m+2m(n-1)$\n",
    "* Nombre de contraintes :  $2m+(n-1)(n-2)+4(n-1)+1+2(n-1)m$"
   ]
  },
  {
   "cell_type": "markdown",
   "metadata": {},
   "source": [
    "Si par exemple, on ne s'intéresse qu'au nombre de contraintes on remarque que celui-ci va augmenter différemment lorsque l'on augmente la taille du graphe (nombre de sommets et nombre d'arrêtes). Voici par exemple un tableau comparant le nombre de contraintes pour 2 graphes de taille différentes :"
   ]
  },
  {
   "cell_type": "markdown",
   "metadata": {},
   "source": [
    "![title](image5.png)"
   ]
  },
  {
   "cell_type": "markdown",
   "metadata": {},
   "source": [
    "On notera que pour de petites valeurs de $n$ et de $m$, le modèle n°1 semble génèrer moins de contraintes que le modèle n°2 mais ce n'est plus le cas lorsque les valeurs de $n$ et de $m$ augmentent. En effet le nombre de contraintes générées par le modèle n°1 semble exploser (à cause du terme $2^n$)."
   ]
  },
  {
   "cell_type": "markdown",
   "metadata": {},
   "source": [
    "Pour illustrer cela, nous allons déterminer l'évolution du temps d'exécution des 2 modèles lorsque le nombre  de sommets $n$ du graphe augmente. Pour cela nous allons générer plusieurs graphes connexes non orientés avec un nombre croissant de sommets et comparer les temps d'exécution des 2 modèles pour trouver l'arbre couvrant de poids mininmum. (Remarque: Si on suppose qu'entre 2 sommets il ne peut y avoir qu'une seule arête alors un graphe contenant $n$ sommets contiendra au plus $n(n-1)/2$ arêtes et il sera alors saturé en arêtes. Lorsque nous génèrerons nos graphes de $n$ sommets, nous fixerons donc le nombre d'arêtes à $n(n-1)/2$ pour que la taille des graphes générés ne dépende plus que d'un paramètre)"
   ]
  },
  {
   "cell_type": "markdown",
   "metadata": {},
   "source": [
    "Tous d'abord, on crée une fonction permettant simplement de résoudre un modèle PLNE sans afficher la solution (Afin de ne pas encombrer l'affichage):"
   ]
  },
  {
   "cell_type": "code",
   "execution_count": 32,
   "metadata": {},
   "outputs": [],
   "source": [
    "def JustSolve(Modele,numero):\n",
    "    Modele.solve(PULP_CBC_CMD())\n",
    "    if(LpStatus[Modele.status] == \"Optimal\"):\n",
    "        print(\"Modele\",numero,\": OK\")"
   ]
  },
  {
   "cell_type": "markdown",
   "metadata": {},
   "source": [
    "On compare ensuite nos 2 modèles. Attention la cellule suivante peut mettre un certain temps à s'exécuter (Environ 30 secondes) :"
   ]
  },
  {
   "cell_type": "code",
   "execution_count": 33,
   "metadata": {},
   "outputs": [
    {
     "name": "stdout",
     "output_type": "stream",
     "text": [
      "Itération 0\n",
      "Modele 1 : OK\n",
      "Modele 2 : OK\n",
      "Itération 1\n",
      "Modele 1 : OK\n",
      "Modele 2 : OK\n",
      "Itération 2\n",
      "Modele 1 : OK\n",
      "Modele 2 : OK\n",
      "Itération 3\n",
      "Modele 1 : OK\n",
      "Modele 2 : OK\n",
      "Itération 4\n",
      "Modele 1 : OK\n",
      "Modele 2 : OK\n",
      "Itération 5\n",
      "Modele 1 : OK\n",
      "Modele 2 : OK\n",
      "Itération 6\n",
      "Modele 1 : OK\n",
      "Modele 2 : OK\n",
      "Itération 7\n",
      "Modele 1 : OK\n",
      "Modele 2 : OK\n",
      "Itération 8\n",
      "Modele 1 : OK\n",
      "Modele 2 : OK\n",
      "Itération 9\n",
      "Modele 1 : OK\n",
      "Modele 2 : OK\n",
      "Temps total d'excécution : 50.05288028717041\n"
     ]
    },
    {
     "data": {
      "image/png": "[encoded data removed]",
      "text/plain": [
       "<Figure size 432x288 with 1 Axes>"
      ]
     },
     "metadata": {
      "needs_background": "light"
     },
     "output_type": "display_data"
    }
   ],
   "source": [
    "nTest=[i for i in range(5,15)] #On génère successivement des graphes de 5 à 14 sommets\n",
    "tModele1 = [] #Valeurs du modèle 1\n",
    "tModele2 = [] #Valeurs du modèle 2\n",
    "T1 = time.time()\n",
    "for i in nTest:\n",
    "    print(\"Itération\",i-5)\n",
    "    G = genGraphe2(i,int(i*(i-1)/2+1),1,10)\n",
    "    L,P = ConvertirListe(G.ar)\n",
    "    t1 = time.time()\n",
    "    JustSolve(ModelePLNE_1(L,P),1)\n",
    "    t2 = time.time()\n",
    "    tModele1.append(t2-t1)\n",
    "    t1 = time.time()\n",
    "    JustSolve(ModelePLNE_2(G.ar),2)\n",
    "    t2 = time.time()\n",
    "    tModele2.append(t2-t1)\n",
    "T2 = time.time()\n",
    "print(\"Temps total d'excécution :\", T2-T1)\n",
    "plt.plot(nTest,tModele1,label=\"Modele1\")\n",
    "plt.plot(nTest,tModele2,label=\"Modele2\")\n",
    "plt.legend()\n",
    "plt.title(\"Comparaison des temps \\n d'exécution des 2 modèles\")\n",
    "plt.xlabel(\"nombre de sommets\")\n",
    "plt.ylabel(\"temps d'exécution (s)\")\n",
    "plt.show()"
   ]
  },
  {
   "cell_type": "markdown",
   "metadata": {},
   "source": [
    "Sur le graphe affiché précédemment, on remarque que le temps d'exécution du modèle n°1 augmente de plus en plus vite par rapport au temps d'exécution du modèle n°2 ce qui confirme nos hypothèse précédentes. On en déduit qu'il est plus intéressant d'utiliser le second modèle pour des graphes de grande taille. Par exemple, pour des problèmes concret de grande dimension (installation d'un réseau de type fibre couvrant un certain nombre de villes sur une carte) il sera préférable d'utiliser le modèle n°2. En revanche, pour des graphes de plus petite taille (> 10 sommets), on notera que les performances des 2 modèles sont similaires et même que pour des graphes suffisamment petit, le modèle n°1 est plus efficace que le modèle n°2 (cf: exemple du tableau ci-dessus). Ainsi, le choix du modèle  dépendra de la taille du problème à traiter. "
   ]
  },
  {
   "cell_type": "markdown",
   "metadata": {},
   "source": [
    "Enfin, nous pouvons comparer les performances du second modèle avec les algorithmes de Prim et Kruskal en comparant leurs temps d'exécution sur des graphes de taille croissante."
   ]
  },
  {
   "cell_type": "code",
   "execution_count": null,
   "metadata": {},
   "outputs": [
    {
     "name": "stdout",
     "output_type": "stream",
     "text": [
      "Itération 0\n",
      "Modele 2 : OK\n",
      "Itération 1\n",
      "Modele 2 : OK\n",
      "Itération 2\n",
      "Modele 2 : OK\n",
      "Itération 3\n",
      "Modele 2 : OK\n",
      "Itération 4\n",
      "Modele 2 : OK\n",
      "Itération 5\n",
      "Modele 2 : OK\n",
      "Itération 6\n",
      "Modele 2 : OK\n",
      "Itération 7\n",
      "Modele 2 : OK\n",
      "Itération 8\n",
      "Modele 2 : OK\n",
      "Itération 9\n"
     ]
    }
   ],
   "source": [
    "nTest=[i for i in range(5,20)] #On génère successivement des graphes de 5 à 20 sommets\n",
    "tModele2 = [] #Valeurs du modèle 2\n",
    "tPrim2 = [] #Valeurs Prim2\n",
    "tKruskal2 = [] #Valeurs Kruskal2\n",
    "T1 = time.time()\n",
    "for i in nTest:\n",
    "    print(\"Itération\",i-5)\n",
    "    G = genGraphe2(i,int(i*(i-1)/2+1),1,10)\n",
    "    t1 = time.time()\n",
    "    JustSolve(ModelePLNE_2(G.ar),2)\n",
    "    t2 = time.time()\n",
    "    tModele2.append(t2-t1)\n",
    "    t1 = time.time()\n",
    "    Arbre_P = Prim2(G)\n",
    "    t2 = time.time()\n",
    "    tPrim2.append(t2-t1)\n",
    "    t1 = time.time()\n",
    "    Arbre_K = Kruskal2(G)\n",
    "    t2 = time.time()\n",
    "    tKruskal2.append(t2-t1)\n",
    "T2 = time.time()\n",
    "print(\"Temps total d'excécution :\", T2-T1)\n",
    "plt.plot(nTest,tModele2,label=\"Modele 2\")\n",
    "plt.plot(nTest,tPrim2,label=\"Algorithme de Prim\")\n",
    "plt.plot(nTest,tKruskal2,label=\"Algorithme de Kruskal\")\n",
    "plt.legend()\n",
    "plt.title(\"Comparaison des temps d'exécution \\n (Modèle n°2, Algorithme de Prim, Algorithme de Kruskal)\")\n",
    "plt.xlabel(\"nombre de sommets\")\n",
    "plt.ylabel(\"temps d'exécution (s)\")\n",
    "plt.show()"
   ]
  },
  {
   "cell_type": "markdown",
   "metadata": {},
   "source": [
    "Sur le graphique précédent, on observe que les temps d'exécution des algorithmes de Prim et de Kruskal sont nettement inférieurs au temps d'exécution du modèle n°2 lorsque la taille du graphe à traiter augmente. Ainsi le second modèle est certes performant pour des problèmes de grande taille par rapport au modèle n°1 mais il reste cependant moins efficace que les algorithmes de Prim et Kruskal (Versions optimisées). Ces 3 méthodes permettent toutes d'obtenir une solution exacte au problème mais les algorithmes semblent plus rapides que le modèle n°2, il sera donc plus intéressant d'utiliser l'un des deux algorithmes plutôt qu'un modèle PLNE pour traiter des problèmes concerts de grande taille. Ici les algorithmes sont plus intéressant qu'un modèle PLNE car ils renvoient une solution exacte et possède une compléxité polynomiale mais nous allons voir que dans certains problème comme celui de 'l'arbre de Steiner dans les graphes', il n'existe pas d'algorithme fournissant une solution exacte et ayant une compléxité polynomiale. Dans ce genre de problème, le modèle PLNE peut devenir cette fois-ci plus intéressant car il devient le seul moyen d'avoir une solution exacte pour des problèmes de grande taille en un temps raisonnable."
   ]
  },
  {
   "cell_type": "markdown",
   "metadata": {},
   "source": [
    "## Extension du projet : Le problème de l'abre de Steiner dans les graphes"
   ]
  },
  {
   "cell_type": "markdown",
   "metadata": {},
   "source": [
    "Le problème de l'arbre de Steiner dans les graphes peut s'écrire de la manière suivante. Soit $G=(S,A)$ un graphe non-orienté connexe et $S'$$\\subset$ $S$ un sous-ensemble de sommets appelés les terminaux (ou le 'groupe'). Chaque arête $\\{i,j\\}$$\\in$$A$ est munie d’un poids $p_{ij}$. On cherche un arbre $T=(S_{T},A_{T})$ couvrant tous les terminaux (Autrement dit on doit avoir $S'$$\\subset$$S_{T}$) et de poids minimum.\n",
    "Pour modéliser ce problème, on crée de la même manière que pour le modèle n°2, un graphe orienté $\\bar{G}=(S,\\bar{A})$ tel que $\\forall \\{u,v\\}\\in A$ on a $(u,v)\\in \\bar{A}$ et $(v,u)\\in \\bar{A}$ (Pour charque arête de $G$, on crée deux arcs de sens inverse dans $\\bar{G}$).\n"
   ]
  },
  {
   "cell_type": "markdown",
   "metadata": {},
   "source": [
    "**1) Modèle PLNE**"
   ]
  },
  {
   "cell_type": "markdown",
   "metadata": {},
   "source": [
    "On utilisera à partir de maintenant les notations définies dans l'introduction précédente. Pour modéliser le problème de l'arbre de Steiner dans les graphes, nous allons également utiliser des flots dans le graphe $\\bar{G}$."
   ]
  },
  {
   "cell_type": "markdown",
   "metadata": {},
   "source": [
    "*Variable :*\n",
    "\n",
    "- $\\forall (i,j) \\in \\bar{A}$, $x_{ij}$ est une variable de décision binaire $(x_{ij} \\in \\{0,1\\})$ et $x_{ij}=1$ si $\\{i,j\\}$ est dans $T$ (On a donc $x_{ij}=x_{ji}$). \n",
    "- On choisit arbitrairement une source parmi les terminaux que l’on note $s$. $\\forall  t \\in S'\\backslash \\{s\\}$ et $\\forall (i,j)\\in \\bar{A}$,  $f_{(i,j)}^t$ est une variable binaire $(f_{(i,j)}^t \\in \\{0,1\\})$ donnant la valeur d’un flot $s-t$ compatible de valeur 1 passant sur l’arc $(i,j)$. $f_{(i,j)}^t=1$ s’il existe un flot  $s-t$ valant 1 passant par $(i,j)$.\n",
    "- $\\forall k \\in S$, $v_k$ est une variable de décision binaire $(v_k \\in \\{0,1\\})$ et $v_k=1$ si le sommet $k$ est dans $T$.\n",
    "\n",
    "*Objectif :*\n",
    "\n",
    "On cherche à minimiser le poids total de $T$ (ici on le divise par 2 car chaque arête est représentée par 2 arcs):\n",
    "\n",
    "$$\\min{\\frac{1}{2}\\sum_{(i,j)\\in \\bar{A}}{p_{ij}x_{ij}}}$$\n",
    "\n",
    "\n",
    "*Contraintes :*\n",
    "\n",
    "- Dans $\\bar{G}$, si on choisit un arc dans un sens alors on prend aussi celui dans l'autre sens : $\\forall i,j \\in S, x_{ij} = x_{ji}$.\n",
    "- Si on choisit un arc alors les sommets aux extrémités de cet arc seront dans $T$ : $\\forall k \\in S$, $   \\forall (v,k) \\in \\delta^{-}(k)$, $x_{vk}\\le{v_k}$ et $\\forall (k,u) \\in \\delta^{+}(k)$, $x_{ku}\\le v_k$.\n",
    "- Pour tous les terminaux $t$ différents de $s$, le flot $s-t$ doit respecter la loi de conservation des flux :\n",
    "\n",
    "$$\\forall t \\in S'\\backslash \\{s\\}, \\forall x \\in S\\backslash \\{s,t\\}, \\sum_{(u,x)\\in \\delta^{-}(x)}{f_{(u,x)}^t} = \\sum_{(x,v)\\in \\delta^{+}(x)}{f_{(x,v)}^t}$$\n",
    "\n",
    "- Pour tous les terminaux $t$ différents de $s$, la flot $s-t$ doit être égale à 1 :\n",
    "\n",
    "$$\\forall t \\in S'\\backslash \\{s\\},  \\sum_{(s,v)\\in \\delta^{+}(s)}{f_{(s,v)}^t} = 1$$\n",
    "\n",
    "$$\\forall t \\in S'\\backslash \\{s\\},  \\sum_{(u,t)\\in \\delta^{-}(t)}{f_{(u,t)}^t} = 1$$\n",
    "\n",
    "- Pour tous les terminaux $t$ différents de $s$, le flot $s-t$ entrant dans $s$ doit être nul :\n",
    "\n",
    "$$\\forall t \\in S'\\backslash \\{s\\},  \\sum_{(u,s)\\in \\delta^{-}(s)}{f_{(u,s)}^t} = 0$$\n",
    "\n",
    "- Pour tous les terminaux $t$ différents de $s$, la flot $s-t$ sortant de $t$ doit être nul :\n",
    "\n",
    "$$\\forall t \\in S'\\backslash \\{s\\},  \\sum_{(t,v)\\in \\delta^{+}(t)}{f_{(t,v)}^t} = 0$$\n",
    "\n",
    "- Si $T$ est connexe alors $T$ est un arbre si et seulement si $|A_T| = |S_T|-1$ :\n",
    "\n",
    "$$\\sum_{(i,j) \\in S}{x_{ij}} = 2 \\times (\\sum_{k\\in S}{v_k}-1)$$\n",
    "\n",
    "- Un flot ne peut valoir 1 sur une arête que si elle est choisie : $\\forall t\\in S'\\backslash \\{s\\}, \\forall (i,j)\\in \\bar{A}, f_{(i,j)}^t \\le x_{i,j}$\n",
    "\n",
    "\n",
    "\n"
   ]
  },
  {
   "cell_type": "markdown",
   "metadata": {},
   "source": [
    "Comme pour le problème de l'arbre couvrant de poids minimum, on crée une fonction chargée de construire le modèle ci-dessus. Elle prendra en argument un double dictionnaire contenant les sommets reliés entre eux en index et les poids des arête en valeur ainsi qu'une liste contenant les sommets des terminaux à couvrir. Cette fonction renvoie le modèle non résolu. "
   ]
  },
  {
   "cell_type": "code",
   "execution_count": null,
   "metadata": {},
   "outputs": [],
   "source": [
    "def ModelePLNE_Steiner(A,terminaux):\n",
    "    #Création du problème :\n",
    "    prob = LpProblem(\"ACPM\",LpMinimize)\n",
    "    S = list(A.keys()).copy()\n",
    "    n = len(S)\n",
    "    TerminauxSansSource = terminaux\n",
    "    s = TerminauxSansSource.pop(0)\n",
    "    #Variable :\n",
    "    v={}\n",
    "    for i in A.keys():\n",
    "        v[i] = LpVariable(\"v_\"+str(i),0,1,LpInteger)\n",
    "    \n",
    "    x={}\n",
    "    for i in A.keys():\n",
    "        x[i] = {}\n",
    "        for j in A[i].keys():\n",
    "            x[i][j] = LpVariable(\"x_\"+str(i)+\"_\"+str(j),0,1,LpInteger)\n",
    "            \n",
    "    f={}\n",
    "    for i in A.keys():\n",
    "        f[i] = {}\n",
    "        for j in A[i].keys():\n",
    "            f[i][j] = {}\n",
    "            for t in TerminauxSansSource:\n",
    "                f[i][j][t] = LpVariable(\"f_\"+str(i)+\"_\"+str(j)+\"_\"+str(t),0,1,LpInteger)\n",
    "                    \n",
    "            \n",
    "    #Objectif :\n",
    "    prob += 1/2*lpSum([lpSum([x[i][j]*A[i][j] for j in A[i].keys()] for i in A.keys())])\n",
    "\n",
    "    #Contraintes :\n",
    "\n",
    "    for i in A.keys():\n",
    "        for j in A[i].keys():\n",
    "            prob += x[i][j] == x[j][i]\n",
    "            \n",
    "    for t in TerminauxSansSource:\n",
    "        for a in S:\n",
    "            if(a not in [s,t]):\n",
    "                prob += lpSum([f[a][j][t] for j in A[a].keys()]) == lpSum([f[i][a][t] for i in A.keys() if a in list(A[i].keys())])\n",
    "    \n",
    "    for t in TerminauxSansSource:\n",
    "        prob += lpSum([f[s][j][t] for j in A[s].keys()]) == 1\n",
    "        prob += lpSum([f[i][s][t] for i in A.keys() if s in list(A[i].keys())]) == 0\n",
    "    \n",
    "    for t in TerminauxSansSource:\n",
    "        prob += lpSum([f[i][t][t] for i in A.keys() if t in list(A[i].keys())]) == 1\n",
    "        prob += lpSum([f[t][j][t] for j in A[t].keys()]) == 0\n",
    "        \n",
    "    prob += lpSum([lpSum([x[i][j] for j in A[i].keys()]) for i in A.keys()]) == 2*(lpSum([v[i] for i in A.keys()])-1)\n",
    "    \n",
    "    for t in TerminauxSansSource:\n",
    "        for i in A.keys():\n",
    "            for j in A[i].keys():\n",
    "                prob += f[i][j][t] <= x[i][j]\n",
    "    \n",
    "    for i in A.keys():\n",
    "        for j in A[i].keys():\n",
    "            prob += x[i][j] <= v[i]\n",
    "            prob += x[j][i] <= v[j]\n",
    "            \n",
    "    #Retour du problème :\n",
    "    return(prob)"
   ]
  },
  {
   "cell_type": "markdown",
   "metadata": {},
   "source": [
    "On construit ensuite une fonction permettant de résoudre et d'afficher le problème et sa solution sur le même modèle que celles du problème de l'arbre couvrant de poids minimum. Cette fonction prend en paramètre le modèle, son nom et un indicateur booléen. Si cet indicateur est vrai, on affichera alors l'intégralité du modèle et en particulier les valeurs de chaque variable. Si il est faux, l'affichage ne se limitera qu'aux arêtes contenues dans l'abre final et à la valeur de l'objectif (poid de l'arbre):"
   ]
  },
  {
   "cell_type": "code",
   "execution_count": null,
   "metadata": {},
   "outputs": [],
   "source": [
    "def SolveAndPrint_Steiner(Modele,name,Affichage_modele=0):\n",
    "    if(Affichage_modele):\n",
    "        #Affichage du modèle\n",
    "        Modele.writeLP(name)\n",
    "        print(Modele)\n",
    "        #Résolution:\n",
    "        print(\"Solve with CBC\")\n",
    "        Modele.solve(PULP_CBC_CMD())\n",
    "        print(\"Status :\",LpStatus[Modele.status])\n",
    "        #Affichage de la solution :\n",
    "        print(\"Number of variables :\",len(Modele.variables()))\n",
    "        print(\"Optimal value =\",value(Modele.objective))\n",
    "        print(\"Optimal solution :\")\n",
    "        for v in Modele.variables():\n",
    "            if(v.varValue != 0):\n",
    "                print(v.name,\"=\",v.varValue)\n",
    "    else:\n",
    "        #Résolution:\n",
    "        print(\"Solve with CBC\")\n",
    "        Modele.solve(PULP_CBC_CMD())\n",
    "        print(\"Status :\",LpStatus[Modele.status])\n",
    "        #Affichage de la solution :\n",
    "        AretesTraites = []\n",
    "        Sommets = []\n",
    "        regexp = re.compile(r\"_(\\w+)_(\\w+)\")\n",
    "        regexp2 = re.compile(r\"v_(\\w+)\")\n",
    "        for v in Modele.variables():\n",
    "            if(v.varValue != 0 and (v.name[0] == 'x' or v.name[0] == 'v')):\n",
    "                result = regexp.search(v.name)\n",
    "                result2 = regexp2.search(v.name)\n",
    "                if result != None:\n",
    "                    i = result.group(1)\n",
    "                    j = result.group(2)\n",
    "                    if([j,i] not in AretesTraites):\n",
    "                        AretesTraites.append([i,j])\n",
    "                if result2 != None:\n",
    "                    Sommets.append((result2.group(1)))\n",
    "        #Affichage du résultat\n",
    "        print(\"RESULTAT :\",name)\n",
    "        for arete in AretesTraites:\n",
    "            print(\"L'arbre de Steiner contient l\\'arête {\",arete[0],\",\",arete[1],\"}\")\n",
    "        print(\"L'arbre de Steiner contient les sommets : \",Sommets)\n",
    "        print('Le poids de total de l\\'arbre est de : ',value(Modele.objective),end=\"\\n\")"
   ]
  },
  {
   "cell_type": "markdown",
   "metadata": {},
   "source": [
    "Nous allons maintenant tester nos fonctions."
   ]
  },
  {
   "cell_type": "markdown",
   "metadata": {},
   "source": [
    "*Exemple n°1:*"
   ]
  },
  {
   "cell_type": "code",
   "execution_count": null,
   "metadata": {
    "scrolled": true
   },
   "outputs": [],
   "source": [
    "#Création du graphe de départ :\n",
    "G3 = Graphe()\n",
    "G3.ajouterArete('A','B',5)\n",
    "G3.ajouterArete('B','C',2)\n",
    "G3.ajouterArete('C','D',3)\n",
    "G3.ajouterArete('D','E',2)\n",
    "G3.ajouterArete('E','A',4)\n",
    "G3.ajouterArete('E','B',6)\n",
    "G3.ajouterArete('B','D',4)\n",
    "#Création de l'ensemble des terminaux :\n",
    "Terminaux = ['A','E','C']\n",
    "#Résolution :\n",
    "SolveAndPrint_Steiner(ModelePLNE_Steiner(G3.ar,Terminaux),\"Steiner Exemple 1\")"
   ]
  },
  {
   "cell_type": "markdown",
   "metadata": {},
   "source": [
    "*Exemple n°2:*\n",
    "\n",
    "Cette fois-ci on génère un graphe aléatoire de 10 sommets. L'ensemble des terminaux sera un ensemble de 5 sommets tirés au hasard parmi les sommets du groupe."
   ]
  },
  {
   "cell_type": "code",
   "execution_count": null,
   "metadata": {},
   "outputs": [],
   "source": [
    "#Création du graphe de départ:\n",
    "n = 10\n",
    "G4 = genGraphe2(n,int(n*(n-1)/2+1),1,20)  \n",
    "#Génération aléatoire des terminaux (parmi les sommets du graphe)\n",
    "groupe = random.sample(G4.so,int(n/2)) \n",
    "print(\"Les terminaux sont:\",groupe)\n",
    "#Résolution:\n",
    "SolveAndPrint_Steiner(ModelePLNE_Steiner(G4.ar,groupe),\"Steiner Exemple aléatoire\")"
   ]
  },
  {
   "cell_type": "markdown",
   "metadata": {},
   "source": [
    "Pour vérifier le bon fonctionnement de notre modèle, il y a quelques cas particuliers du problème de l'arbre de Steiner qui coïncident avec des problèmes plus simples et que l'on peut traiter avec des algorithmes de compléxités polynomiale :"
   ]
  },
  {
   "cell_type": "markdown",
   "metadata": {},
   "source": [
    "* Si l'ensemble des terminaux et égale à l'ensemble des sommets du graphe (si $S'=S$) alors trouver l'arbre de Steiner couvrant les terminaux $S'$ revient à chercher l'arbre couvrant de poids minimum. On peut donc générer un graphe aléatoirement de taille fixé et vérifier que notre modèle n°2 (Pour l'arbre couvrant de poids minimum) et notre modèle PLNE pour le problème de l'arbre de Steiner renvoient bien les mêmes résultats."
   ]
  },
  {
   "cell_type": "code",
   "execution_count": null,
   "metadata": {},
   "outputs": [],
   "source": [
    "#Création du graphe de départ:\n",
    "n = 10\n",
    "G5 = genGraphe2(n,int(n*(n-1)/2+1),1,20)  \n",
    "#Terminaux\n",
    "groupe = G5.so \n",
    "print(\"Les terminaux sont:\",groupe)\n",
    "#Résolution avec le modèle PLNE Steiner:\n",
    "print(\"\\n-----Résolution avec le modèle PLNE Steiner:----------\\n\")\n",
    "SolveAndPrint_Steiner(ModelePLNE_Steiner(G5.ar,groupe),\"Réslution avec le modèle STEINER\")\n",
    "#Résolution avec le modèle n°2:\n",
    "print(\"\\n-----Résolution avec le modèle n°2:-------------------\\n\")\n",
    "SolveAndPrint_2(ModelePLNE_2(G5.ar),\"Résolution avec le MODELE n°2\")"
   ]
  },
  {
   "cell_type": "markdown",
   "metadata": {},
   "source": [
    "On retrouve bien le même résultat avec les 2 modèles."
   ]
  },
  {
   "cell_type": "markdown",
   "metadata": {},
   "source": [
    "* Si l'ensemble des terminaux est réduit à seulement 2 sommets $v1$ et $v2$. Chercher l'arbre de Steiner couvrant ces sommets revient à chercher la chaine la plus courte dans le graphe entre ces 2 sommets. Nous allons donc implémenter l'algorithme de Dijkstra (qui nous servira par la suite pour implémenter une méthode heuristique) et comparer les résultats de notre modèle PLNE lorsqu'il n'y a que 2 terminaux avec le résultat renvoyé par l'algorithme de Dijkstra. On notera ici que l'on ne se concentre que sur le cas où les poids de arêtes sont positifs on peut donc implémenter l'algorithme de Dijkstra."
   ]
  },
  {
   "cell_type": "code",
   "execution_count": null,
   "metadata": {},
   "outputs": [],
   "source": [
    "def Dijkstra(G, source):\n",
    "    #Initialisation:\n",
    "    L = {}\n",
    "    predecesseur = {}\n",
    "    for i in G.so:\n",
    "        if(i != source):\n",
    "            L[i] = m.inf\n",
    "    L[source] = 0\n",
    "    M = []\n",
    "    #Boucle:\n",
    "    while len(M) != len(G.so):\n",
    "        minimum = m.inf\n",
    "        s = None\n",
    "        for i in L:\n",
    "            if(L[i]<minimum and i not in M):\n",
    "                minimum = L[i]\n",
    "                s = i    \n",
    "        M.append(s)\n",
    "        for t in G.ar[s]:\n",
    "            if(t not in M):\n",
    "                if(L[s]+G.ar[s][t]<L[t]):\n",
    "                    L[t] = G.ar[s][t] + L[s]\n",
    "                    predecesseur[t] = s\n",
    "    return(L,predecesseur)"
   ]
  },
  {
   "cell_type": "markdown",
   "metadata": {},
   "source": [
    "Notre fonction Dijkstra ci-dessus prend en argument un graphe et un sommet source à partir duquel on détermine les plus courts chemins vers les autres sommets du graphe. Cette fonction renvoie un dictionnaire des plus courts chemins vers chaque sommet et un dictionnaire de prédécesseurs. On créé donc également la fonction chemin qui permet de retrouver le plus court chemin (chaîne dans un graphe non orienté) à partir d'un dictionnaire de prédécesseurs."
   ]
  },
  {
   "cell_type": "code",
   "execution_count": null,
   "metadata": {},
   "outputs": [],
   "source": [
    "def Chemin(depart,arrive,Predecesseur):\n",
    "    Chemin = []\n",
    "    s = arrive\n",
    "    while s != depart:\n",
    "        Chemin.append(s)\n",
    "        s = Predecesseur[s]\n",
    "    Chemin.append(s)\n",
    "    Chemin.reverse()\n",
    "    return(Chemin)"
   ]
  },
  {
   "cell_type": "code",
   "execution_count": null,
   "metadata": {},
   "outputs": [],
   "source": [
    "#Création du graphe de départ:\n",
    "n = 10\n",
    "G6 = genGraphe2(n,n*2,1,20)  \n",
    "#Terminaux\n",
    "groupe = ['1','5'] \n",
    "print(\"Les terminaux sont:\",groupe)\n",
    "#Résolution avec le modèle PLNE Steiner:\n",
    "print(\"\\n-----Résolution avec le modèle PLNE Steiner:-------------------------------------------\\n\")\n",
    "SolveAndPrint_Steiner(ModelePLNE_Steiner(G6.ar,groupe),\"Réslution avec le modèle STEINER\")\n",
    "#Comparaison avec l'algorithme de Dijkstra:\n",
    "print(\"\\n-----Détermination de la chaine la plus courte avec l'algorithme de Dijkstra:----------\\n\")\n",
    "L,P = Dijkstra(G6,'1')\n",
    "print(\"La chaine la plus courte de 1 à 5 dans le graphe est de taille:\",L['5'])\n",
    "print(\"La chaine correspondante est\",Chemin('1','5',P))"
   ]
  },
  {
   "cell_type": "markdown",
   "metadata": {},
   "source": [
    "On remarque que le poids de l'arbre de Steiner obtenue est bien égale à la longeur de la chaine la plus courte reliant les 2 sommets. En revanche la chaine renvoyée par l'algorithme de Dijkstra ne correspond pas forcément à l'arbre de Steiner (En effet, il n'y a pas toujours unicité de la chaine la plus courte)."
   ]
  },
  {
   "cell_type": "markdown",
   "metadata": {},
   "source": [
    "**2) Implémentation d'une méthode Heuristique**"
   ]
  },
  {
   "cell_type": "markdown",
   "metadata": {},
   "source": [
    "Nous allons maintenant implémenter l'algorithme de Takahashi et Matsuyama qui est un algorithme heuristique permettant de trouver une solution approchée de l'arbre de Steiner en un temps polynomiale. Notre modèle PLNE codé précédement fournit une solution exacte au problème contrairement à l'algorithme de Takahashi et Matsuyama. Avec cet algorithme, on s'attends à trouver une solution très proche de celle du modèle PLNE (Mais le poids de l'arbre obtenue avec l'algorithme de Takahashi et Matsuyama ne devrait pas être inférieur à celui de l'arbre obtenu avec le modèle PLNE). Il sera intéressant dans un second temps de comparer les performances des 2 méthodes et d'estimer la fiabilité de la méthode heuristique. Le pseudo code de l'algorithme est le suivant:"
   ]
  },
  {
   "cell_type": "markdown",
   "metadata": {},
   "source": [
    "*Initialisation:*  \n",
    "- Initialiser l'arbre en choisissant arbitrairement un noeud parmis les terminaux.\n",
    "\n",
    "*Jusqu'au dernier noeud des terminaux:* \n",
    "- Calculer les distances des noeuds parmi les terminaux non encore choisis avec l'arbre ainsi obtenu.\n",
    "- Ajouter à l'arbre couvrant le noeud le plus proche (en utilisant le plus court chemin entre le noeud et l'arbre)."
   ]
  },
  {
   "cell_type": "markdown",
   "metadata": {},
   "source": [
    "On utilisera donc l'algorithme de Dijkstra implémenté précédemment."
   ]
  },
  {
   "cell_type": "markdown",
   "metadata": {},
   "source": [
    "On construit maintenant notre algorithme heuristique avec la fonction SteinerTree qui prend en argument un graphe connexe non orienté et une liste de sommets contenant les terminaux. La fonction renvoie un graphe qui est l'arbre de Steiner ainsi que son poids total. "
   ]
  },
  {
   "cell_type": "code",
   "execution_count": null,
   "metadata": {},
   "outputs": [],
   "source": [
    "def SteinerTree(G,groupe):\n",
    "    T = Graphe()\n",
    "    Poid_total = 0\n",
    "    noeud = groupe.pop(0)\n",
    "    T.ajouterSommet(noeud)\n",
    "    while len(groupe)>0:\n",
    "        Distance_min = m.inf\n",
    "        noeud = None\n",
    "        C = None\n",
    "        for v in groupe:\n",
    "            Longueur, Predecesseurs = Dijkstra(G,v)\n",
    "            for s in T.so:\n",
    "                if(Longueur[s]<Distance_min):\n",
    "                    Distance_min = Longueur[s]\n",
    "                    noeud = v\n",
    "                    C = Chemin(v,s,Predecesseurs)\n",
    "        groupe.remove(noeud)\n",
    "        for i in range(len(C)-1):\n",
    "            T.ajouterArete(C[i],C[i+1],G.ar[C[i]][C[i+1]])\n",
    "            Poid_total += G.ar[C[i]][C[i+1]]\n",
    "    return(T,Poid_total)\n",
    "        "
   ]
  },
  {
   "cell_type": "markdown",
   "metadata": {},
   "source": [
    "Maintenant, on peut tester cet algorithme en comparant son résultat avec celui du modèle PLNE."
   ]
  },
  {
   "cell_type": "code",
   "execution_count": null,
   "metadata": {},
   "outputs": [],
   "source": [
    "T1 = time.time()\n",
    "G7 = genGraphe2(15,30,1,20)  \n",
    "gr1 = random.sample(G7.so,8)\n",
    "print('Terminaux :',gr1)\n",
    "gr2 = gr1.copy()\n",
    "print(\"---------PLNE------------\")\n",
    "t1 = time.time()\n",
    "SolveAndPrint_Steiner(ModelePLNE_Steiner(G7.ar,gr1),\"Steiner Test 1\")\n",
    "t2 = time.time()\n",
    "print(\"Temps d'éxecution pour le modèle PLNE :\",t2-t1,\"secondes\")\n",
    "print(\"---------HEURISTIQUE------------\")\n",
    "t1 = time.time()\n",
    "T,P = SteinerTree(G7,gr2)\n",
    "t2 = time.time()\n",
    "print(\"Temps d'éxecution pour l'Heuristique :\",t2-t1,\"secondes\")\n",
    "print('Le poids total de l\\'arbre est de :',P)\n",
    "T2 = time.time()\n",
    "print(\"Temps total d'execution :\",T2-T1,\"secondes\")"
   ]
  },
  {
   "cell_type": "markdown",
   "metadata": {},
   "source": [
    "On observe que la plupart du temps, le poids de l'arbre renvoyé par l'algorithme Heuristique est égal au poids de l'arbre renvoyé par le modèle PLNE. Parfois le résultat (le poids de l'arbre) de l'algorithme heuristique est légèrement supérieur à celui du modèle PLNE. En revanche, le temps d'exécution de l'algorithme heuristique est largement inférieur à celui du modèle PLNE. Nous allons préciser ces derniers points par la suite."
   ]
  },
  {
   "cell_type": "markdown",
   "metadata": {},
   "source": [
    "**3) Analyse et comparaision des 2 méthodes**"
   ]
  },
  {
   "cell_type": "markdown",
   "metadata": {},
   "source": [
    "Nous avons remarqué que dans certains cas la méthode heuristique renvoyait un résultat légèrement supérieur au résultat exacte. Nous allons donc essayer de mesurer empiriquement le pourcentage d'erreur de la méthode heuristique. Nous allons donc réaliser 100 simulations successives au cours desquels nous allons résoudre le problème avec l'algorithme heuristique et avec le modèle PLNE. Sur ces 100 simulations, on comptera le nombre d'erreurs de l'algorithme heuristique. Pour faciliter la résolution du modèle PLNE et ne pas encombrer l'affichage, on crée la fonction suivant qui ne fait que résoudre et afficher l'objectif (sans afficher tout le modèle)."
   ]
  },
  {
   "cell_type": "code",
   "execution_count": null,
   "metadata": {},
   "outputs": [],
   "source": [
    "def JustSolve(Modele):\n",
    "    Modele.solve(PULP_CBC_CMD())\n",
    "    if(LpStatus[Modele.status] == \"Optimal\"):\n",
    "        print(\"Modèle PLNE OK\")\n",
    "    else:\n",
    "        print(\"Erreur\")\n",
    "    return(value(Modele.objective))"
   ]
  },
  {
   "cell_type": "markdown",
   "metadata": {},
   "source": [
    "On effectue ensuite 100 test. Pour chaque test, on compare le résultat obtenu (c'est-à-dire le poid minimal obtenu) par l'heuristique avec la solution du PLNE et on incrémente à chaque erreur un compteur du nombre de différence."
   ]
  },
  {
   "cell_type": "code",
   "execution_count": null,
   "metadata": {
    "scrolled": false
   },
   "outputs": [],
   "source": [
    "#Attention: Le temps d'exécution de cette cellule est assez long (10 secondes environ)\n",
    "difference = 0\n",
    "NbTest = 100\n",
    "T1 = time.time()\n",
    "for test in range(NbTest):\n",
    "    print(\"Test n°:\",test)\n",
    "    G = genGraphe2(10,20,1,20)  \n",
    "    gr1 = random.sample(G.so,3) \n",
    "    gr2 = gr1.copy()\n",
    "    P1 = JustSolve(ModelePLNE_Steiner(G.ar,gr1))\n",
    "    print(\"Poids PLNE:\",P1)\n",
    "    T,P2 = SteinerTree(G,gr2)\n",
    "    print(\"Poids Heuristique:\",P2)\n",
    "    if P1!=P2: difference+=1\n",
    "T2 = time.time()\n",
    "print(\"Temps total d'execution :\",T2-T1,\"secondes\")\n",
    "print(\"Nombre de différences sur\",NbTest,\"tests\",\":\",difference)\n",
    "print(\"L'heuriste renvoie le même résultat que le modèle PLNE dans\",100-difference,\"% des cas (Fréquence empirique)\")"
   ]
  },
  {
   "cell_type": "markdown",
   "metadata": {},
   "source": [
    "Sur 100 simulations, pour des graphes de 10 sommets et de 19 arêtes, le nombre de différences observées entre le résultat de l'algorithme heuristique et le modèle PLNE est très faible. Il semblerait cependant que ce nombre de différences varie en fonction du nombre de terminaux. Par exmple, pour la réalisation précédente, il n'y avait que 3 terminaux et on trouve en moyenne (selon les exécutions) que le nombre de différences varie entre 2 et 4."
   ]
  },
  {
   "cell_type": "markdown",
   "metadata": {},
   "source": [
    "Nous avons brievement étudié l'impact du nombre de terminaux sur le nombre de différences observé entre les 2 méthodes. Nous avons fixé la taille des graphes à 10 sommet et 19 arêtes et avons fait varier le nombre de terminaux de 2 à 10. Pour un nombre de terminaux fixé nous avons effectué 10 exécutions d'un jeu de 100 simulations (comme dans la cellule précédente) et effectué la moyenne du nombre de différences sur ces 10 exécutions (afin d'obtenir plus de précision sur la fréquence d'erreur). On obtient les résultats suivants : "
   ]
  },
  {
   "cell_type": "markdown",
   "metadata": {},
   "source": [
    "![title](image6.png)"
   ]
  },
  {
   "cell_type": "markdown",
   "metadata": {},
   "source": [
    "On notera que la fréquence de succès de l'algorithme est la élevée lorsque le nombre de terminaux est soit proche de 2 ou proche du nombre total de sommets. Pour un nombre de terminaux se rapprochant de la moitité du nombre de sommet, la fréquence de réussite de l'algorithme sera la plus faible."
   ]
  },
  {
   "cell_type": "markdown",
   "metadata": {},
   "source": [
    "Nous avons maintenant une idée de la fiabilité de l'algorithme heuristique (pour des graphes à traiter de petite taille). Nous allons enfin comparer le temps d'exécution de cet algorithme avec celui du modèle PLNE lorsque la taille du graphe à traiter augmente. On choisit de faire augmenter le nombre $n$ de sommet et on fixe le nombre d'arêtes à $n(n-1)/2$ et le nombre de terminaux à $\\left\\lfloor\\dfrac{n}{2}\\right\\rfloor$. "
   ]
  },
  {
   "cell_type": "code",
   "execution_count": null,
   "metadata": {},
   "outputs": [],
   "source": [
    "nTest=[i for i in range(5,20)] \n",
    "tModelePLNE = []\n",
    "tAlgorithme = [] \n",
    "T1 = time.time()\n",
    "for i in nTest:\n",
    "    print(\"Itération\",i-5)\n",
    "    G = genGraphe2(i,int(i*(i-1)/2+1),1,10)\n",
    "    gr1 = random.sample(G.so,int(i/2)) \n",
    "    gr2 = gr1.copy()\n",
    "    t1 = time.time()\n",
    "    JustSolve(ModelePLNE_Steiner(G.ar,gr1))\n",
    "    t2 = time.time()\n",
    "    tModelePLNE.append(t2-t1)\n",
    "    t1 = time.time()\n",
    "    T = SteinerTree(G,gr2)\n",
    "    t2 = time.time()\n",
    "    tAlgorithme.append(t2-t1)\n",
    "T2 = time.time()\n",
    "print(\"Temps total d'excécution :\", T2-T1)\n",
    "plt.plot(nTest,tModelePLNE,label=\"Modele PLNE\")\n",
    "plt.plot(nTest,tAlgorithme,label=\"Algorithme heuristique\")\n",
    "plt.legend()\n",
    "plt.title(\"Comparaison des temps \\n d'exécution des 2 méthodes\")\n",
    "plt.xlabel(\"nombre de sommets\")\n",
    "plt.ylabel(\"temps d'exécution (s)\")\n",
    "plt.show()"
   ]
  },
  {
   "cell_type": "markdown",
   "metadata": {},
   "source": [
    "Sur le graphique précédent, on remarque que le temps d'exécution du modèle PLNE croit beaucoup plus vite que celui de l'algorithme heuristique lorsque le nombre de sommets du graphe à traiter augmente. En effet, pour un graphe entré possèdant $n$ sommets, $m$ arêtes et $k$ terminaux, le modèle va générer $n+2 m+2 m (k-1)$ variables et $2 m + (k-1)(n-2) + 4 (k-1) + 1 + 2(k-1)m +4 m $ contraintes. "
   ]
  },
  {
   "cell_type": "markdown",
   "metadata": {},
   "source": [
    "On a finalement 2 méthodes pour résoudre le problème de l'arbre de Steiner dans les graphes : Un modèle PLNE qui fournit une solution exacte mais dont le temps d'exécution croît fortement lorsque la taille du graphe augmente et un algorithme heuristique fournissant une solution approchée de manière plus rapide. La fréquence de réussite de l'algorithme est relativement bonne (Dans nos tests précédent, nous n'avons pas trouvé de fréquence de réussite inférieures à 85%) et même en cas d'erreur, la solution obtenue est très proche de la solution exacte. Le choix d'utilisation de l'une de ces 2 méthodes dans des cas concrets dépendra de la taille des instances à traiter. Pour des graphes de petite taille, on peut utiliser le modèle PLNE et obtenir une solution exacte tandis pour des graphes plus grands on peut utiliser la méthode heuristique pour obtenir une solution en un minimum de temps mais il faudra se satisfaire d'une solution approchée et surtout savoir estimer l'erreur de cette solution.  "
   ]
  },
  {
   "cell_type": "markdown",
   "metadata": {},
   "source": [
    "## Conclusion et prochains objectifs (A modifier):"
   ]
  },
  {
   "cell_type": "markdown",
   "metadata": {},
   "source": [
    "Nous disposons maintenant d'une première version fonctionnelle de l'algorithme de Prim, de l'algorithme de Kruskal ainsi que du modèle PLNE. L'un de nos prochains objectifs sera de mettre en évidence la complexité asymptotique de chacun de ces algorithmes. Il faudra aussi implémenter une autre version améliorée de chacun de ces algorithmes avec une compléxité optimale. L'algorithme de Kruskal que nous avons programmé a une compléxité en $O(m\\times n)$. Elle peut être améliorée en optimisant la détection de cycle à chaque itération. Pour cela, on peut utiliser des \"listes de sommets accessibles\". De même, la version de l'algorithme de Prim que nous avons codée possède une complexité en $O(n^2)$. Il est possible d'atteindre une complexité en $O(m\\log(n))$ en utilisant une structure de tas-min binaire. Il sera aussi intéressant de mettre en évidence ces améliorations. Enfin, nous traiterons l'extension possible du sujet concernant les arbres de Steiner."
   ]
  }
 ],
 "metadata": {
  "kernelspec": {
   "display_name": "Python 3",
   "language": "python",
   "name": "python3"
  },
  "language_info": {
   "codemirror_mode": {
    "name": "ipython",
    "version": 3
   },
   "file_extension": ".py",
   "mimetype": "text/x-python",
   "name": "python",
   "nbconvert_exporter": "python",
   "pygments_lexer": "ipython3",
   "version": "3.7.4"
  }
 },
 "nbformat": 4,
 "nbformat_minor": 2
}
