{
 "cells": [
  {
   "cell_type": "markdown",
   "metadata": {},
   "source": [
    "# Projet d'optimisation discrète - Arbre couvrant de poids minimum"
   ]
  },
  {
   "cell_type": "markdown",
   "metadata": {},
   "source": [
    "## Introduction\n",
    "\n",
    "L'objectif de ce projet était d'implémenter des algorithmes de graphe sous Python permettant de résoudre le problème de l'arbre couvrant de poids minimum. Pour fixer les idées, on considère un graphe non-orienté connexe $G=[S,A]$ dont chaque arête possède un poids $p_{a}$. Le problème de l'arbre couvrant de poids minimum consiste à chercher un sous-ensemble d'arêtes $A'\\subset A$ tel que le sous-graphe de $G$ restreint à $A'$ est un arbre et dont la somme des poids des arêtes est minimum. Nous avons étudié en cours 2 algorithmes permettant de résoudre ce problème : les algorithmes de Kruskal et de Prim.\n",
    "\n",
    "Dans un premier temps, nous avons codé puis testé une première version (non optimisée) de ces 2 algorithmes tels que décrits dans le cours. Ensuite, nous avons modifié ces deux algorithmes et avons réalisé des améliorations dans le code jusqu’à obtenir les complexités attendues pour leur exécution. Nous avons testé ces algorithmes à chaque fois sur plusieurs exemples du cours, ainsi que sur des exemples générés aléatoirement par une fonction supplémentaire.\n",
    "Dans un second temps, nous avons modélisé ce problème comme un programme linéaire en nombre entier en utilisant la librairie PuLP. Dans une première approche, nous avons considéré une utilisation de la liste d’incidence et d’un dictionnaire contenant les poids des différentes arêtes. Une seconde approche également développée – servant pour l’extension du projet – consiste en l’utilisation des flots. Nous avons réalisé plusieurs versions de ces PLNE jusqu’à obtenir un algorithme rapide et optimisé. Là encore, nous avons testé ces deux approches sur différents exemples du cours et exemples générés aléatoirement.\n",
    "\n",
    "Enfin, dans un dernier temps, nous avons traité l’extension du projet qui portait sur le problème de l'Arbre de Steiner dans les graphes. Cette extension a mobilisé les programmes précédemment établis ainsi que de nouveaux pour répondre aux contraintes de ce type de problème. Nous avons réalisé un nouveau modèle de PLNE avec des contraintes supplémentaires par rapport à celui réalisé dans la seconde partie du projet. Nous avons essayé de le rendre le plus optimisé possible, et de réaliser également une approche heuristique à ce problème (pour obtenir une solution approchée au problème) – dans l’idée de comparer les deux approches du point de vue de leur temps de calcul et fiabilité de résultat. Le modèle heuristique que nous avons choisi d’implémenter ici est celui de Takahashi et Matsuyama en nous basant sur la description présente dans le rapport de recherche de Raymond Marie et Miklós Molnár *Arbre couvrant partiel pseudo-optimal pour diffusion multipoint (1999)*.\n"
   ]
  },
  {
   "cell_type": "markdown",
   "metadata": {},
   "source": [
    "## I) Algorithmes de Kruskal et de Prim"
   ]
  },
  {
   "cell_type": "markdown",
   "metadata": {},
   "source": [
    "### 1) Implémentation"
   ]
  },
  {
   "cell_type": "markdown",
   "metadata": {},
   "source": [
    "Tout d'abord, nous venons importer les modules dont nous aurons besoin pour ce projet."
   ]
  },
  {
   "cell_type": "code",
   "execution_count": 1,
   "metadata": {},
   "outputs": [],
   "source": [
    "import random\n",
    "import time\n",
    "from heapq import * # https://docs.python.org/2/library/heapq.html\n",
    "import matplotlib.pyplot as plt\n",
    "import math\n",
    "import numpy as np\n",
    "from IPython.display import Image"
   ]
  },
  {
   "cell_type": "markdown",
   "metadata": {},
   "source": [
    "Nous avons ensuite commencé la résolution du problème par la contruction d'une Classe *Graphe*, que les différents algorithmes viendront utiliser. Nous avons décidé pour chaque graphe d'avoir des variables donnant le nombre de sommets et d'arêtes. De plus, nous avons mis tous les sommets dans une liste. Enfin pour les arêtes, nous avons fonctionné avec un double dictionnaire dont le premier index représente le sommet de départ et le 2ème index le sommet d'arrivée. \n",
    "Voici la déclaration de la classe :"
   ]
  },
  {
   "cell_type": "code",
   "execution_count": 2,
   "metadata": {},
   "outputs": [],
   "source": [
    "#Classe representant un graphe\n",
    "class Graphe():\n",
    "    \n",
    "    def __init__(self):\n",
    "        self.nbS = 0 #nombre de Sommets du Graphe\n",
    "        self.nbA = 0 #nombre d'Aretes du Graphe\n",
    "        self.so= [] #liste des differents sommets\n",
    "        self.ar= {} #dictionnaire contenant les aretes\n",
    "  \n",
    "    #Methode pour rajouter un sommet au graphe \n",
    "        #nom : nom du sommet\n",
    "        #impress = 1 si on affiche un message si le sommet existe\n",
    "        #deja , 0 sinon\n",
    "    def ajouterSommet(self,nom,impress=1):\n",
    "        if(nom not in self.so):   #On teste si le nom du sommet n'existe pas deja\n",
    "            self.nbS=self.nbS+1;\n",
    "            self.so.append(nom)\n",
    "            self.ar[nom]={}\n",
    "        else:\n",
    "            if(impress==1):\n",
    "                print(\"Warning : Il existe deja un sommet avec ce nom !\")\n",
    "    \n",
    "    #Methode pour rajouter une arete au graphe\n",
    "        #depart : 1 extremite de l'arete\n",
    "        #arrivee : l'autre extremite de l'arete\n",
    "        #val : valeur de l'arete\n",
    "    def ajouterArete(self,depart,arrivee,val):\n",
    "        #on ajoute les 2 sommets s'ils n'existent pas\n",
    "        self.ajouterSommet(depart,0)  \n",
    "        self.ajouterSommet(arrivee,0) \n",
    "        #si l'arete n'existe pas déjà, on augmente le nombre d'arete dans le graphe\n",
    "        if(arrivee not in self.ar[depart]):\n",
    "            self.nbA+=1\n",
    "        #on garde en memoire enfin la valeur de l'arete\n",
    "        self.ar[depart][arrivee]=val\n",
    "        self.ar[arrivee][depart]=val\n",
    "        \n",
    "        \n",
    "    #Creation de la liste des aretes triees par ordre croissant    \n",
    "    def minArete(self):\n",
    "        minimum=[]\n",
    "        #Remplissage de la liste avec toutes les aretes\n",
    "        for key1 in self.ar.keys():\n",
    "            for key2 in self.ar[key1].keys():\n",
    "                val=self.ar[key1][key2]\n",
    "                #On vient ne garder qu'une copie de chaque arete (suppression des doublons)\n",
    "                if(int(key1)<int(key2)):    \n",
    "                    minimum.append([key1,key2,val])\n",
    "        #On trie la liste par ordre croissant des valeurs des aretes\n",
    "        minimum = sorted(minimum, key= lambda x : x[2])\n",
    "        return(minimum)\n",
    "        \n",
    "    #Supression d'une arete\n",
    "        #depart : 1 extremite de l'arete\n",
    "        #arrivee : l'autre extremite de l'arete\n",
    "        #val : valeur de l'arete\n",
    "    def enleverArete(self,depart,arrivee):\n",
    "        #Test pour savoir si l'arete existe\n",
    "        if(not(depart in self.ar.keys() and arrivee in self.ar[depart].keys())):\n",
    "            print(\"Cette arete n'existe pas !\")\n",
    "            return(False)\n",
    "        #On retire l'arete\n",
    "        self.nbA-=1\n",
    "        #on vient les supprimer respectivement dans leur liste des voisins\n",
    "        del(self.ar[depart][arrivee]) \n",
    "        del(self.ar[arrivee][depart])\n",
    "        return(True)"
   ]
  },
  {
   "cell_type": "markdown",
   "metadata": {},
   "source": [
    "Ensuite, pour résoudre le problème de l'arbre couvrant de poids minimum à partir d'un graphe non orienté connexe, nous avons codé les algorithmes de Prim et de Kruskal.\n",
    "Nous avons commencé par l'implémentation de l'algorithme de Prim :"
   ]
  },
  {
   "cell_type": "code",
   "execution_count": 3,
   "metadata": {},
   "outputs": [],
   "source": [
    "#Premiere version de l'Algorithme de Prim\n",
    "    #G : un graphe simple non oriente connexe\n",
    "def Prim(G):\n",
    "    #Creation de l'Arbre Couvrant de poids minimal\n",
    "    Gfinal=Graphe()\n",
    "    #Choix d'un sommet aleatoire que l'on rajoute a l'arbre\n",
    "    choice=random.choice(G.so)\n",
    "    Gfinal.ajouterSommet(choice)\n",
    "    #Creation de la liste des aretes triees dans l'ordre croissant\n",
    "    arTrie=G.minArete()\n",
    "    for i in range(1,G.nbS):\n",
    "        find=False   #Variable indiquant si l'arete respectant les conditions a ete trouvee\n",
    "        j=0\n",
    "        while j < len(arTrie) and find == False :\n",
    "            if( (( arTrie[j][0] in Gfinal.so) and  not ( arTrie[j][1] in Gfinal.so )) or (( arTrie[j][1] in Gfinal.so) and  not ( arTrie[j][0] in Gfinal.so )) ):\n",
    "                #On ajoute l'arete a l'arbre\n",
    "                Gfinal.ajouterArete(arTrie[j][0],arTrie[j][1],arTrie[j][2]) \n",
    "                #On supprime l'arete de la liste\n",
    "                del(arTrie[j])  \n",
    "                find=True\n",
    "            #On augmente le nombre d'arete trouvees\n",
    "            j+=1\n",
    "    #On retourne l'arbre couvrant de poids min\n",
    "    return(Gfinal)"
   ]
  },
  {
   "cell_type": "markdown",
   "metadata": {},
   "source": [
    "Afin de tester notre fonction pour l'algorithme de Prim, nous allons l'utiliser sur l'exemple du cours que l'on peut voir ci-dessous (les poids des arêtes sont en rouge) :"
   ]
  },
  {
   "cell_type": "code",
   "execution_count": 4,
   "metadata": {},
   "outputs": [
    {
     "data": {
      "image/png": "[encoded data removed]",
      "text/plain": [
       "<IPython.core.display.Image object>"
      ]
     },
     "execution_count": 4,
     "metadata": {},
     "output_type": "execute_result"
    }
   ],
   "source": [
    "Image(\"image1.PNG\")"
   ]
  },
  {
   "cell_type": "code",
   "execution_count": 5,
   "metadata": {},
   "outputs": [
    {
     "name": "stdout",
     "output_type": "stream",
     "text": [
      "[['3', '4', 2], ['1', '2', 2], ['2', '3', 3], ['0', '4', 4]]\n"
     ]
    }
   ],
   "source": [
    "G1=Graphe()\n",
    "G1.ajouterArete(\"0\",\"1\",5)\n",
    "G1.ajouterArete(\"0\",\"4\",4)\n",
    "G1.ajouterArete(\"4\",\"1\",6)\n",
    "G1.ajouterArete(\"4\",\"3\",2)\n",
    "G1.ajouterArete(\"1\",\"3\",4)\n",
    "G1.ajouterArete(\"1\",\"2\",2)\n",
    "G1.ajouterArete(\"3\",\"2\",3)\n",
    "arbre=Prim(G1)\n",
    "ls=arbre.minArete()\n",
    "print(ls)"
   ]
  },
  {
   "cell_type": "markdown",
   "metadata": {},
   "source": [
    "On remarque que l'on obtient bien l'arbre couvrant de poids minimum que nous avions trouvé en appliquant manuellement l'algorithme. L'algorithme implémenté semble bien fonctionner. Nous le retesterons une 2ème fois plus tard en comparant les résultats avec celui de Kruskal."
   ]
  },
  {
   "cell_type": "code",
   "execution_count": 6,
   "metadata": {},
   "outputs": [
    {
     "data": {
      "image/png": "[encoded data removed]",
      "text/plain": [
       "<IPython.core.display.Image object>"
      ]
     },
     "execution_count": 6,
     "metadata": {},
     "output_type": "execute_result"
    }
   ],
   "source": [
    "Image(\"image2.PNG\")"
   ]
  },
  {
   "cell_type": "markdown",
   "metadata": {},
   "source": [
    "Le 2ème algorithme qui permettait de résoudre le problème de l'arbre couvrant de poids minimum était l'algorithme de Kruskal.\n",
    "Avant d'implémenter cet algorithme, nous devons créer un algorithme qui détecte la présence de cycle dans le graphe non orienté considéré :"
   ]
  },
  {
   "cell_type": "code",
   "execution_count": 7,
   "metadata": {},
   "outputs": [],
   "source": [
    "#Algorithme qui detecte la présence d'un cycle dans un graphe non-oriente quelconque\n",
    "    #G : Graphe non oriente\n",
    "def detectionCycle(G):\n",
    "    #Couleur des sommets (w : pas visite, g : visite )\n",
    "    #On initialise la couleur de tous les sommets à blanc\n",
    "    color={s : \"w\" for s in G.so}\n",
    "    #On cree un dictionnaire qui enregistre le sommet par laquel chaque sommet a ete colorie\n",
    "    maColorie={s : \"\" for s in G.so}\n",
    "    #Tant qu'il y a encore un sommet blanc, on continue le processus\n",
    "    while(any([c==\"w\" for c in color.values()])):\n",
    "        #On choisit un sommet aleatoire non traite\n",
    "        rand=random.choice([sommet for sommet in G.so if color[sommet]==\"w\"]) \n",
    "        #on le rajoute dans la pile\n",
    "        pile=[rand] \n",
    "        #Tant que la pile n'est pas vide , ...\n",
    "        while(len(pile)>=1):\n",
    "            #on traite le premier sommet de la pile\n",
    "            s=pile.pop()  \n",
    "            color[s]=\"g\"\n",
    "            if(s in G.ar.keys()):\n",
    "                for j in G.ar[s].keys():\n",
    "                    #si on rencontre un sommet gris qui n'est pas le sommet qui l'a  \n",
    "                    #rajoute dans la pile, alors il y a un cycle\n",
    "                    if(color[j]==\"g\" and not (j==maColorie[s])):   \n",
    "                        return(True)\n",
    "                    #si le sommet n'a pas encore été visite on l'ajoute a la pile\n",
    "                    if(color[j]==\"w\"): \n",
    "                        maColorie[j]=s\n",
    "                        pile.append(j)\n",
    "    return(False)"
   ]
  },
  {
   "cell_type": "markdown",
   "metadata": {},
   "source": [
    "Puis on implémente l'algorithme de Kruskal :"
   ]
  },
  {
   "cell_type": "code",
   "execution_count": 8,
   "metadata": {},
   "outputs": [],
   "source": [
    "#Premiere version de l'Algorithme de Kruskal\n",
    "    #G : un graphe simple non orienté connexe\n",
    "def Kruskal(G):\n",
    "    #Creation de la liste des aretes triees\n",
    "    aretetrie=G.minArete()\n",
    "    #On cree l'arbre qu'on va retourner a la fin\n",
    "    Garbre=Graphe()\n",
    "    #On y ajoute tous les sommets\n",
    "    for sommet in G.so:\n",
    "        Garbre.ajouterSommet(sommet)\n",
    "    #Tant que l'arbre a moins de n-1 aretes, on ajoute des aretes\n",
    "    while(Garbre.nbA<Garbre.nbS-1):\n",
    "        #On prend la première arete de la liste\n",
    "        arete=aretetrie[0]\n",
    "        #Si elle ne cree pas de cycle, on l'ajoute, sinon on la supprime\n",
    "        Garbre.ajouterArete(arete[0],arete[1],arete[2])\n",
    "        if(detectionCycle(Garbre)):\n",
    "            Garbre.enleverArete(arete[0],arete[1])\n",
    "        del(aretetrie[0])\n",
    "    #On retourne l'arbre couvrant de poids minimum\n",
    "    return(Garbre)"
   ]
  },
  {
   "cell_type": "markdown",
   "metadata": {},
   "source": [
    "Comme précédemment, on teste l'algorithme sur l'exemple du cours :"
   ]
  },
  {
   "cell_type": "code",
   "execution_count": 9,
   "metadata": {},
   "outputs": [
    {
     "name": "stdout",
     "output_type": "stream",
     "text": [
      "[['1', '2', 2], ['3', '4', 2], ['2', '3', 3], ['0', '4', 4]]\n"
     ]
    }
   ],
   "source": [
    "G1=Graphe()\n",
    "G1.ajouterArete(\"0\",\"1\",5)\n",
    "G1.ajouterArete(\"0\",\"4\",4)\n",
    "G1.ajouterArete(\"4\",\"1\",6)\n",
    "G1.ajouterArete(\"4\",\"3\",2)\n",
    "G1.ajouterArete(\"1\",\"3\",4)\n",
    "G1.ajouterArete(\"1\",\"2\",2)\n",
    "G1.ajouterArete(\"3\",\"2\",3)\n",
    "arbre=Kruskal(G1)\n",
    "ls=arbre.minArete()\n",
    "print(ls)"
   ]
  },
  {
   "cell_type": "markdown",
   "metadata": {},
   "source": [
    "On remarque que l'on obtient le même resultat. Nous allons maintenant tester les 2 algorithmes sur un exemple que nous allons créer aléatoirement, et nous allons mesurer les temps d'exécution de ces derniers. Pour cela nous créons tout d'abord une fonction qui va générer un graphe aléatoire avec des valeurs d'arc aléatoires."
   ]
  },
  {
   "cell_type": "code",
   "execution_count": 10,
   "metadata": {},
   "outputs": [],
   "source": [
    "#Methode pour générer un graphe connexe simple non oriente\n",
    "    #nbSom : nombre de Sommet\n",
    "    #minVal : valeur minimale d'une arete \n",
    "    #maxVal : valeur maximale d'une arete\n",
    "def genGraphe(nbSom=10,minVal=0,maxVal=10):\n",
    "    #On cree l graphe initial\n",
    "    graphe=Graphe()\n",
    "    #On ajoute des aretes entre tous les sommets\n",
    "    for i in range(1,nbSom+1):\n",
    "        for j in range(i+1,nbSom+1):\n",
    "            graphe.ajouterArete(str(i),str(j), random.randint(minVal,maxVal))\n",
    "    #On retourne le graphe final\n",
    "    return(graphe)"
   ]
  },
  {
   "cell_type": "markdown",
   "metadata": {},
   "source": [
    "Nous pouvons donc maintenant créer notre graphe aléatoire. On peut désormais tester notre algorithme sur un graphe de 300 sommets."
   ]
  },
  {
   "cell_type": "code",
   "execution_count": 11,
   "metadata": {
    "scrolled": true
   },
   "outputs": [
    {
     "name": "stdout",
     "output_type": "stream",
     "text": [
      "Creation du graphe\n",
      "Execution de l'algorithme de Kruskal\n",
      "Le temps d'execution est de 1.5171005725860596.\n",
      "Execution de l'algorithme de Prim\n",
      "Le temps d'execution est de 0.17499637603759766.\n",
      "Test pour savoir si les 2 algorithmes rendent le même resultat : True\n"
     ]
    }
   ],
   "source": [
    "print(\"Creation du graphe\")\n",
    "nbS=300\n",
    "B=genGraphe(nbS)\n",
    "print(\"Execution de l'algorithme de Kruskal\")\n",
    "t1=time.time()\n",
    "arbre1=Kruskal(B)\n",
    "t2=time.time()\n",
    "print(f\"Le temps d'execution est de {t2-t1}.\")\n",
    "print(\"Execution de l'algorithme de Prim\")\n",
    "t1=time.time()\n",
    "arbre2=Prim(B)\n",
    "t2=time.time()\n",
    "print(f\"Le temps d'execution est de {t2-t1}.\")\n",
    "\n",
    "#Calcul du poids des arbres\n",
    "ls1=arbre1.minArete()\n",
    "poid1=sum([i[2] for i in ls1])\n",
    "ls2=arbre2.minArete()\n",
    "poid2=sum([i[2] for i in ls2])\n",
    "print(f\"Test pour savoir si les 2 algorithmes rendent le même resultat : {poid1==poid2}\")"
   ]
  },
  {
   "cell_type": "markdown",
   "metadata": {},
   "source": [
    "On observe alors que les 2 algorithmes donnent le même resultat. En revanche, on observe que l'algorithme de Kruskal est un peu plus long que l'algorithme de Prim. Notre objectif est maintenant d'optimiser la complexité de ces derniers."
   ]
  },
  {
   "cell_type": "markdown",
   "metadata": {},
   "source": [
    "### 2) Optimisation des algorithmes"
   ]
  },
  {
   "cell_type": "markdown",
   "metadata": {},
   "source": [
    "Pour cela, nous commencons tout d'abord par optimiser l'algorithme de Prim. L'étape qui prend le plus de temps dans l'éxecution est de trouver le minimum. Pour cela, nous allons utiliser la structure de tas-min binaire qui nous permet de trouver le minimum très rapidement car c'est le premier élément de la liste. Pour le concept de tas min binaire, nous utilisons le module *heapq* dans lequel toutes les méthodes dont nous avons besoin sont déjà implémentées. Voici donc la 2ème version de l'algorithme de Prim :"
   ]
  },
  {
   "cell_type": "code",
   "execution_count": 12,
   "metadata": {},
   "outputs": [],
   "source": [
    "#Deuxieme version de l'Algorithme de Prim\n",
    "    #G : un graphe simple non oriente connexe\n",
    "def Prim2(G):\n",
    "    #Creation de l'Arbre Couvrant de poids minimal\n",
    "    Gfinal=Graphe()\n",
    "    #Choix d'un sommet aleatoire que l'on rajoute a l'arbre\n",
    "    choice=random.choice(G.so)\n",
    "    Gfinal.ajouterSommet(choice)\n",
    "    #Creation d'un tas-min binaire\n",
    "    heap=[]\n",
    "    #Ajout de toutes les aretes ayant le premier sommet comme extremite\n",
    "    #au tas min binaire\n",
    "    for key2 in G.ar[choice].keys():\n",
    "        heappush(heap , (G.ar[choice][key2],choice,key2))\n",
    "    #Tant que l'arbre couvrant de poids minimum n'est pas compose de tous les sommets,\n",
    "    #on prend le minimum des aretes dans le tas-min\n",
    "    while Gfinal.nbS < G.nbS:\n",
    "        #Recuperation du minimum\n",
    "        minimum=heappop(heap)\n",
    "        #On regarde si les extremites sont deja dans l'arbre couvrant\n",
    "        extremite1= minimum[1] in Gfinal.so\n",
    "        extremite2= minimum[2] in Gfinal.so\n",
    "        #S'il y en a une presente dans le graphe et l'autre non alors on l'ajoute à l'arbre\n",
    "        if extremite1+extremite2<2:\n",
    "            #On ajoute toutes les aretes ayant pour extremite le sommet qui n'est pas deja dans l'arbre\n",
    "            if extremite1:\n",
    "                for key2 in G.ar[minimum[2]].keys():\n",
    "                    heappush(heap , (G.ar[minimum[2]][key2] ,minimum[2],key2))\n",
    "            else :\n",
    "                for key2 in G.ar[minimum[1]].keys():\n",
    "                    heappush(heap ,(G.ar[minimum[1]][key2],minimum[1],key2))\n",
    "            #On ajoute l'arete a l'arbre\n",
    "            Gfinal.ajouterArete(minimum[1],minimum[2],minimum[0])\n",
    "    #On retourne l'arbre couvrant de poids minimum\n",
    "    return(Gfinal)"
   ]
  },
  {
   "cell_type": "markdown",
   "metadata": {},
   "source": [
    "Comme précédémment, on effectue un test sur l'exemple basique du cours."
   ]
  },
  {
   "cell_type": "code",
   "execution_count": 13,
   "metadata": {},
   "outputs": [
    {
     "name": "stdout",
     "output_type": "stream",
     "text": [
      "[['1', '2', 2], ['3', '4', 2], ['2', '3', 3], ['0', '4', 4]]\n"
     ]
    }
   ],
   "source": [
    "G1=Graphe()\n",
    "G1.ajouterArete(\"0\",\"1\",5)\n",
    "G1.ajouterArete(\"0\",\"4\",4)\n",
    "G1.ajouterArete(\"4\",\"1\",6)\n",
    "G1.ajouterArete(\"4\",\"3\",2)\n",
    "G1.ajouterArete(\"1\",\"3\",4)\n",
    "G1.ajouterArete(\"1\",\"2\",2)\n",
    "G1.ajouterArete(\"3\",\"2\",3)\n",
    "arbre=Prim2(G1)\n",
    "ls=arbre.minArete()\n",
    "print(ls)"
   ]
  },
  {
   "cell_type": "markdown",
   "metadata": {},
   "source": [
    "On obtient alors le bon résultat. Nous revérifierons une deuxième fois la validité de l'algorithme lorsque nous le comparerons avec les autres."
   ]
  },
  {
   "cell_type": "markdown",
   "metadata": {},
   "source": [
    "Le deuxième algorithme que nous allons optimiser est l'algorithme de Kruskal. Cette fois-ci la partie que nous allons optimiser est la recherche d'un cycle. En effet, nous ne travaillons pas avec un arbre non orienté quelconque mais avec un arbre donc un graphe acyclique auquel nous ajoutons une arête. Au moment d’ajouter une arête $\\{u, v\\}$ dans $T$, on détecte alors un cycle en regardant simplement si $v$ est dans la liste des sommets que l’on peut atteindre depuis $u$. Pour cela, pour repérer la présence d'un cycle, nous allons utiliser une structure de type Union-Find qui va réunir les sommets sous forme de groupe. Voici quelques fonctions qui vont nous êtres utiles pour la suite afin d'utiliser cette structure :"
   ]
  },
  {
   "cell_type": "code",
   "execution_count": 14,
   "metadata": {},
   "outputs": [],
   "source": [
    "#Fonction qui permet de trouver la racine d'un sommet dans une structure unionFind\n",
    "    #sommet :  sommet duquel on veut trouver la racine\n",
    "    #unionFind : dictionnaire contenant pour chaque sommet soit un nombre negatif, pour la racine d'une classe representant\n",
    "    #la taille de la classe, soit un nombre positif representant le parent du sommet\n",
    "def find(sommet,unionFind):\n",
    "    #Si le nombre est negatif alors on a trouve la racine de la classe\n",
    "    if int(unionFind[sommet]) <0:\n",
    "        return sommet\n",
    "    #Sinon on appelle a nouveau la fonction avec le pere du sommet\n",
    "    parent=find(unionFind[sommet],unionFind)\n",
    "    return(parent)\n",
    "\n",
    "#Fonction qui permet de faire l'union de 2 sommets dans une structure unionFind\n",
    "    #s1 : 1er sommet\n",
    "    #s2 : 2ème sommet\n",
    "    #unionFind : dictionnaire contenant pour chaque sommet soit un nombre negatif, pour la racine d'une classe representant\n",
    "    #la taille de la classe, soit un nombre positif representant le parent du sommet\n",
    "def union(s1,s2,unionFind):\n",
    "    #On recupere la racine du groupe de s1 et de s2\n",
    "    racines1=find(s1,unionFind)\n",
    "    racines2=find(s2,unionFind)\n",
    "    #S'ils ont la meme racine, alors on fait rien\n",
    "    if racines1==racines2:\n",
    "        return \n",
    "    #Sinon, pour la classe la plus grande en taille, on y ajoute toute l'autre classe\n",
    "    if int(unionFind[racines1]) > int(unionFind[racines2]):\n",
    "        unionFind[racines2]+=unionFind[racines1]\n",
    "        unionFind[racines1]=racines2\n",
    "    else:\n",
    "        unionFind[racines1]+=unionFind[racines2]\n",
    "        unionFind[racines2]=racines1 "
   ]
  },
  {
   "cell_type": "markdown",
   "metadata": {},
   "source": [
    "On peut donc implémenter une deuxième version de l'algorithme de Kruskal :"
   ]
  },
  {
   "cell_type": "code",
   "execution_count": 15,
   "metadata": {},
   "outputs": [],
   "source": [
    "#Deuxieme version de l'Algorithme de Kruskal\n",
    "    #G : un graphe simple non oriente connexe\n",
    "def Kruskal2(G):\n",
    "    #Creation de la liste des aretes triees\n",
    "    aretetrie=G.minArete()\n",
    "    #On définit la structure union find\n",
    "    unionFind={ i : -1 for i in G.so }\n",
    "    #On cree l'arbre qu'on va retourner a la fin\n",
    "    Garbre=Graphe()\n",
    "    #On y ajoute tous les sommets\n",
    "    for sommet in G.so:\n",
    "        Garbre.ajouterSommet(sommet)\n",
    "    #Tant que l'arbre a moins de n-1 aretes, on ajoute des aretes\n",
    "    while(Garbre.nbA < Garbre.nbS-1):\n",
    "        #On prend la première arete de la liste\n",
    "        arete=aretetrie[0]\n",
    "        #Si les aretes n'appartiennent pas au meme groupe alors on peut ajouter l'arete a l'arbre\n",
    "        #et regrouper les 2 groupes dans la structure unionFind\n",
    "        if(find(arete[0],unionFind) != find(arete[1],unionFind)):\n",
    "            Garbre.ajouterArete(arete[0],arete[1],arete[2])\n",
    "            union(arete[0],arete[1],unionFind)\n",
    "        #On supprime l'arete de la liste\n",
    "        del(aretetrie[0])\n",
    "    #On retourne l'arbre couvrant de poids min\n",
    "    return(Garbre)"
   ]
  },
  {
   "cell_type": "markdown",
   "metadata": {},
   "source": [
    "Comme précédemment, on vient tester cet algorithme sur l'exemple basique du cours."
   ]
  },
  {
   "cell_type": "code",
   "execution_count": 16,
   "metadata": {},
   "outputs": [
    {
     "name": "stdout",
     "output_type": "stream",
     "text": [
      "[['1', '2', 2], ['3', '4', 2], ['2', '3', 3], ['0', '4', 4]]\n"
     ]
    }
   ],
   "source": [
    "G1=Graphe()\n",
    "G1.ajouterArete(\"0\",\"1\",5)\n",
    "G1.ajouterArete(\"0\",\"4\",4)\n",
    "G1.ajouterArete(\"4\",\"1\",6)\n",
    "G1.ajouterArete(\"4\",\"3\",2)\n",
    "G1.ajouterArete(\"1\",\"3\",4)\n",
    "G1.ajouterArete(\"1\",\"2\",2)\n",
    "G1.ajouterArete(\"3\",\"2\",3)\n",
    "arbre=Kruskal2(G1)\n",
    "ls=arbre.minArete()\n",
    "print(ls)"
   ]
  },
  {
   "cell_type": "markdown",
   "metadata": {},
   "source": [
    "On obtient alors le bon résultat. Nous allons maintenant comparer leurs vitesses d'exécution respectives et regarder s'ils donnent tous les 4 le même résultat. Pour cela, nous créons tout d'abord une deuxième méthode pour générer un graphe qui cette fois prend le nombre d'arêtes souhaité en paramètre et ne crée donc pas une arête entre tous les sommets :"
   ]
  },
  {
   "cell_type": "code",
   "execution_count": 17,
   "metadata": {},
   "outputs": [],
   "source": [
    "#Methode pour generer un graphe connexe simple non oriente\n",
    "    #nbSom : nombre de Sommet\n",
    "    #minVal : valeur minimale d'une arete \n",
    "    #maxVal : valeur maximale d'une arete\n",
    "def genGraphe2(nbS=10,nbA=100,minVal=1,maxVal=1000):\n",
    "    #On cree le graphe initial\n",
    "    graphe=Graphe()\n",
    "    #On repertorie toutes les possibilites d'aretes possibles\n",
    "    possibilite = [ [i,j]   for i in range(1,nbS+1) for j in range(i+2,nbS+1)]\n",
    "    #On cree un cycle trivial dans le graphe afin qu'il soit connexe\n",
    "    for i in range(1,nbS+1):\n",
    "        graphe.ajouterArete(str(i),str((i % nbS) + 1),random.randint(minVal,maxVal))\n",
    "    #On complete le graphe par des aretes choisies au hasard parmi celles possibles\n",
    "    for choice in random.sample(possibilite,k=min((nbA-nbS),len(possibilite))):\n",
    "        graphe.ajouterArete(str(choice[0]),str(choice[1]),random.randint(minVal,maxVal))\n",
    "    #On retourne le graphe\n",
    "    return(graphe)"
   ]
  },
  {
   "cell_type": "markdown",
   "metadata": {},
   "source": [
    "### 3) Etude de la complexité"
   ]
  },
  {
   "cell_type": "markdown",
   "metadata": {},
   "source": [
    "Nous nous intéressons maintenant à la comparaison de manière qualitative des temps d'éxécution de ces 4 algorithmes pour un graphe à 500 sommets et 4000 arêtes."
   ]
  },
  {
   "cell_type": "code",
   "execution_count": 18,
   "metadata": {},
   "outputs": [
    {
     "name": "stdout",
     "output_type": "stream",
     "text": [
      "Creation du graphe\n",
      "Execution de la première version de l'algorithme de Kruskal\n",
      "Le temps d'execution est de 5.295120716094971.\n",
      "Execution de la première version de l'algorithme de Prim\n",
      "Le temps d'execution est de 0.3572366237640381.\n",
      "Execution de la deuxieme version de l'algorithme de Kruskal\n",
      "Le temps d'execution est de 0.00211334228515625.\n",
      "Execution de la deuxième version de l'algorithme de Prim\n",
      "Le temps d'execution est de 0.03124213218688965.\n",
      "Test pour savoir si les 4 algorithmes rendent le meme resultat : True\n"
     ]
    }
   ],
   "source": [
    "print(\"Creation du graphe\")\n",
    "nbS=500\n",
    "nbA=4000\n",
    "B=genGraphe2(nbS,nbA)\n",
    "print(\"Execution de la première version de l'algorithme de Kruskal\")\n",
    "t1=time.time()\n",
    "arbre1=Kruskal(B)\n",
    "t2=time.time()\n",
    "print(f\"Le temps d'execution est de {t2-t1}.\")\n",
    "\n",
    "print(\"Execution de la première version de l'algorithme de Prim\")\n",
    "t1=time.time()\n",
    "arbre2=Prim(B)\n",
    "t2=time.time()\n",
    "print(f\"Le temps d'execution est de {t2-t1}.\")\n",
    "\n",
    "print(\"Execution de la deuxieme version de l'algorithme de Kruskal\")\n",
    "t1=time.time()\n",
    "arbre3=Kruskal2(B)\n",
    "t2=time.time()\n",
    "print(f\"Le temps d'execution est de {t2-t1}.\")\n",
    "\n",
    "print(\"Execution de la deuxième version de l'algorithme de Prim\")\n",
    "t1=time.time()\n",
    "arbre4=Prim2(B)\n",
    "t2=time.time()\n",
    "print(f\"Le temps d'execution est de {t2-t1}.\")\n",
    "\n",
    "#Calcul du poids de chaque arbre\n",
    "ls1=arbre1.minArete()\n",
    "poid1=sum([i[2] for i in ls1])\n",
    "ls2=arbre2.minArete()\n",
    "poid2=sum([i[2] for i in ls2])\n",
    "ls3=arbre3.minArete()\n",
    "poid3=sum([i[2] for i in ls3])\n",
    "ls4=arbre4.minArete()\n",
    "poid4=sum([i[2] for i in ls4])\n",
    "print(f\"Test pour savoir si les 4 algorithmes rendent le meme resultat : {poid1==poid2 and poid2==poid3 and poid3==poid4}\")"
   ]
  },
  {
   "cell_type": "markdown",
   "metadata": {},
   "source": [
    "On remarque que les 4 algorithmes nous donnent bien le même poids final donc les 4 algorithmes semblent bien fonctionner. De plus, on observe que les deuxièmes versions des algorithmes s'éxecutent beaucoup plus vite. Pour avoir une approche plus quantitative, nous allons réaliser une étude de complexité pour les 4 algorithmes. Tout d'abord, on compare le temps d'exécution des 4 algorithmes pour des valeurs de n différentes et avec $m=n*10$."
   ]
  },
  {
   "cell_type": "code",
   "execution_count": 19,
   "metadata": {},
   "outputs": [
    {
     "name": "stdout",
     "output_type": "stream",
     "text": [
      "100 110 120 130 140 150 160 170 180 190 200 210 220 230 240 250 260 270 280 290 300 310 320 330 340 350 360 370 380 390 400 410 420 430 440 450 460 470 480 490 500 510 520 530 540 550 560 570 580 590 "
     ]
    },
    {
     "data": {
      "image/png": "[encoded data removed]",
      "text/plain": [
       "<Figure size 720x720 with 5 Axes>"
      ]
     },
     "metadata": {
      "needs_background": "light"
     },
     "output_type": "display_data"
    }
   ],
   "source": [
    "####### Attention : Execution longue ##########\n",
    "\n",
    "#Initialisation des listes qui vont stocker nos données\n",
    "nTest=[ i*10 for i in range(10,60,1)]\n",
    "tkruskal2=[]\n",
    "tkruskal1=[]\n",
    "tprim1=[]\n",
    "tprim2=[]\n",
    "o=[]\n",
    "\n",
    "#On realise le test pour plusieurs valeurs de n\n",
    "for i in nTest:\n",
    "    print(i, end=\" \")\n",
    "    B=genGraphe2(i,i*10)\n",
    "    \n",
    "    #Kruskal2\n",
    "    t1=time.time()\n",
    "    arbre1=Kruskal2(B)\n",
    "    t2=time.time()\n",
    "    tkruskal2.append(t2-t1)\n",
    "    \n",
    "    #Kruskal1 \n",
    "    t1=time.time()\n",
    "    arbre1=Kruskal(B)\n",
    "    t2=time.time()\n",
    "    tkruskal1.append(t2-t1)\n",
    "\n",
    "    #Prim2   \n",
    "    t1=time.time()\n",
    "    arbre1=Prim2(B)\n",
    "    t2=time.time()\n",
    "    tprim2.append(t2-t1)\n",
    "\n",
    "    #Prim1  \n",
    "    t1=time.time()\n",
    "    arbre1=Prim(B)\n",
    "    t2=time.time()\n",
    "    tprim1.append(t2-t1)\n",
    "    \n",
    "    #On stocke la valeur de n  \n",
    "    o.append(i)\n",
    "\n",
    "#On affiche le tout\n",
    "plt.figure(figsize=(10,10))\n",
    "plt.subplot(3,2,1)\n",
    "plt.plot(nTest,tkruskal1,label=\"Kruskal1\")\n",
    "plt.title('Versions non optimisees')\n",
    "plt.ylabel(\"Temps d execution (en s )\")\n",
    "plt.legend()\n",
    "\n",
    "plt.subplot(3,2,2)\n",
    "plt.plot(nTest,tkruskal2,label=\"Kruskal2\")\n",
    "plt.title('Versions optimisees')\n",
    "plt.legend()\n",
    "\n",
    "plt.subplot(3,2,3)\n",
    "plt.plot(nTest,tprim1,label=\"Prim1\")\n",
    "plt.xlabel('Nombre de noeuds')\n",
    "plt.ylabel(\"Temps d execution (en s )\")\n",
    "plt.legend()\n",
    "\n",
    "plt.subplot(3,2,4)\n",
    "plt.plot(nTest,tprim2,label=\"Prim2\")\n",
    "plt.xlabel('Nombre de noeuds')\n",
    "plt.legend()\n",
    "\n",
    "plt.subplot(3,2,(5,6))\n",
    "plt.plot(nTest,tkruskal1,label=\"Kruskal1\")\n",
    "plt.plot(nTest,tkruskal2,label=\"Kruskal2\")\n",
    "plt.plot(nTest,tprim1,label=\"Prim1\")\n",
    "plt.plot(nTest,tprim2,label=\"Prim2\")\n",
    "plt.xlabel('Nombre de noeuds')\n",
    "plt.ylabel(\"Temps d execution (en s )\")\n",
    "plt.legend()\n",
    "\n",
    "plt.show()"
   ]
  },
  {
   "cell_type": "markdown",
   "metadata": {},
   "source": [
    "On observe alors que l'algorithme le plus long est la première version de celui de Kruskal. De plus, nos 2 algorithmes optimisés sont les plus rapides.\n",
    "Maintenant, on aimerait bien identifier la complexité de ces derniers. La problème de cette étape est que la compléxité dépend de $n$ et de $m$.\n",
    "Commencons par l'algorithme de Kruskal qui possède théoriquement la plus grande complexité.\n",
    "\n",
    "En effet, le tri se fait en $O(m \\times log(m))$ et réalise au maximum $m$ itérations dans lesquels on recherche un cycle dans un graphe d'au maximum $n-1$ arêtes et connexe (complexité en $O(n)$). Par conséquent, la complexité du tri est négligeable devant la complexité de la boucle et Kruskal a une complexité théorique en $O(m \\times n)$.\n",
    "Nous allons alors tenter de comparer cette complexité aux temps d'exécution. Pour cela, on va venir faire une interpolation de la courbe du temps d'exécution avec un polynôme de degré 1  en $n \\times m$. On pourra alors vérifier si les courbes sont proches.\n"
   ]
  },
  {
   "cell_type": "code",
   "execution_count": 20,
   "metadata": {},
   "outputs": [
    {
     "name": "stdout",
     "output_type": "stream",
     "text": [
      "100 110 120 130 140 150 160 170 180 190 200 210 220 230 240 250 260 270 280 290 300 310 320 330 340 350 360 370 380 390 "
     ]
    },
    {
     "data": {
      "image/png": "[encoded data removed]",
      "text/plain": [
       "<Figure size 432x288 with 1 Axes>"
      ]
     },
     "metadata": {
      "needs_background": "light"
     },
     "output_type": "display_data"
    }
   ],
   "source": [
    "####### Attention : Execution longue ##########\n",
    "\n",
    "#Declaration des differentes valeurs de n et des listes m ,\n",
    "#n et du temps d'execution de Kruskal\n",
    "nTest=[ i*10 for i in range(10,40)]\n",
    "n=[]\n",
    "m=[]\n",
    "tkruskal=[]\n",
    "#On realise le test pour plusieurs valeurs de n\n",
    "for i in nTest:\n",
    "    print(i,end=\" \")\n",
    "    #On genere le graphe, et on sauvegarde n et m\n",
    "    B=genGraphe2(i,i*10+i*i)\n",
    "    n.append(B.nbS)\n",
    "    m.append(B.nbA)\n",
    "    \n",
    "    #Calcul du temps d'execution de Kruskal\n",
    "    t1=time.time()\n",
    "    arbre1=Kruskal(B)\n",
    "    t2=time.time()\n",
    "    tkruskal.append(t2-t1)\n",
    "\n",
    "#Interpolation du temps d'execution en un polynome de degre 1 en fonction de la complexite théorique\n",
    "p=np.polyfit(np.array(n)*np.array(m),tkruskal,1)\n",
    "ypol=p[1]+p[0]*np.array(n)*np.array(m)\n",
    "\n",
    "#On affiche nos resultats\n",
    "plt.plot(np.array(n),tkruskal,label=\"Temps d'execution\")\n",
    "plt.plot(np.array(n),ypol,label=\"Complexite en O(m*n)\")\n",
    "plt.legend()\n",
    "plt.title(\"Comparaison complexite theorique et Temps d'execution (Kruskal1)\")\n",
    "plt.xlabel(\"Nombre de Noeuds (n )\")\n",
    "plt.ylabel(\"Temps d'execution (en s)\")\n",
    "plt.show()"
   ]
  },
  {
   "cell_type": "markdown",
   "metadata": {},
   "source": [
    "On peut alors observer que la courbe s'adapte parfaitement au temps d'exécution. Par conséquent, on peut confirmer que l'algorithme a une complexité en $O(m \\times n)$.\n",
    "\n",
    "Passons maintenant à l'algorithme de Prim. \n",
    "En ce qui concerne la complexité théorique, il possède aussi le tri en $O(m \\times log(m))$. Ensuite, cela va beaucoup varier en fonction du graphe. En effet, dans l'algoritme du cours, la complexité est en $O(n\\times n)$. On l'obtient en gardant en mémoire pour tous sommets n'appartenant pas à l'arbre ; la distance minimale allant d'un sommet appartenant déjà à l'arbre à ce dernier. Notre premier algorithme n'est pas aussi optimisé. En effet, ici nous avons dans la boucle $n$ itérations et lors d'une itération on va passer aux alentours de $O(n)$ fois dans la boucle *while* avec $O(n)$ comparaisons. On obtient donc une complexité en $O(n \\times n \\times n)$."
   ]
  },
  {
   "cell_type": "code",
   "execution_count": 21,
   "metadata": {},
   "outputs": [
    {
     "name": "stdout",
     "output_type": "stream",
     "text": [
      "100 110 120 130 140 150 160 170 180 190 200 210 220 230 240 250 260 270 280 290 300 310 320 330 340 350 360 370 380 390 400 410 420 430 440 450 460 470 480 490 500 510 520 530 540 550 560 570 580 590 "
     ]
    },
    {
     "data": {
      "image/png": "[encoded data removed]",
      "text/plain": [
       "<Figure size 432x288 with 1 Axes>"
      ]
     },
     "metadata": {
      "needs_background": "light"
     },
     "output_type": "display_data"
    }
   ],
   "source": [
    "####### Attention : Execution longue ##########\n",
    "\n",
    "#Declaration des differentes valeurs de n et des listes m, n et du temps d'execution de Prim\n",
    "nTest=[ i*10 for i in range(10,60)]\n",
    "n=[]\n",
    "m=[]\n",
    "tprim=[]\n",
    "#On realise le test pour plusieurs valeurs de n\n",
    "for i in nTest:\n",
    "    print(i,end=\" \")\n",
    "    #On genere le graphe, et on sauvegarde n et m\n",
    "    B=genGraphe2(i,i*10+i*i)\n",
    "    n.append(B.nbS)\n",
    "    m.append(B.nbA)\n",
    "    \n",
    "    #Calcul du temps d'execution de Prim\n",
    "    t1=time.time()\n",
    "    arbre1=Prim(B)\n",
    "    t2=time.time()\n",
    "    tprim.append(t2-t1)\n",
    "\n",
    "#Interpolation du temps d'execution en un polynome de degré 1 en fonction de la complexite theorique\n",
    "p1=np.polyfit(np.array(n)*np.array(n),tprim,1)\n",
    "ypol1=p1[1]+p1[0]*np.array(n)*np.array(n)\n",
    "p2=np.polyfit(np.array(n)*np.array(n)*np.array(n),tprim,1)\n",
    "ypol2=p2[1]+p2[0]*np.array(n)*np.array(n)*np.array(n)\n",
    "\n",
    "#On affiche nos resultats\n",
    "plt.plot(np.array(n),tprim,label=\"Temps d'execution\")\n",
    "plt.plot(np.array(n),ypol1,label=\"Complexite en O(n*n)\")\n",
    "plt.plot(np.array(n),ypol2,label=\"Complexite en O(n*n*n)\")\n",
    "plt.ylabel(\"Temps d'execution en s\")\n",
    "plt.xlabel('Nombre de noeuds ( n )')\n",
    "plt.title(\"Comparaison complexite theorique et Temps d'execution (Prim1)\")\n",
    "plt.legend()\n",
    "plt.show()"
   ]
  },
  {
   "cell_type": "markdown",
   "metadata": {},
   "source": [
    "On observe bien le résultat énoncé ci-dessus. Le temps d'exécution de l'algorithme s'adapte parfaitement à la courbe liée à la complexité en $O(n^3)$ alors que la complexité en $O(n^2)$ est trop faible. On obtient donc pas la complexité énoncée dans le cours mais cela n'a pas d'importance puisque que nous avons optimisée cet algorithme ensuite.\n",
    "\n",
    "Intéressons-nous alors à la deuxième version de l'algorithme de Prim.\n",
    "Théoriquement, la boucle va faire au maximum $m$ itérations. De plus, pour chaque itération on va retirer le premier élément du tas-min binaire ce qui se fait en $log($nbElement$)$. De plus, lorsqu'on rajoute un élément à l'arbre on y ajoute toutes ses arrêtes dans le tas donc on le fait $2 \\times m$ fois et cette opération est en $log($nbElement$)$. On obtient ainsi une complexité en $O(m \\times log($nbElement$))$. Dans notre cas, le nombre d'élément dans le tas varie à chaque tour on sait que le tas va être au maximum de $m-n$ éléments. On obtient alors une complexité en $O(m \\times log(m-n))$. Ce n'est pas la plus optimisée avec les tas-min binaires. On aurait pu aller jusqu'à $O(m \\times log(n))$ en prenant un tas-min binaire des sommets et non de toutes les arêtes. Comparons cela, avec les temps d'exécution."
   ]
  },
  {
   "cell_type": "code",
   "execution_count": 22,
   "metadata": {},
   "outputs": [
    {
     "name": "stdout",
     "output_type": "stream",
     "text": [
      "100 110 120 130 140 150 160 170 180 190 200 210 220 230 240 250 260 270 280 290 300 310 320 330 340 350 360 370 380 390 400 410 420 430 440 450 460 470 480 490 500 510 520 530 540 550 560 570 580 590 600 610 620 630 640 650 660 670 680 690 700 710 720 730 740 750 760 770 780 790 "
     ]
    },
    {
     "data": {
      "image/png": "[encoded data removed]",
      "text/plain": [
       "<Figure size 432x288 with 1 Axes>"
      ]
     },
     "metadata": {
      "needs_background": "light"
     },
     "output_type": "display_data"
    }
   ],
   "source": [
    "####### Attention : Execution longue ##########\n",
    "\n",
    "#Declaration des differentes valeurs de n et des listes m, n et du temps d'execution de Prim2\n",
    "nTest=[ i*10 for i in range(10,80)]\n",
    "n=[]\n",
    "m=[]\n",
    "tprim=[]\n",
    "#On realise le test pour plusieurs valeurs de n\n",
    "for i in nTest:\n",
    "    print(i,end=\" \")\n",
    "    #On genere le graphe, et on sauvegarde n et m\n",
    "    B=genGraphe2(i,i*10+i*i)\n",
    "    n.append(B.nbS)\n",
    "    m.append(B.nbA)\n",
    "    \n",
    "    #Calcul du temps d'execution de Prim2\n",
    "    t1=time.time()\n",
    "    arbre1=Prim2(B)\n",
    "    t2=time.time()\n",
    "    tprim.append(t2-t1)\n",
    "\n",
    "#Interpolation du temps d'execution en un polynome de degré 1 en fonction de la complexite theorique\n",
    "p1=np.polyfit(np.array(m)*np.array(np.log(n)),tprim,1)\n",
    "ypol1=p1[1]+p1[0]*np.array(m)*np.array(np.log(n))\n",
    "p2=np.polyfit(np.array(m)*np.array(np.log(np.array(m)-np.array(n))),tprim,1)\n",
    "ypol2=p2[1]+p2[0]*np.array(m)*np.array(np.log(np.array(m)-np.array(n)))\n",
    "\n",
    "#On affiche nos resultats\n",
    "plt.plot(np.array(n),tprim,label=\"Temps d'execution\")\n",
    "plt.plot(np.array(n),ypol1,label=\"Complexite en O(m*log(n))\")\n",
    "plt.plot(np.array(n),ypol2,label=\"Complexite en O(m*log(m-n))\")\n",
    "plt.ylabel(\"Temps d'execution en s\")\n",
    "plt.xlabel('Nombre de noeuds ( n )')\n",
    "plt.title(\"Comparaison complexite theorique et Temps d'execution (Prim2)\")\n",
    "plt.legend()\n",
    "plt.show()"
   ]
  },
  {
   "cell_type": "markdown",
   "metadata": {},
   "source": [
    "Ici, on ne voit pas beaucoup de différence car $n$ et $m$ sont assez \"proches\". En revanche, si on augmentait $m$ pourqu'il soit beaucoup plus grand, on pourrait voir apparaître la différence. Dans tout les cas, on remarque que la complexité de notre algorithme est en $O(m \\times log(m-n))$.\n",
    "\n",
    "Enfin, pour la deuxième version de Kruskal, on obtient la complexité théorique suivante :\n",
    "Nous n'avons plus la recherche de cycle basique à chaque itération. Au moment d’ajouter une arête $\\{u, v\\}$ dans $T$, on détecte alors un cycle en regardant simplement si $v$ est dans la liste des sommets que l’on peut atteindre\n",
    "depuis $u$. Grâce à la structure Union-Find, le maintien des listes de sommets accessibles et la\n",
    "détection de cycle peuvent alors être faits en $O(log(n))$. Par conséquent, l'exécution de la boucle est maintenant en $O(m \\times log(n))$ ce qui est cette fois négligeable devant la complexité du tri et l'algorithme de Kruskal est maintenant en $O(m \\times log(m))$.\n",
    "Comparons cela avec l'allure du temps d'exécution."
   ]
  },
  {
   "cell_type": "code",
   "execution_count": 23,
   "metadata": {},
   "outputs": [
    {
     "name": "stdout",
     "output_type": "stream",
     "text": [
      "100 110 120 130 140 150 160 170 180 190 200 210 220 230 240 250 260 270 280 290 300 310 320 330 340 350 360 370 380 390 400 410 420 430 440 450 460 470 480 490 500 510 520 530 540 550 560 570 580 590 600 610 620 630 640 650 660 670 680 690 700 710 720 730 740 750 760 770 780 790 "
     ]
    },
    {
     "data": {
      "image/png": "[encoded data removed]",
      "text/plain": [
       "<Figure size 432x288 with 1 Axes>"
      ]
     },
     "metadata": {
      "needs_background": "light"
     },
     "output_type": "display_data"
    }
   ],
   "source": [
    "####### Attention : Execution longue ##########\n",
    "\n",
    "#Declaration des differentes valeurs de n et des listes m, n et du temps d'execution de Kruskal2\n",
    "nTest=[ i*10 for i in range(10,80)]\n",
    "n=[]\n",
    "m=[]\n",
    "tkruskal=[]\n",
    "#On realise le test pour plusieurs valeurs de n\n",
    "for i in nTest:\n",
    "    print(i,end=\" \")\n",
    "    #On genere le graphe, et on sauvegarde n et m\n",
    "    B=genGraphe2(i,i*10+i*i)\n",
    "    n.append(B.nbS)\n",
    "    m.append(B.nbA)\n",
    "    \n",
    "    #Calcul du temps d'execution de Kruskal2\n",
    "    t1=time.time()\n",
    "    arbre1=Kruskal2(B)\n",
    "    t2=time.time()\n",
    "    tkruskal.append(t2-t1)\n",
    "\n",
    "#Interpolation du temps d'execution en un polynome de degré 1 en fonction de la complexite theorique\n",
    "p=np.polyfit(np.array(m)*np.array(np.log(np.array(m))),tkruskal,1)\n",
    "ypol=p[1]+p[0]*np.array(m)*np.array(np.log(np.array(m)))\n",
    "\n",
    "#On affiche nos resultats\n",
    "plt.plot(np.array(n),tkruskal,label=\"Temps d'execution\")\n",
    "plt.plot(np.array(n),ypol,label=\"Complexite en O(m*log(m)\")\n",
    "plt.legend()\n",
    "plt.title(\"Comparaison complexite theorique et Temps d'execution (Kruskal2)\")\n",
    "plt.xlabel(\"Nombre de Noeuds (n )\")\n",
    "plt.ylabel(\"Temps d'execution (en s)\")\n",
    "plt.show()"
   ]
  },
  {
   "cell_type": "markdown",
   "metadata": {},
   "source": [
    "On observe alors une dernière fois que la complexité théorique s'adapte parfaitement à la courbe de l'évolution du temps d'exécution. Par conséquent, on confirme que l'algorithme optimisé de Kruskal a une complexité en $O(m \\times log(m))$."
   ]
  },
  {
   "cell_type": "markdown",
   "metadata": {},
   "source": [
    "Nous avons donc pu étudier la complexité de tous les algorithmes. On peut alors en déduire que l'algorithme qui est le plus rapide asymptotiquement est l'algorithme de Prim avec sa complexité en $O(m \\times log(m-n))$ même si n va peu jouer sur la complexité. On peut alors tester cela sur des valeurs de $m$ et $n$ très grandes. On prend dans l'exemple ci-dessous $n=5000$ et $m=1000000$. Nous nous intéressons qu'aux 2 algorithmes optimisés car les autres prennent beaucoup trop de temps à s'exécuter."
   ]
  },
  {
   "cell_type": "code",
   "execution_count": 24,
   "metadata": {},
   "outputs": [
    {
     "name": "stdout",
     "output_type": "stream",
     "text": [
      "Creation du graphe\n",
      "Execution de la deuxième version de l'algorithme de Kruskal\n",
      "Le temps d'execution est de 10.636183261871338.\n",
      "Execution de la deuxième version de l'algorithme de Prim\n",
      "Le temps d'execution est de 7.704958915710449.\n"
     ]
    }
   ],
   "source": [
    "####### Attention : Execution longue ##########\n",
    "\n",
    "print(\"Creation du graphe\")\n",
    "nbS=5000\n",
    "nbA=1000000 \n",
    "B=genGraphe2(nbS,nbA)\n",
    "\n",
    "print(\"Execution de la deuxième version de l'algorithme de Kruskal\")\n",
    "t1=time.time()\n",
    "arbre3=Kruskal2(B)\n",
    "t2=time.time()\n",
    "print(f\"Le temps d'execution est de {t2-t1}.\")\n",
    "\n",
    "print(\"Execution de la deuxième version de l'algorithme de Prim\")\n",
    "t1=time.time()\n",
    "arbre4=Prim2(B)\n",
    "t2=time.time()\n",
    "print(f\"Le temps d'execution est de {t2-t1}.\")"
   ]
  },
  {
   "cell_type": "markdown",
   "metadata": {},
   "source": [
    "On remarque donc que le $-n$ a peu d'influence et que les temps d'exécution des 2 algorithmes sont proches. Ici, ce qui nous bloque pour aller plus loin dans la construction de grands graphes, c'est la construction de graphes avec la fonction genGraphe2 ; une amélioration serait alors d'optimiser cette fonction. \n",
    "Pour conclure sur cette première partie, nous avons tout d'abord implémenté des premières versions de Kruskal et Prim avec des complexités respectives en $O(m \\times n)$ et $O(n \\times n \\times n)$ puis nous avons optimisé les algorithmes afin d'obtenir de nouvelles versions en $O(m \\times log(m))$ et $O(m \\times log(m-n))$. Si nous voulions continuer à optimiser nos algorithmes, on pourrait optimiser l'algorithme de Prim avec les tas-min binaire jusqu'à obtenir une complexité en $O(m \\times log(n))$ ou même implémenter une version de Prim avec les tas de fibonacci qui permettent d'obtenir une complexité en $O(m+n \\times log(n))$."
   ]
  },
  {
   "cell_type": "markdown",
   "metadata": {},
   "source": [
    "## II) Arbre couvrant de poids minimum : Modélisation PLNE"
   ]
  },
  {
   "cell_type": "markdown",
   "metadata": {},
   "source": [
    "Nous allons maintenant modéliser le problème de l'arbre couvrant de poids minimum comme un programme linéaire en nombre entier. Pour cela nous utiliserons la librairie PuLP :"
   ]
  },
  {
   "cell_type": "code",
   "execution_count": 25,
   "metadata": {},
   "outputs": [],
   "source": [
    "from pulp import*\n",
    "import numpy as np\n",
    "from itertools import combinations\n",
    "import re\n",
    "import math as m"
   ]
  },
  {
   "cell_type": "markdown",
   "metadata": {},
   "source": [
    "### 1) Premier modèle"
   ]
  },
  {
   "cell_type": "markdown",
   "metadata": {},
   "source": [
    "On considère comme précédemment un graphe non-orienté connexe $G=[S,A]$ dont chaque arête possède un poids $p_{a}$. On note désormais $n=|S|$ et $m=|A|$. Par la suite, chaque sommet sera numéroté de $0$ à $n-1$ et chaque arête sera numérotée de $0$ à $m-1$. On définit donc notre modèle :\n",
    "\n",
    "*Variables :*\n",
    "- $\\forall a \\in A, x_a\\in \\{0,1\\}$ et $x_a=1$ si l'arrête $a$ est dans l'arbre couvrant de poids minimum.\n",
    "\n",
    "*Objectif :*\n",
    "\n",
    "- On cherche à minimiser la somme des poids des arêtes contenues dans l'arbre : \n",
    "\n",
    "$$\\min{\\sum_{a\\in A}{x_ap_a}}$$ \n",
    "\n",
    "*Contraintes :*\n",
    "\n",
    "Il faut que le graphe obtenu soit un arbre, on impose donc les 2 contraintes suivantes:\n",
    "\n",
    "- Il faut qu'il y ait exactement $|S|-1$ arêtes soit $n-1$ arêtes :\n",
    "\n",
    "$$\\begin{equation}\n",
    "    {\\sum_{a\\in A}{x_a}=n-1}\n",
    "    \\end{equation}$$\n",
    "\n",
    "- Pour assurer la connexité et éviter la présence de cycles, chaque sous-ensemble $\\bar{S}\\subset S$ doit avoir au plus $|\\bar{S}|-1$ arêtes : \n",
    "\n",
    "$\\begin{equation}\n",
    "    \\sum_{a\\in \\bar{A}}{x_a} \\le |\\bar{S}|-1\n",
    "    \\end{equation}$, $\\forall \\bar{S}\\subset S$ et $\\bar{A}$ l'ensemble des arêtes dont les 2 sommets sont dans $\\bar{S}$.\n"
   ]
  },
  {
   "cell_type": "markdown",
   "metadata": {},
   "source": [
    "On crée donc d'abord une fonction chargée de construire le modèle. Elle prendra en argument la liste d'incidence du graphe (sous forme d'un dictionnaire dont les clés sont les sommets et les valeurs les arêtes ayant une extrémité dans ces sommets) ainsi qu'un dictionnaire contenant les poids de chaque arête et dont la numérotation des arêtes correspond à celle de la liste. Cette fonction renvoie le modèle non résolu."
   ]
  },
  {
   "cell_type": "code",
   "execution_count": 26,
   "metadata": {},
   "outputs": [],
   "source": [
    "def ModelePLNE_1(Liste,Poids):\n",
    "    \n",
    "    #Creation du problème :\n",
    "    prob = LpProblem(\"ACPM_1\",LpMinimize)\n",
    "    \n",
    "    n = len(Liste.keys()) #Nombre de sommets\n",
    "    m = len(Poids.keys()) #Nombre d'aretes\n",
    "    S = list(Liste.keys()) #Liste des sommets\n",
    "    A = list(Poids.keys()) #Liste des arêtes\n",
    "    \n",
    "    #Variables :\n",
    "    x={}\n",
    "    for i in A:\n",
    "        x[i] = LpVariable(\"x\"+\"_\"+str(i),0,1,LpInteger)\n",
    "\n",
    "            \n",
    "    #Objectif :\n",
    "    prob += lpSum([x[i]*Poids[i] for i in A])\n",
    "\n",
    "    #Contraintes :\n",
    "    \n",
    "    prob += lpSum([x[i] for i in A]) == n-1\n",
    "    \n",
    "    for k in range(3,n):\n",
    "        L = list(combination(S,k))\n",
    "        for ensemble in L:\n",
    "            E = []\n",
    "            for arc in A:\n",
    "                for sommet1 in ensemble:\n",
    "                    for sommet2 in ensemble:\n",
    "                        if(sommet1 != sommet2 and arc in Liste[sommet1] and arc in Liste[sommet2] and arc not in E):\n",
    "                            E.append(arc)\n",
    "            prob += lpSum([x[a] for a in E])<=k-1\n",
    "                \n",
    "    #Retour du probleme :\n",
    "    return(prob)"
   ]
  },
  {
   "cell_type": "markdown",
   "metadata": {},
   "source": [
    "*Remarque :*\n",
    "\n",
    "Pour modéliser la seconde contrainte, nous avons considéré toutes les combinaisons de $k\\in\\{3,...,n-1\\}$ sommets parmi $n$ sommets au total pour décrire les sous-ensembles $\\bar{S}\\subset S$. Le nombre de contraintes **NbCTR** pour un graphe donné en entrée de $n$ sommets sera donc :\n",
    "\n",
    "$NbCTR = 1+\\sum_{k=3}^{n-1}{C_n^k}=\\sum_{k=0}^{n}{C_n^k}+1-C_n^0-C_n^1-C_n^2-C_n^n=2^n-n-\\frac{n(n-1)}{2}-1$\n",
    "\n",
    "Pour un graphe (de $n$ sommets et de $m$ arêtes) donné en entrée, ce premier modèle contiendra $m$ variables et $2^n-n-\\frac{n(n-1)}{2}-1$ contraintes."
   ]
  },
  {
   "cell_type": "markdown",
   "metadata": {},
   "source": [
    "On crée ensuite une fonction permettant de résoudre le problème et de l'afficher. Cette fonction prend en paramètres le modèle, son nom et une variable booléenne. Si cette dernière est VRAI, on affichera le modèle complet et sa solution en affichant les valeurs de toutes les variables (pour ne pas encombrer l'affichage, seules les variables $x_a$ égales à 1 seront affichées). Si elle est FAUSSE, la fonction affiche simplement la solution en indiquant seulement le numéro des arêtes présentes dans l'arbre final ainsi que le poids total de cet arbre."
   ]
  },
  {
   "cell_type": "code",
   "execution_count": 27,
   "metadata": {},
   "outputs": [],
   "source": [
    "def SolveAndPrint_1(Modele,name,Affichage_modele = 0): \n",
    "    if(Affichage_modele):\n",
    "        #Affichage du modele\n",
    "        Modele.writeLP(name)\n",
    "        print(Modele)\n",
    "        #Resolution:\n",
    "        print(\"Solve with CBC\")\n",
    "        Modele.solve(PULP_CBC_CMD())\n",
    "        print(\"Status :\",LpStatus[Modele.status])\n",
    "        #Affichage de la solution :\n",
    "        print(\"Optimal value =\",value(Modele.objective))\n",
    "        print(\"Optimal solution :\")\n",
    "        for v in Modele.variables():\n",
    "            if(v.varValue != 0):\n",
    "                print(v.name,\"=\",v.varValue)\n",
    "    else:\n",
    "        #Resolution:\n",
    "        print(\"Solve with CBC\")\n",
    "        Modele.solve(PULP_CBC_CMD())\n",
    "        print(\"Status :\",LpStatus[Modele.status])\n",
    "        AretesTraites = []\n",
    "        regexp = re.compile(r\"_(\\w+)\")\n",
    "        for v in Modele.variables():\n",
    "            if(v.varValue != 0 and v.name[0] == 'x'):\n",
    "                result = regexp.search(v.name)\n",
    "                if result != None:\n",
    "                    i = result.group(1)\n",
    "                    AretesTraites.append(i)\n",
    "        for arete in AretesTraites:\n",
    "            print(\"L'arbre contient l'arete n°\",arete)\n",
    "        print('Le poids de total de l\\'arbre est de : ',value(Modele.objective))"
   ]
  },
  {
   "cell_type": "markdown",
   "metadata": {},
   "source": [
    "*Exemples et tests :*\n",
    "\n",
    "Nous allons maintenant tester ces fonctions sur des exemples (dont l'exemple du cours) :"
   ]
  },
  {
   "cell_type": "markdown",
   "metadata": {},
   "source": [
    "*Exemple n°1 :*"
   ]
  },
  {
   "cell_type": "code",
   "execution_count": 28,
   "metadata": {},
   "outputs": [
    {
     "data": {
      "image/png": "[encoded data removed]",
      "text/plain": [
       "<IPython.core.display.Image object>"
      ]
     },
     "execution_count": 28,
     "metadata": {},
     "output_type": "execute_result"
    }
   ],
   "source": [
    "Image(\"image1.PNG\")"
   ]
  },
  {
   "cell_type": "markdown",
   "metadata": {},
   "source": [
    "Ce graphe possède $5$ sommets, il y aura donc $16$ contraintes. "
   ]
  },
  {
   "cell_type": "code",
   "execution_count": 29,
   "metadata": {},
   "outputs": [
    {
     "name": "stdout",
     "output_type": "stream",
     "text": [
      "Solve with CBC\n",
      "Status : Optimal\n",
      "L'arbre contient l'arete n° 0\n",
      "L'arbre contient l'arete n° 3\n",
      "L'arbre contient l'arete n° 5\n",
      "L'arbre contient l'arete n° 6\n",
      "Le poids de total de l'arbre est de :  11.0\n"
     ]
    }
   ],
   "source": [
    "#Creation de la liste d'incidence du graphe :\n",
    "L1 = {0:{0,1},1:{1,2,4,5},2:{5,6},3:{3,4,6},4:{0,2,3}}\n",
    "    \n",
    "#Creation du dictionnaire des poids :\n",
    "P1 = {0:4,1:5,2:6,3:2,4:4,5:2,6:3}\n",
    "\n",
    "#Recherche de l'arbre couvrant de poids minimum (ACPM) :\n",
    "SolveAndPrint_1(ModelePLNE_1(L1,P1),\"ACPM Exemple n°1\")"
   ]
  },
  {
   "cell_type": "markdown",
   "metadata": {},
   "source": [
    "Obtient ainsi l'arbre suivant. On retrouve bien le même résultat que celui obtenu avec l'implémentation des algorithmes de Prim et de Kruskal :"
   ]
  },
  {
   "cell_type": "code",
   "execution_count": 30,
   "metadata": {},
   "outputs": [
    {
     "data": {
      "image/png": "[encoded data removed]",
      "text/plain": [
       "<IPython.core.display.Image object>"
      ]
     },
     "execution_count": 30,
     "metadata": {},
     "output_type": "execute_result"
    }
   ],
   "source": [
    "Image(\"image2.PNG\")"
   ]
  },
  {
   "cell_type": "markdown",
   "metadata": {},
   "source": [
    "*Exemple n°2 :*\n",
    "\n",
    "On essaye maintenant notre programme sur un graphe possèdant cette fois-ci plus de sommets. Le graphe suivant possède $10$ sommets, il y aura donc $968$ contraintes dans notre programme."
   ]
  },
  {
   "cell_type": "code",
   "execution_count": 31,
   "metadata": {},
   "outputs": [
    {
     "data": {
      "image/png": "[encoded data removed]",
      "text/plain": [
       "<IPython.core.display.Image object>"
      ]
     },
     "execution_count": 31,
     "metadata": {},
     "output_type": "execute_result"
    }
   ],
   "source": [
    "Image(\"image3.PNG\")"
   ]
  },
  {
   "cell_type": "code",
   "execution_count": 32,
   "metadata": {},
   "outputs": [
    {
     "name": "stdout",
     "output_type": "stream",
     "text": [
      "Solve with CBC\n",
      "Status : Optimal\n",
      "L'arbre contient l'arete n° 11\n",
      "L'arbre contient l'arete n° 12\n",
      "L'arbre contient l'arete n° 17\n",
      "L'arbre contient l'arete n° 2\n",
      "L'arbre contient l'arete n° 20\n",
      "L'arbre contient l'arete n° 3\n",
      "L'arbre contient l'arete n° 6\n",
      "L'arbre contient l'arete n° 7\n",
      "L'arbre contient l'arete n° 8\n",
      "Le poids de total de l'arbre est de :  38.0\n"
     ]
    }
   ],
   "source": [
    "#Creation de la liste d'incidence du graphe:\n",
    "L2 = {0: {0, 16, 20},\n",
    "      1: {0, 1, 2, 4},\n",
    "      2: {1, 3, 14, 15, 20},\n",
    "      3: {2, 3, 5, 6},\n",
    "      4: {4, 5, 7, 8, 9},\n",
    "      5: {8, 10, 11},\n",
    "      6: {9, 11, 12, 13},\n",
    "      7: {10, 12, 18, 19},\n",
    "      8: {6, 7, 13, 14, 17, 18},\n",
    "      9: {15, 16, 17, 19}}\n",
    "    \n",
    "#Creation du dictionnaire des poids:\n",
    "P2={}\n",
    "    \n",
    "P2[0]=6; P2[1]=4; P2[2]=2; P2[3]=2; P2[4]=9\n",
    "P2[5]=9; P2[6]=8; P2[7]=7; P2[8]=4; P2[9]=5\n",
    "P2[10]=4; P2[11]=1; P2[12]=3; P2[13]=9; P2[14]=9\n",
    "P2[15]=9; P2[16]=9; P2[17]=8; P2[18]=10; P2[19]=18\n",
    "P2[20]=3\n",
    "\n",
    "#Recherche de l'arbre couvrant de poids minimum (ACPM):\n",
    "SolveAndPrint_1(ModelePLNE_1(L2,P2),\"ACPM Exemple n°2\")"
   ]
  },
  {
   "cell_type": "markdown",
   "metadata": {},
   "source": [
    " On obtient ainsi le résultat suivant. Le sous-graphe retenu est bien un arbre (c'est un graphe connexe et acyclique) et la somme des poids de toutes les arêtes est minimum :"
   ]
  },
  {
   "cell_type": "code",
   "execution_count": 33,
   "metadata": {},
   "outputs": [
    {
     "data": {
      "image/png": "[encoded data removed]",
      "text/plain": [
       "<IPython.core.display.Image object>"
      ]
     },
     "execution_count": 33,
     "metadata": {},
     "output_type": "execute_result"
    }
   ],
   "source": [
    "Image(\"image4.PNG\")"
   ]
  },
  {
   "cell_type": "markdown",
   "metadata": {},
   "source": [
    "Il serait maintenant intéressant de tester ce modèle sur des graphes générés aléatoirement (afin d'étudier plus en détails ses performances sur des graphes de grande taille). Précédemment, nous avons créé une fonction *genGraphe2* permettant de générer un graphe connexe non orienté d'une taille donnée (nombre d'arêtes et de sommets) dont chacun des arcs possède un poids. Le graphe créé possède un double dictionnaire contenant ses arêtes et les poids associés. Nous allons donc créer une fonction \"ConvertirListe\" qui, à partir de ce double dictionnaire, crée la liste d'incidence du graphe et un dictionnaire de poids qui lui est associé."
   ]
  },
  {
   "cell_type": "code",
   "execution_count": 34,
   "metadata": {},
   "outputs": [],
   "source": [
    "def ConvertirListe(Dictionnaire):\n",
    "    Aretes = {}\n",
    "    Poids = {}\n",
    "    Adjacence = {}\n",
    "    k = 0\n",
    "    for i in Dictionnaire:\n",
    "        for j in Dictionnaire[i]:\n",
    "            if({i,j} not in Aretes.values()):\n",
    "                Aretes[k] = {i,j}\n",
    "                Poids[k] = Dictionnaire[i][j]\n",
    "                k +=1\n",
    "    for v in Dictionnaire:\n",
    "        L =[]\n",
    "        for a in Aretes:\n",
    "            if v in Aretes[a]:\n",
    "                L.append(a)\n",
    "        Adjacence[v] = set(L)\n",
    "    return(Adjacence,Poids)\n",
    "    "
   ]
  },
  {
   "cell_type": "markdown",
   "metadata": {},
   "source": [
    "On peut maintenant tester ce modèle sur des graphes générés aléatoirement. On compare également la solution obtenue avec le modèle PLNE avec celles des algorithmes de Prim et de Kruskal (on n'affichera que les poids des arbres obtenus pour les algorithmes de Prim et Kruskal) :"
   ]
  },
  {
   "cell_type": "code",
   "execution_count": 35,
   "metadata": {},
   "outputs": [
    {
     "name": "stdout",
     "output_type": "stream",
     "text": [
      "Solve with CBC\n",
      "Status : Optimal\n",
      "L'arbre contient l'arete n° 0\n",
      "L'arbre contient l'arete n° 1\n",
      "L'arbre contient l'arete n° 13\n",
      "L'arbre contient l'arete n° 14\n",
      "L'arbre contient l'arete n° 18\n",
      "L'arbre contient l'arete n° 19\n",
      "L'arbre contient l'arete n° 5\n",
      "L'arbre contient l'arete n° 6\n",
      "L'arbre contient l'arete n° 8\n",
      "Le poids de total de l'arbre est de :  25.0\n",
      "Poids de l'abre obtenu avec l'algorithme de Kruskal:  25.0\n",
      "Poids de l'abre obtenu avec l'algorithme de Prim:  25.0\n"
     ]
    }
   ],
   "source": [
    "#On genere un graphe non oriente connexe de 15 sommets \n",
    "G3 = genGraphe2(10,20,1,10)\n",
    "\n",
    "#On recupere la liste d'incidence du graphe ainsi que le dictionnaire de poids associe\n",
    "L3,P3 = ConvertirListe(G3.ar)\n",
    "\n",
    "#Recherche de l'arbre couvrant de poids minimum (ACPM):\n",
    "SolveAndPrint_1(ModelePLNE_1(L3,P3),\"ACPM Exemple graphe connexe aléatoire\")\n",
    "\n",
    "#Solution algorithme de Kruskal :\n",
    "Arbre_K = Kruskal2(G3)\n",
    "Poid_total_K = 0\n",
    "for i in Arbre_K.ar:\n",
    "    for j in Arbre_K.ar[i]:\n",
    "        Poid_total_K += Arbre_K.ar[i][j]\n",
    "Poid_total_K = Poid_total_K/2\n",
    "print(\"Poids de l'abre obtenu avec l'algorithme de Kruskal: \",Poid_total_K)\n",
    "\n",
    "#Solution algorithme de Prim :\n",
    "Arbre_P = Prim2(G3)\n",
    "Poid_total_P = 0\n",
    "for i in Arbre_P.ar:\n",
    "    for j in Arbre_P.ar[i]:\n",
    "        Poid_total_P += Arbre_P.ar[i][j]\n",
    "Poid_total_P = Poid_total_P/2\n",
    "print(\"Poids de l'abre obtenu avec l'algorithme de Prim: \",Poid_total_P)"
   ]
  },
  {
   "cell_type": "markdown",
   "metadata": {},
   "source": [
    "Ceci nous a donc permis de verifier que ce premier modèle renvoyait bien les mêmes résultats que les algorithmes de Prim et Kruskal implémentés précédemment."
   ]
  },
  {
   "cell_type": "markdown",
   "metadata": {},
   "source": [
    "Nous savons maintenant que ce premier modèle fonctionne. Il a été testé sur des graphes de petite taille (\\<10 sommets) mais qu'en est-il pour des instances plus grandes ? Nous avons vu que le nombre de contraintes générées était de $2^n-n-\\frac{n(n-1)}{2}-1$, cela signifie que le nombre de contraintes augmente très rapidement avec le nombre de sommets du graphe à traiter."
   ]
  },
  {
   "cell_type": "markdown",
   "metadata": {},
   "source": [
    "Nous proposons donc un second modèle qui génèrera moins de contraintes que celui-ci."
   ]
  },
  {
   "cell_type": "markdown",
   "metadata": {},
   "source": [
    "### 2) Second modèle"
   ]
  },
  {
   "cell_type": "markdown",
   "metadata": {},
   "source": [
    "On considère toujours $G=(S,A)$ un graphe non-orienté connexe. Chaque arête $\\{i,j\\}$$\\in$$A$ est munie d’un poids $p_{ij}$.\n",
    "Pour modéliser ce problème, on crée cette fois-ci un graphe orienté $\\bar{G}=(S,\\bar{A})$ associé à $G$ tel que $\\forall \\{u,v\\}\\in A$ on a $(u,v)\\in \\bar{A}$ et $(v,u)\\in \\bar{A}$ (Pour charque arête de $G$, on crée deux arcs de sens inverse dans $\\bar{G}$). On cherche un arbre $T=(S,A_T)$ tel que $A_T \\subset A$ dont le poids total est minimum. Le second modèle que nous proposons utilisera des flots dans le graphe $\\bar{G}$ permettant d'assurer la connexité dans l'arbre final $T$. En effet, si on prend un sommet $s$ quelconque de $S$, $T$ est connexe si et seulement si pour tous $t\\in S\\backslash \\{s\\}$, il existe un flot $s-t$ compatible de valeur $1$ dans $\\bar{T}$ le graphe orienté associé à $T$."
   ]
  },
  {
   "cell_type": "markdown",
   "metadata": {},
   "source": [
    "*Variables :*\n",
    "\n",
    "- $\\forall (i,j) \\in \\bar{A}$, $x_{ij}$ est une variable de décision binaire $(x_{ij} \\in \\{0,1\\})$ et $x_{ij}=1$ si $\\{i,j\\}$ est dans $T$ (On a donc forcément $x_{ij}=x_{ji}$). \n",
    "- On choisit arbitrairement une source parmi $S$ que l’on note $s$. $\\forall  t \\in S\\backslash \\{s\\}$ et $\\forall (i,j)\\in \\bar{A}$,  $f_{(i,j)}^t$ est une variable binaire $(f_{(i,j)}^t \\in \\{0,1\\})$ donnant la valeur d’un flot $s-t$ compatible de valeur 1 passant sur l’arc $(i,j)$. $f_{(i,j)}^t=1$ s’il existe un flot  $s-t$ valant 1 passant par $(i,j)$.\n",
    "\n",
    "*Objectif :*\n",
    "\n",
    "On cherche à trouver un ensemble d'arêtes tel que le graphe $T$ restreint à cet ensemble d'arêtes est un arbre. On cherche enfin à minimiser le poids total de l'arbre $T$ (ici la valeur de l'objectif est divisée par 2 car chaque arête est représentée par 2 arcs dans $\\bar{G}$):\n",
    "\n",
    "$$\\min{\\frac{1}{2}\\sum_{(i,j)\\in \\bar{A}}{p_{ij}x_{ij}}}$$\n",
    "\n",
    "\n",
    "*Contraintes :*\n",
    "\n",
    "- Dans $\\bar{G}$, si on choisit un arc dans un sens alors on prend aussi celui dans l'autre sens : $\\forall (i,j) \\in \\bar{A}, x_{ij} = x_{ji}$.\n",
    "- Pour tous les sommets $t$ différents de $s$, le flot $s-t$ doit respecter la loi de conservation des flux :\n",
    "\n",
    "$$\\forall t \\in S\\backslash \\{s\\}, \\forall x \\in S\\backslash \\{s,t\\}, \\sum_{(u,x)\\in \\delta^{-}(x)}{f_{(u,x)}^t} = \\sum_{(x,v)\\in \\delta^{+}(x)}{f_{(x,v)}^t}$$\n",
    "\n",
    "- Pour tous les sommets $t$ différents de $s$, le flot $s-t$ doit être égal à 1 :\n",
    "\n",
    "$$\\forall t \\in S\\backslash \\{s\\},  \\sum_{(s,v)\\in \\delta^{+}(s)}{f_{(s,v)}^t} = 1$$\n",
    "\n",
    "$$\\forall t \\in S\\backslash \\{s\\},  \\sum_{(u,t)\\in \\delta^{-}(t)}{f_{(u,t)}^t} = 1$$\n",
    "\n",
    "- Pour tous les sommets $t$ différents de $s$, le flot $s-t$ entrant dans $s$ doit être nul :\n",
    "\n",
    "$$\\forall t \\in S\\backslash \\{s\\},  \\sum_{(u,s)\\in \\delta^{-}(s)}{f_{(u,s)}^t} = 0$$\n",
    "\n",
    "- Pour tous les sommets $t$ différents de $s$, le flot $s-t$ sortant de $t$ doit être nul :\n",
    "\n",
    "$$\\forall t \\in S\\backslash \\{s\\},  \\sum_{(t,v)\\in \\delta^{+}(t)}{f_{(t,v)}^t} = 0$$\n",
    "\n",
    "- Si $T$ est connexe alors $T$ est un arbre si $|A_T| = |S|-1$ (Chaque arête dans $T$ est représentée par 2 arcs donc on multiplie $|S|-1$ par 2):\n",
    "\n",
    "$$\\sum_{(i,j) \\in \\bar{A}}{x_{ij}} = 2 \\times (n-1)$$\n",
    "\n",
    "- Un flot ne peut valoir 1 sur une arête que si elle est choisie : $\\forall t\\in S\\backslash \\{s\\}, \\forall (i,j)\\in \\bar{A}, f_{(i,j)}^t \\le x_{i,j}$\n"
   ]
  },
  {
   "cell_type": "markdown",
   "metadata": {},
   "source": [
    "On crée donc d'abord une fonction chargée de construire ce nouveau modèle. Elle prendra en argument un double dictionnaire contenant les arêtes du graphe (Comme l'attribut \"Graphe.ar\" de la classe \"Graphe()\"). Cette fonction renvoie le modèle non résolu."
   ]
  },
  {
   "cell_type": "code",
   "execution_count": 36,
   "metadata": {},
   "outputs": [],
   "source": [
    "def ModelePLNE_2(A):\n",
    "    \n",
    "    #Creation du problème :\n",
    "    prob = LpProblem(\"ACPM\",LpMinimize)\n",
    "    S = list(A.keys()).copy() #Liste contenant les sommets du graphe (On effectue une copie car on est amenes a retirer un sommet)\n",
    "    n = len(S) #Nombre de sommets du graphe\n",
    "    VsansSource = S\n",
    "    s = VsansSource.pop(0)\n",
    "    \n",
    "    #Variables :\n",
    "    x={}\n",
    "    for i in A.keys():\n",
    "        x[i] = {}\n",
    "        for j in A[i].keys():\n",
    "            x[i][j] = LpVariable(\"x_\"+str(i)+\"_\"+str(j),0,1,LpInteger)\n",
    "            \n",
    "    f={}\n",
    "    for i in A.keys():\n",
    "        f[i] = {}\n",
    "        for j in A[i].keys():\n",
    "            f[i][j] = {}\n",
    "            for t in VsansSource:\n",
    "                f[i][j][t] = LpVariable(\"f_\"+str(i)+\"_\"+str(j)+\"_\"+str(t),0,1,LpInteger)\n",
    "                    \n",
    "            \n",
    "    #Objectif :\n",
    "    prob += 1/2*lpSum([lpSum([x[i][j]*A[i][j] for j in A[i].keys()] for i in A.keys())])\n",
    "\n",
    "    #Contraintes :\n",
    "    for i in A.keys():\n",
    "        for j in A[i].keys():\n",
    "            prob += x[i][j] == x[j][i]\n",
    "            \n",
    "    for t in VsansSource:\n",
    "        for a in S:\n",
    "            if(a not in [s,t]):\n",
    "                prob += lpSum([f[a][j][t] for j in A[a].keys()]) == lpSum([f[i][a][t] for i in A.keys() if a in list(A[i].keys())])\n",
    "    \n",
    "    for t in VsansSource:\n",
    "        prob += lpSum([f[s][j][t] for j in A[s].keys()]) == 1\n",
    "        prob += lpSum([f[i][s][t] for i in A.keys() if s in list(A[i].keys())]) == 0\n",
    "    \n",
    "    for t in VsansSource:\n",
    "        prob += lpSum([f[i][t][t] for i in A.keys() if t in list(A[i].keys())]) == 1\n",
    "        prob += lpSum([f[t][j][t] for j in A[t].keys()]) == 0\n",
    "        \n",
    "    prob += lpSum([lpSum([x[i][j] for j in A[i].keys()]) for i in A.keys()]) == 2*(n-1)\n",
    "    \n",
    "    for t in VsansSource:\n",
    "        for i in A.keys():\n",
    "            for j in A[i].keys():\n",
    "                prob += f[i][j][t] <= x[i][j]\n",
    "            \n",
    "    #Retour du probleme :\n",
    "    return(prob)\n",
    "\n"
   ]
  },
  {
   "cell_type": "markdown",
   "metadata": {},
   "source": [
    "*Remarque:*\n",
    "\n",
    "Si le graphe donné en entrée possède $n$ sommets et $m$ arêtes, le second modèle génère $2 m + 2 m (n-1)$ variables et $2 m + (n-1) (n-2) + 4 (n-1) + 2 m (n-1) +1$ contraintes. Ces données seront intéressantes lorsque nous comparerons les performances des 2 modèles. "
   ]
  },
  {
   "cell_type": "markdown",
   "metadata": {},
   "source": [
    "De la même manière, on créé une nouvelle fonction de résolution et d'affichage du modèle qui prendra en paramètres le modèle, son nom et un indicateur booléen. Si cet indicateur est VRAI, on affichera alors l'intégralité du modèle et en particulier les valeurs de chaque variable. Si il est FAUX, l'affichage ne se limitera qu'aux arêtes contenues dans l'arbre final et à la valeur de l'objectif (poids de l'arbre)."
   ]
  },
  {
   "cell_type": "code",
   "execution_count": 37,
   "metadata": {},
   "outputs": [],
   "source": [
    "def SolveAndPrint_2(Modele,name,Affichage_modele=0):\n",
    "    if(Affichage_modele):\n",
    "        #Affichage du modele\n",
    "        Modele.writeLP(name)\n",
    "        print(Modele)\n",
    "        #Résolution:\n",
    "        print(\"Solve with CBC\")\n",
    "        Modele.solve(PULP_CBC_CMD())\n",
    "        print(\"Status :\",LpStatus[Modele.status])\n",
    "        #Affichage de la solution :\n",
    "        print(\"Optimal value =\",value(Modele.objective))\n",
    "        print(\"Optimal solution :\")\n",
    "        for v in Modele.variables():\n",
    "            if(v.varValue != 0):\n",
    "                print(v.name,\"=\",v.varValue)\n",
    "    else:\n",
    "        #Resolution:\n",
    "        print(\"Solve with CBC\")\n",
    "        Modele.solve(PULP_CBC_CMD())\n",
    "        print(\"Status :\",LpStatus[Modele.status])\n",
    "        #Affichage de la solution :\n",
    "        AretesTraites = []\n",
    "        regexp = re.compile(r\"_(\\w+)_(\\w+)\")\n",
    "        for v in Modele.variables():\n",
    "            if(v.varValue != 0 and v.name[0] == 'x'):\n",
    "                result = regexp.search(v.name)\n",
    "                if result != None:\n",
    "                    i = result.group(1)\n",
    "                    j = result.group(2)\n",
    "                    if([j,i] not in AretesTraites):\n",
    "                        AretesTraites.append([i,j])\n",
    "        for arete in AretesTraites:\n",
    "            print(\"L'arbre contient l'arete {\",arete[0],\",\",arete[1],\"}\")\n",
    "        print('Le poids de total de l\\'arbre est de : ',value(Modele.objective))"
   ]
  },
  {
   "cell_type": "markdown",
   "metadata": {},
   "source": [
    "Comme pour le précédent modèle, on effectue des test sur les 2 exemples proposés:"
   ]
  },
  {
   "cell_type": "markdown",
   "metadata": {},
   "source": [
    "*Exemple n°1:*"
   ]
  },
  {
   "cell_type": "code",
   "execution_count": 38,
   "metadata": {
    "scrolled": true
   },
   "outputs": [
    {
     "name": "stdout",
     "output_type": "stream",
     "text": [
      "Solve with CBC\n",
      "Status : Optimal\n",
      "L'arbre contient l'arete { A , E }\n",
      "L'arbre contient l'arete { B , C }\n",
      "L'arbre contient l'arete { C , D }\n",
      "L'arbre contient l'arete { D , E }\n",
      "Le poids de total de l'arbre est de :  11.0\n"
     ]
    }
   ],
   "source": [
    "#Creation du graphe:\n",
    "G1 = Graphe()\n",
    "G1.ajouterArete('A','B',5)\n",
    "G1.ajouterArete('B','C',2)\n",
    "G1.ajouterArete('C','D',3)\n",
    "G1.ajouterArete('D','E',2)\n",
    "G1.ajouterArete('E','A',4)\n",
    "G1.ajouterArete('E','B',6)\n",
    "G1.ajouterArete('B','D',4)\n",
    "\n",
    "#Resolution à l'aide du second modele\n",
    "SolveAndPrint_2(ModelePLNE_2(G1.ar),\"ACPM exemple n°1\")"
   ]
  },
  {
   "cell_type": "markdown",
   "metadata": {},
   "source": [
    "On retrouve bien le même résultat que celui obtenu avec le premier modèle."
   ]
  },
  {
   "cell_type": "markdown",
   "metadata": {},
   "source": [
    "*Exemple n°2 :*"
   ]
  },
  {
   "cell_type": "code",
   "execution_count": 39,
   "metadata": {
    "scrolled": true
   },
   "outputs": [
    {
     "name": "stdout",
     "output_type": "stream",
     "text": [
      "Solve with CBC\n",
      "Status : Optimal\n",
      "L'arbre contient l'arete { 10 , 9 }\n",
      "L'arbre contient l'arete { 1 , 3 }\n",
      "L'arbre contient l'arete { 2 , 4 }\n",
      "L'arbre contient l'arete { 3 , 4 }\n",
      "L'arbre contient l'arete { 4 , 9 }\n",
      "L'arbre contient l'arete { 5 , 6 }\n",
      "L'arbre contient l'arete { 5 , 9 }\n",
      "L'arbre contient l'arete { 6 , 7 }\n",
      "L'arbre contient l'arete { 7 , 8 }\n",
      "Le poids de total de l'arbre est de :  38.0\n"
     ]
    }
   ],
   "source": [
    "#Creation du graphe (On cree cette fois-ci directement le double dictionnaire sans passer par la classe Graphe):\n",
    "G2={}\n",
    "G2[1]={2:6,3:3,10:9}\n",
    "G2[2]={1:6,3:4,4:2,5:9}\n",
    "G2[3]={1:3,10:9,9:9,4:2,2:4}\n",
    "G2[4]={3:2,9:8,5:9,2:2}\n",
    "G2[5]={2:9,4:9,9:7,7:5,6:4}\n",
    "G2[6]={5:4,7:1,8:4}\n",
    "G2[7]={5:5,6:1,8:3,9:9}\n",
    "G2[8]={6:4,7:3,9:10,10:18}\n",
    "G2[9]={10:8,3:9,4:8,5:7,7:9,8:10}\n",
    "G2[10]={1:9,3:9,9:8,8:18}\n",
    "\n",
    "#Resolution a l'aide du second modele\n",
    "SolveAndPrint_2(ModelePLNE_2(G2),\"ACPM exemple n°2\")"
   ]
  },
  {
   "cell_type": "markdown",
   "metadata": {},
   "source": [
    "On obtient le même résultat que celui obtenu avec le premier modèle."
   ]
  },
  {
   "cell_type": "markdown",
   "metadata": {},
   "source": [
    "*Exemple n°3 :*\n",
    "\n",
    "On peut maintenant tester ce modèle sur un graphe connexe généré aléatoirement en comparant le résulat obtenu avec les algorithmes de Prim et Kruskal."
   ]
  },
  {
   "cell_type": "code",
   "execution_count": 40,
   "metadata": {},
   "outputs": [
    {
     "name": "stdout",
     "output_type": "stream",
     "text": [
      "Solve with CBC\n",
      "Status : Optimal\n",
      "L'arbre contient l'arete { 10 , 6 }\n",
      "L'arbre contient l'arete { 10 , 9 }\n",
      "L'arbre contient l'arete { 1 , 2 }\n",
      "L'arbre contient l'arete { 1 , 5 }\n",
      "L'arbre contient l'arete { 2 , 3 }\n",
      "L'arbre contient l'arete { 2 , 8 }\n",
      "L'arbre contient l'arete { 4 , 6 }\n",
      "L'arbre contient l'arete { 5 , 6 }\n",
      "L'arbre contient l'arete { 6 , 7 }\n",
      "Le poids de total de l'arbre est de :  26.0\n",
      "Poids de l'arbre obtenu avec l'algorithme de Kruskal:  26.0\n",
      "Poids de l'arbre obtenu avec l'algorithme de Prim:  26.0\n"
     ]
    }
   ],
   "source": [
    "#On genere un graphe non oriente connexe a 15 sommets \n",
    "G3 = genGraphe2(10,20,1,10)\n",
    "\n",
    "#Recherche de l'arbre couvrant de poids minimum (ACPM):\n",
    "SolveAndPrint_2(ModelePLNE_2(G3.ar),\"ACPM Exemple graphe connexe aléatoire\")\n",
    "\n",
    "#Solution algorithme de Kruskal :\n",
    "Arbre_K = Kruskal2(G3)\n",
    "Poid_total_K = 0\n",
    "for i in Arbre_K.ar:\n",
    "    for j in Arbre_K.ar[i]:\n",
    "        Poid_total_K += Arbre_K.ar[i][j]\n",
    "Poid_total_K = Poid_total_K/2\n",
    "print(\"Poids de l'arbre obtenu avec l'algorithme de Kruskal: \",Poid_total_K)\n",
    "\n",
    "#Solution algorithme de Prim :\n",
    "Arbre_P = Prim2(G3)\n",
    "Poid_total_P = 0\n",
    "for i in Arbre_P.ar:\n",
    "    for j in Arbre_P.ar[i]:\n",
    "        Poid_total_P += Arbre_P.ar[i][j]\n",
    "Poid_total_P = Poid_total_P/2\n",
    "print(\"Poids de l'arbre obtenu avec l'algorithme de Prim: \",Poid_total_P)"
   ]
  },
  {
   "cell_type": "markdown",
   "metadata": {
    "scrolled": true
   },
   "source": [
    "On remarque que les algorithmes de Prim et de Kruskal fournissent bien le même résultat que le second modèle."
   ]
  },
  {
   "cell_type": "markdown",
   "metadata": {},
   "source": [
    "### 3) Analyse et comparaison des 2 modèles"
   ]
  },
  {
   "cell_type": "markdown",
   "metadata": {},
   "source": [
    "Nous disposons maintenant de 2 modèles PLNE dont les caractéristiques sont les suivantes :\n",
    "\n",
    "*Modèle n°1 :*\n",
    "\n",
    "Pour un graphe $G=(S,A)$ donné en entrée avec $|S|=n$ et $|A|=m$:\n",
    "\n",
    "* Nombre de variables : $m$\n",
    "* Nombre de contraintes :  $2^n-n-\\frac{n(n-1)}{2}-1$\n",
    "\n",
    "*Modèle n°2 :*\n",
    "\n",
    "Pour un graphe $G=(S,A)$ donné en entrée avec $|S|=n$ et $|A|=m$:\n",
    "\n",
    "* Nombre de variables : $2m+2m(n-1)$\n",
    "* Nombre de contraintes :  $2m+(n-1)(n-2)+4(n-1)+1+2(n-1)m$"
   ]
  },
  {
   "cell_type": "markdown",
   "metadata": {},
   "source": [
    "Si par exemple, on ne s'intéresse qu'au nombre de contraintes on remarque que celui-ci va augmenter différemment lorsque l'on augmente la taille du graphe (nombre de sommets et nombre d'arrêtes). Voici par exemple un tableau comparant le nombre de contraintes pour 2 graphes de tailles différentes :"
   ]
  },
  {
   "cell_type": "code",
   "execution_count": 41,
   "metadata": {},
   "outputs": [
    {
     "data": {
      "image/png": "[encoded data removed]",
      "text/plain": [
       "<IPython.core.display.Image object>"
      ]
     },
     "execution_count": 41,
     "metadata": {},
     "output_type": "execute_result"
    }
   ],
   "source": [
    "Image(\"image5.PNG\")"
   ]
  },
  {
   "cell_type": "markdown",
   "metadata": {},
   "source": [
    "On notera que pour de petites valeurs de $n$ et de $m$, le modèle n°1 semble génèrer moins de contraintes que le modèle n°2 mais ce n'est plus le cas lorsque les valeurs de $n$ et de $m$ augmentent. En effet le nombre de contraintes générées par le modèle n°1 semble exploser (à cause du terme $2^n$)."
   ]
  },
  {
   "cell_type": "markdown",
   "metadata": {},
   "source": [
    "Pour illustrer cela, nous allons déterminer l'évolution du temps d'exécution des 2 modèles lorsque le nombre  de sommets $n$ du graphe augmente. Pour cela nous allons générer plusieurs graphes connexes non orientés avec un nombre croissant de sommets et comparer les temps d'exécution des 2 modèles pour trouver l'arbre couvrant de poids mininmum. (Remarque : Si on suppose qu'entre 2 sommets il ne peut y avoir qu'une seule arête alors un graphe contenant $n$ sommets contiendra au plus $n(n-1)/2$ arêtes et il sera alors saturé en arêtes. Lorsque nous génèrerons nos graphes de $n$ sommets, nous fixerons donc le nombre d'arêtes à $n(n-1)/2$ pour que la taille des graphes générés ne dépende plus que d'un paramètre)."
   ]
  },
  {
   "cell_type": "markdown",
   "metadata": {},
   "source": [
    "Tous d'abord, on crée une fonction permettant simplement de résoudre un modèle PLNE sans afficher la solution (afin de ne pas encombrer l'affichage) :"
   ]
  },
  {
   "cell_type": "code",
   "execution_count": 42,
   "metadata": {},
   "outputs": [],
   "source": [
    "def JustSolve(Modele,numero):\n",
    "    Modele.solve(PULP_CBC_CMD())\n",
    "    if(LpStatus[Modele.status] == \"Optimal\"):\n",
    "        print(\"Modele\",numero,\": OK\")"
   ]
  },
  {
   "cell_type": "markdown",
   "metadata": {},
   "source": [
    "On compare ensuite nos 2 modèles. Attention la cellule suivante peut mettre un certain temps à s'exécuter (environ 45 secondes) :"
   ]
  },
  {
   "cell_type": "code",
   "execution_count": 43,
   "metadata": {},
   "outputs": [
    {
     "name": "stdout",
     "output_type": "stream",
     "text": [
      "Iteration 0\n",
      "Modele 1 : OK\n",
      "Modele 2 : OK\n",
      "Iteration 1\n",
      "Modele 1 : OK\n",
      "Modele 2 : OK\n",
      "Iteration 2\n",
      "Modele 1 : OK\n",
      "Modele 2 : OK\n",
      "Iteration 3\n",
      "Modele 1 : OK\n",
      "Modele 2 : OK\n",
      "Iteration 4\n",
      "Modele 1 : OK\n",
      "Modele 2 : OK\n",
      "Iteration 5\n",
      "Modele 1 : OK\n",
      "Modele 2 : OK\n",
      "Iteration 6\n",
      "Modele 1 : OK\n",
      "Modele 2 : OK\n",
      "Iteration 7\n",
      "Modele 1 : OK\n",
      "Modele 2 : OK\n",
      "Iteration 8\n",
      "Modele 1 : OK\n",
      "Modele 2 : OK\n",
      "Iteration 9\n",
      "Modele 1 : OK\n",
      "Modele 2 : OK\n",
      "Temps total d'execution : 16.36545205116272\n"
     ]
    },
    {
     "data": {
      "image/png": "[encoded data removed]",
      "text/plain": [
       "<Figure size 432x288 with 1 Axes>"
      ]
     },
     "metadata": {
      "needs_background": "light"
     },
     "output_type": "display_data"
    }
   ],
   "source": [
    "nTest=[i for i in range(5,15)] #On genere successivement des graphes de 5 a 14 sommets\n",
    "tModele1 = [] #Valeurs du modele 1\n",
    "tModele2 = [] #Valeurs du modele 2\n",
    "T1 = time.time()\n",
    "for i in nTest:\n",
    "    print(\"Iteration\",i-5)\n",
    "    G = genGraphe2(i,int(i*(i-1)/2+1),1,10)\n",
    "    L,P = ConvertirListe(G.ar)\n",
    "    t1 = time.time()\n",
    "    JustSolve(ModelePLNE_1(L,P),1)\n",
    "    t2 = time.time()\n",
    "    tModele1.append(t2-t1)\n",
    "    t1 = time.time()\n",
    "    JustSolve(ModelePLNE_2(G.ar),2)\n",
    "    t2 = time.time()\n",
    "    tModele2.append(t2-t1)\n",
    "T2 = time.time()\n",
    "print(\"Temps total d'execution :\", T2-T1)\n",
    "plt.plot(nTest,tModele1,label=\"Modele1\")\n",
    "plt.plot(nTest,tModele2,label=\"Modele2\")\n",
    "plt.legend()\n",
    "plt.title(\"Comparaison des temps \\n d'execution des 2 modeles\")\n",
    "plt.xlabel(\"nombre de sommets\")\n",
    "plt.ylabel(\"temps d'execution (s)\")\n",
    "plt.show()"
   ]
  },
  {
   "cell_type": "markdown",
   "metadata": {},
   "source": [
    "Sur le graphe affiché précédemment, on remarque que le temps d'exécution du modèle n°1 augmente de plus en plus vite par rapport au temps d'exécution du modèle n°2 ce qui confirme nos hypothèse précédentes. On en déduit qu'il est plus intéressant d'utiliser le second modèle pour des graphes de grande taille. Par exemple, pour des problèmes concrets de grande dimension (installation d'un réseau de type fibre couvrant un certain nombre de villes sur une carte) il sera préférable d'utiliser le modèle n°2. En revanche, pour des graphes de plus petite taille (\\< 10 sommets), on notera que les performances des 2 modèles sont similaires et même que pour des graphes suffisamment petit, le modèle n°1 est plus efficace que le modèle n°2 (cf: exemple du tableau ci-dessus). Ainsi, le choix du modèle dépendra de la taille du problème à traiter. "
   ]
  },
  {
   "cell_type": "markdown",
   "metadata": {},
   "source": [
    "Enfin, nous pouvons comparer les performances du second modèle avec les algorithmes de Prim et Kruskal en comparant leurs temps d'exécution sur des graphes de tailles croissantes."
   ]
  },
  {
   "cell_type": "code",
   "execution_count": 44,
   "metadata": {},
   "outputs": [
    {
     "name": "stdout",
     "output_type": "stream",
     "text": [
      "Iteration 0\n",
      "Modele 2 : OK\n",
      "Iteration 1\n",
      "Modele 2 : OK\n",
      "Iteration 2\n",
      "Modele 2 : OK\n",
      "Iteration 3\n",
      "Modele 2 : OK\n",
      "Iteration 4\n",
      "Modele 2 : OK\n",
      "Iteration 5\n",
      "Modele 2 : OK\n",
      "Iteration 6\n",
      "Modele 2 : OK\n",
      "Iteration 7\n",
      "Modele 2 : OK\n",
      "Iteration 8\n",
      "Modele 2 : OK\n",
      "Iteration 9\n",
      "Modele 2 : OK\n",
      "Iteration 10\n",
      "Modele 2 : OK\n",
      "Iteration 11\n",
      "Modele 2 : OK\n",
      "Iteration 12\n",
      "Modele 2 : OK\n",
      "Iteration 13\n",
      "Modele 2 : OK\n",
      "Iteration 14\n",
      "Modele 2 : OK\n",
      "Temps total d'execution : 9.13602876663208\n"
     ]
    },
    {
     "data": {
      "image/png": "[encoded data removed]",
      "text/plain": [
       "<Figure size 432x288 with 1 Axes>"
      ]
     },
     "metadata": {
      "needs_background": "light"
     },
     "output_type": "display_data"
    }
   ],
   "source": [
    "nTest=[i for i in range(5,20)] #On genere successivement des graphes de 5 a 20 sommets\n",
    "tModele2 = [] #Valeurs du modèle 2\n",
    "tPrim2 = [] #Valeurs Prim2\n",
    "tKruskal2 = [] #Valeurs Kruskal2\n",
    "T1 = time.time()\n",
    "for i in nTest:\n",
    "    print(\"Iteration\",i-5)\n",
    "    G = genGraphe2(i,int(i*(i-1)/2+1),1,10)\n",
    "    t1 = time.time()\n",
    "    JustSolve(ModelePLNE_2(G.ar),2)\n",
    "    t2 = time.time()\n",
    "    tModele2.append(t2-t1)\n",
    "    t1 = time.time()\n",
    "    Arbre_P = Prim2(G)\n",
    "    t2 = time.time()\n",
    "    tPrim2.append(t2-t1)\n",
    "    t1 = time.time()\n",
    "    Arbre_K = Kruskal2(G)\n",
    "    t2 = time.time()\n",
    "    tKruskal2.append(t2-t1)\n",
    "T2 = time.time()\n",
    "print(\"Temps total d'execution :\", T2-T1)\n",
    "plt.plot(nTest,tModele2,label=\"Modele 2\")\n",
    "plt.plot(nTest,tPrim2,label=\"Algorithme de Prim\")\n",
    "plt.plot(nTest,tKruskal2,label=\"Algorithme de Kruskal\")\n",
    "plt.legend()\n",
    "plt.title(\"Comparaison des temps d'execution \\n (Modele n°2, Algorithme de Prim, Algorithme de Kruskal)\")\n",
    "plt.xlabel(\"nombre de sommets\")\n",
    "plt.ylabel(\"temps d'execution (s)\")\n",
    "plt.show()"
   ]
  },
  {
   "cell_type": "markdown",
   "metadata": {},
   "source": [
    "Sur le graphique précédent, on observe que les temps d'exécution des algorithmes de Prim et de Kruskal sont nettement inférieurs au temps d'exécution du modèle n°2 lorsque la taille du graphe à traiter augmente. Ainsi le second modèle est certes performant pour des problèmes de grande taille par rapport au modèle n°1 mais il reste cependant moins efficace que les algorithmes de Prim et Kruskal (Versions optimisées). Ces 3 méthodes permettent toutes d'obtenir une solution exacte au problème mais les algorithmes semblent plus rapides que le modèle n°2, il sera donc plus intéressant d'utiliser l'un des deux algorithmes plutôt qu'un modèle PLNE pour traiter des problèmes concerts de grande taille. Ici les algorithmes sont plus intéressant qu'un modèle PLNE car ils renvoient une solution exacte et possèdent des compléxités polynomiales (voir logarithmiques pour les versions optimisées) mais nous allons voir que dans certains problèmes comme celui de \"l'arbre de Steiner dans les graphes\", il n'existe pas d'algorithme fournissant une solution exacte et ayant une complexité polynomiale. Dans ce genre de problèmes, le modèle PLNE peut devenir cette fois-ci plus intéressant car il devient le seul moyen d'avoir une solution exacte pour des problèmes de grande taille en un temps raisonnable."
   ]
  },
  {
   "cell_type": "markdown",
   "metadata": {},
   "source": [
    "## III) Extension du projet : Le problème de l'arbre de Steiner dans les graphes"
   ]
  },
  {
   "cell_type": "markdown",
   "metadata": {},
   "source": [
    "Le problème de l'arbre de Steiner dans les graphes peut s'écrire de la manière suivante. Soit $G=(S,A)$ un graphe non-orienté connexe et $S'$$\\subset$ $S$ un sous-ensemble de sommets appelés les terminaux (ou le 'groupe'). Chaque arête $\\{i,j\\}$$\\in$$A$ est munie d’un poids $p_{ij}$. On cherche un arbre $T=(S_{T},A_{T})$ couvrant tous les terminaux (autrement dit on doit avoir $S'$$\\subset$$S_{T}$) et de poids minimum.\n",
    "Pour modéliser ce problème, on crée de la même manière que pour le modèle n°2, un graphe orienté $\\bar{G}=(S,\\bar{A})$ tel que $\\forall \\{u,v\\}\\in A$ on ait $(u,v)\\in \\bar{A}$ et $(v,u)\\in \\bar{A}$ (pour chaque arête de $G$, on crée deux arcs de sens inverse dans $\\bar{G}$).\n"
   ]
  },
  {
   "cell_type": "markdown",
   "metadata": {},
   "source": [
    "### 1) Modèle PLNE"
   ]
  },
  {
   "cell_type": "markdown",
   "metadata": {},
   "source": [
    "On utilisera à partir de maintenant les notations définies dans l'introduction précédente. Pour modéliser le problème de l'arbre de Steiner dans les graphes, nous allons également utiliser des flots dans le graphe $\\bar{G}$."
   ]
  },
  {
   "cell_type": "markdown",
   "metadata": {},
   "source": [
    "*Variables :*\n",
    "\n",
    "- $\\forall (i,j) \\in \\bar{A}$, $x_{ij}$ est une variable de décision binaire $(x_{ij} \\in \\{0,1\\})$ et $x_{ij}=1$ si $\\{i,j\\}$ est dans $T$ (On a donc $x_{ij}=x_{ji}$). \n",
    "- On choisit arbitrairement une source parmi les terminaux que l’on note $s$. $\\forall  t \\in S'\\backslash \\{s\\}$ et $\\forall (i,j)\\in \\bar{A}$,  $f_{(i,j)}^t$ est une variable binaire $(f_{(i,j)}^t \\in \\{0,1\\})$ donnant la valeur d’un flot $s-t$ compatible de valeur 1 passant sur l’arc $(i,j)$. $f_{(i,j)}^t=1$ s’il existe un flot  $s-t$ valant 1 passant par $(i,j)$.\n",
    "- $\\forall k \\in S$, $v_k$ est une variable de décision binaire $(v_k \\in \\{0,1\\})$ et $v_k=1$ si le sommet $k$ est dans $T$.\n",
    "\n",
    "*Objectif :*\n",
    "\n",
    "On cherche à minimiser le poids total de $T$ (ici on le divise par 2 car chaque arête est représentée par 2 arcs):\n",
    "\n",
    "$$\\min{\\frac{1}{2}\\sum_{(i,j)\\in \\bar{A}}{p_{ij}x_{ij}}}$$\n",
    "\n",
    "\n",
    "*Contraintes :*\n",
    "\n",
    "- Dans $\\bar{G}$, si on choisit un arc dans un sens alors on prend aussi celui dans l'autre sens : $\\forall i,j \\in S, x_{ij} = x_{ji}$.\n",
    "- Si on choisit un arc alors les sommets aux extrémités de cet arc seront dans $T$ : $\\forall k \\in S$, $   \\forall (v,k) \\in \\delta^{-}(k)$, $x_{vk}\\le{v_k}$ et $\\forall (k,u) \\in \\delta^{+}(k)$, $x_{ku}\\le v_k$.\n",
    "- Pour tous les terminaux $t$ différents de $s$, le flot $s-t$ doit respecter la loi de conservation des flux :\n",
    "\n",
    "$$\\forall t \\in S'\\backslash \\{s\\}, \\forall x \\in S\\backslash \\{s,t\\}, \\sum_{(u,x)\\in \\delta^{-}(x)}{f_{(u,x)}^t} = \\sum_{(x,v)\\in \\delta^{+}(x)}{f_{(x,v)}^t}$$\n",
    "\n",
    "- Pour tous les terminaux $t$ différents de $s$, le flot $s-t$ doit être égal à 1 :\n",
    "\n",
    "$$\\forall t \\in S'\\backslash \\{s\\},  \\sum_{(s,v)\\in \\delta^{+}(s)}{f_{(s,v)}^t} = 1$$\n",
    "\n",
    "$$\\forall t \\in S'\\backslash \\{s\\},  \\sum_{(u,t)\\in \\delta^{-}(t)}{f_{(u,t)}^t} = 1$$\n",
    "\n",
    "- Pour tous les terminaux $t$ différents de $s$, le flot $s-t$ entrant dans $s$ doit être nul :\n",
    "\n",
    "$$\\forall t \\in S'\\backslash \\{s\\},  \\sum_{(u,s)\\in \\delta^{-}(s)}{f_{(u,s)}^t} = 0$$\n",
    "\n",
    "- Pour tous les terminaux $t$ différents de $s$, la flot $s-t$ sortant de $t$ doit être nul :\n",
    "\n",
    "$$\\forall t \\in S'\\backslash \\{s\\},  \\sum_{(t,v)\\in \\delta^{+}(t)}{f_{(t,v)}^t} = 0$$\n",
    "\n",
    "- Si $T$ est connexe alors $T$ est un arbre si et seulement si $|A_T| = |S_T|-1$ :\n",
    "\n",
    "$$\\sum_{(i,j) \\in \\bar{A}}{x_{ij}} = 2 \\times (\\sum_{k\\in S}{v_k}-1)$$\n",
    "\n",
    "- Un flot ne peut valoir 1 sur une arête que si elle est choisie : $\\forall t\\in S'\\backslash \\{s\\}, \\forall (i,j)\\in \\bar{A}, f_{(i,j)}^t \\le x_{i,j}$\n",
    "\n",
    "\n",
    "\n"
   ]
  },
  {
   "cell_type": "markdown",
   "metadata": {},
   "source": [
    "Comme pour le problème de l'arbre couvrant de poids minimum, on crée une fonction chargée de construire le modèle ci-dessus. Elle prendra en argument un double dictionnaire contenant les sommets reliés entre eux en index et les poids des arêtes en valeur ainsi qu'une liste contenant les sommets des terminaux à couvrir. Cette fonction renvoie le modèle non résolu. "
   ]
  },
  {
   "cell_type": "code",
   "execution_count": 45,
   "metadata": {},
   "outputs": [],
   "source": [
    "def ModelePLNE_Steiner(A,terminaux):\n",
    "    #Creation du problème :\n",
    "    prob = LpProblem(\"ACPM\",LpMinimize)\n",
    "    S = list(A.keys()).copy()\n",
    "    n = len(S)\n",
    "    TerminauxSansSource = terminaux\n",
    "    s = TerminauxSansSource.pop(0)\n",
    "    #Variables :\n",
    "    v={}\n",
    "    for i in A.keys():\n",
    "        v[i] = LpVariable(\"v_\"+str(i),0,1,LpInteger)\n",
    "    \n",
    "    x={}\n",
    "    for i in A.keys():\n",
    "        x[i] = {}\n",
    "        for j in A[i].keys():\n",
    "            x[i][j] = LpVariable(\"x_\"+str(i)+\"_\"+str(j),0,1,LpInteger)\n",
    "            \n",
    "    f={}\n",
    "    for i in A.keys():\n",
    "        f[i] = {}\n",
    "        for j in A[i].keys():\n",
    "            f[i][j] = {}\n",
    "            for t in TerminauxSansSource:\n",
    "                f[i][j][t] = LpVariable(\"f_\"+str(i)+\"_\"+str(j)+\"_\"+str(t),0,1,LpInteger)\n",
    "                    \n",
    "            \n",
    "    #Objectif :\n",
    "    prob += 1/2*lpSum([lpSum([x[i][j]*A[i][j] for j in A[i].keys()] for i in A.keys())])\n",
    "\n",
    "    #Contraintes :\n",
    "\n",
    "    for i in A.keys():\n",
    "        for j in A[i].keys():\n",
    "            prob += x[i][j] == x[j][i]\n",
    "            \n",
    "    for t in TerminauxSansSource:\n",
    "        for a in S:\n",
    "            if(a not in [s,t]):\n",
    "                prob += lpSum([f[a][j][t] for j in A[a].keys()]) == lpSum([f[i][a][t] for i in A.keys() if a in list(A[i].keys())])\n",
    "    \n",
    "    for t in TerminauxSansSource:\n",
    "        prob += lpSum([f[s][j][t] for j in A[s].keys()]) == 1\n",
    "        prob += lpSum([f[i][s][t] for i in A.keys() if s in list(A[i].keys())]) == 0\n",
    "    \n",
    "    for t in TerminauxSansSource:\n",
    "        prob += lpSum([f[i][t][t] for i in A.keys() if t in list(A[i].keys())]) == 1\n",
    "        prob += lpSum([f[t][j][t] for j in A[t].keys()]) == 0\n",
    "        \n",
    "    prob += lpSum([lpSum([x[i][j] for j in A[i].keys()]) for i in A.keys()]) == 2*(lpSum([v[i] for i in A.keys()])-1)\n",
    "    \n",
    "    for t in TerminauxSansSource:\n",
    "        for i in A.keys():\n",
    "            for j in A[i].keys():\n",
    "                prob += f[i][j][t] <= x[i][j]\n",
    "    \n",
    "    for i in A.keys():\n",
    "        for j in A[i].keys():\n",
    "            prob += x[i][j] <= v[i]\n",
    "            prob += x[j][i] <= v[j]\n",
    "            \n",
    "    #Retour du probleme :\n",
    "    return(prob)"
   ]
  },
  {
   "cell_type": "markdown",
   "metadata": {},
   "source": [
    "On construit ensuite une fonction permettant de résoudre et d'afficher le problème et sa solution sur le même modèle que celles du problème de l'arbre couvrant de poids minimum. Cette fonction prend en paramètres le modèle, son nom et un indicateur booléen. Si cet indicateur est VRAI, on affichera alors l'intégralité du modèle et en particulier les valeurs de chaque variable. Si il est FAUX, l'affichage ne se limitera qu'aux arêtes contenues dans l'abre final et à la valeur de l'objectif (poids de l'arbre):"
   ]
  },
  {
   "cell_type": "code",
   "execution_count": 46,
   "metadata": {},
   "outputs": [],
   "source": [
    "def SolveAndPrint_Steiner(Modele,name,Affichage_modele=0):\n",
    "    if(Affichage_modele):\n",
    "        #Affichage du modele\n",
    "        Modele.writeLP(name)\n",
    "        print(Modele)\n",
    "        #Resolution:\n",
    "        print(\"Solve with CBC\")\n",
    "        Modele.solve(PULP_CBC_CMD())\n",
    "        print(\"Status :\",LpStatus[Modele.status])\n",
    "        #Affichage de la solution :\n",
    "        print(\"Optimal value =\",value(Modele.objective))\n",
    "        print(\"Optimal solution :\")\n",
    "        for v in Modele.variables():\n",
    "            if(v.varValue != 0):\n",
    "                print(v.name,\"=\",v.varValue)\n",
    "    else:\n",
    "        #Resolution:\n",
    "        print(\"Solve with CBC\")\n",
    "        Modele.solve(PULP_CBC_CMD())\n",
    "        print(\"Status :\",LpStatus[Modele.status])\n",
    "        #Affichage de la solution :\n",
    "        AretesTraites = []\n",
    "        Sommets = []\n",
    "        regexp = re.compile(r\"_(\\w+)_(\\w+)\")\n",
    "        regexp2 = re.compile(r\"v_(\\w+)\")\n",
    "        for v in Modele.variables():\n",
    "            if(v.varValue != 0 and (v.name[0] == 'x' or v.name[0] == 'v')):\n",
    "                result = regexp.search(v.name)\n",
    "                result2 = regexp2.search(v.name)\n",
    "                if result != None:\n",
    "                    i = result.group(1)\n",
    "                    j = result.group(2)\n",
    "                    if([j,i] not in AretesTraites):\n",
    "                        AretesTraites.append([i,j])\n",
    "                if result2 != None:\n",
    "                    Sommets.append((result2.group(1)))\n",
    "        #Affichage du résultat\n",
    "        print(\"RESULTAT :\",name)\n",
    "        for arete in AretesTraites:\n",
    "            print(\"L'arbre de Steiner contient l\\'arête {\",arete[0],\",\",arete[1],\"}\")\n",
    "        print(\"L'arbre de Steiner contient les sommets : \",Sommets)\n",
    "        print('Le poids de total de l\\'arbre est de : ',value(Modele.objective),end=\"\\n\")"
   ]
  },
  {
   "cell_type": "markdown",
   "metadata": {},
   "source": [
    "Nous allons maintenant tester nos fonctions."
   ]
  },
  {
   "cell_type": "markdown",
   "metadata": {},
   "source": [
    "*Exemple n°1 :*"
   ]
  },
  {
   "cell_type": "code",
   "execution_count": 47,
   "metadata": {
    "scrolled": true
   },
   "outputs": [
    {
     "name": "stdout",
     "output_type": "stream",
     "text": [
      "Solve with CBC\n",
      "Status : Optimal\n",
      "RESULTAT : Steiner Exemple 1\n",
      "L'arbre de Steiner contient l'arête { A , E }\n",
      "L'arbre de Steiner contient l'arête { C , D }\n",
      "L'arbre de Steiner contient l'arête { D , E }\n",
      "L'arbre de Steiner contient les sommets :  ['A', 'C', 'D', 'E']\n",
      "Le poids de total de l'arbre est de :  9.0\n"
     ]
    }
   ],
   "source": [
    "#Creation du graphe de depart :\n",
    "G3 = Graphe()\n",
    "G3.ajouterArete('A','B',5)\n",
    "G3.ajouterArete('B','C',2)\n",
    "G3.ajouterArete('C','D',3)\n",
    "G3.ajouterArete('D','E',2)\n",
    "G3.ajouterArete('E','A',4)\n",
    "G3.ajouterArete('E','B',6)\n",
    "G3.ajouterArete('B','D',4)\n",
    "#Creation de l'ensemble des terminaux :\n",
    "Terminaux = ['A','E','C']\n",
    "#Résolution :\n",
    "SolveAndPrint_Steiner(ModelePLNE_Steiner(G3.ar,Terminaux),\"Steiner Exemple 1\")"
   ]
  },
  {
   "cell_type": "markdown",
   "metadata": {},
   "source": [
    "*Exemple n°2 :*\n",
    "\n",
    "Cette fois-ci on génère un graphe aléatoire de 10 sommets. L'ensemble des terminaux sera un ensemble de 5 sommets tirés au hasard parmi les sommets du graphe."
   ]
  },
  {
   "cell_type": "code",
   "execution_count": 48,
   "metadata": {},
   "outputs": [
    {
     "name": "stdout",
     "output_type": "stream",
     "text": [
      "Les terminaux sont : ['3', '5', '1', '9', '7']\n",
      "Solve with CBC\n",
      "Status : Optimal\n",
      "RESULTAT : Steiner Exemple aleatoire\n",
      "L'arbre de Steiner contient l'arête { 1 , 5 }\n",
      "L'arbre de Steiner contient l'arête { 3 , 5 }\n",
      "L'arbre de Steiner contient l'arête { 5 , 7 }\n",
      "L'arbre de Steiner contient l'arête { 7 , 9 }\n",
      "L'arbre de Steiner contient les sommets :  ['1', '3', '5', '7', '9']\n",
      "Le poids de total de l'arbre est de :  15.0\n"
     ]
    }
   ],
   "source": [
    "#Creation du graphe de départ:\n",
    "n = 10\n",
    "G4 = genGraphe2(n,int(n*(n-1)/2+1),1,20)  \n",
    "#Generation aleatoire des terminaux (parmi les sommets du graphe)\n",
    "groupe = random.sample(G4.so,int(n/2)) \n",
    "print(\"Les terminaux sont :\",groupe)\n",
    "#Résolution:\n",
    "SolveAndPrint_Steiner(ModelePLNE_Steiner(G4.ar,groupe),\"Steiner Exemple aleatoire\")"
   ]
  },
  {
   "cell_type": "markdown",
   "metadata": {},
   "source": [
    "Pour vérifier le bon fonctionnement de notre modèle, il y a quelques cas particuliers du problème de l'arbre de Steiner qui coïncident avec des problèmes plus simples et que l'on peut traiter avec des algorithmes de compléxité polynomiale :"
   ]
  },
  {
   "cell_type": "markdown",
   "metadata": {},
   "source": [
    "* Si l'ensemble des terminaux est égal à l'ensemble des sommets du graphe (si $S'=S$) alors trouver l'arbre de Steiner couvrant les terminaux $S'$ revient à chercher l'arbre couvrant de poids minimum. On peut donc générer un graphe aléatoirement de taille fixée et vérifier que notre modèle n°2 (pour l'arbre couvrant de poids minimum) et notre modèle PLNE pour le problème de l'arbre de Steiner renvoient bien les mêmes résultats."
   ]
  },
  {
   "cell_type": "code",
   "execution_count": 49,
   "metadata": {},
   "outputs": [
    {
     "name": "stdout",
     "output_type": "stream",
     "text": [
      "Les terminaux sont: ['1', '2', '3', '4', '5', '6', '7', '8', '9', '10']\n",
      "\n",
      "-----Resolution avec le modele PLNE Steiner:----------\n",
      "\n",
      "Solve with CBC\n",
      "Status : Optimal\n",
      "RESULTAT : Resolution avec le modele STEINER\n",
      "L'arbre de Steiner contient l'arête { 10 , 4 }\n",
      "L'arbre de Steiner contient l'arête { 10 , 7 }\n",
      "L'arbre de Steiner contient l'arête { 1 , 3 }\n",
      "L'arbre de Steiner contient l'arête { 2 , 7 }\n",
      "L'arbre de Steiner contient l'arête { 3 , 5 }\n",
      "L'arbre de Steiner contient l'arête { 5 , 8 }\n",
      "L'arbre de Steiner contient l'arête { 5 , 9 }\n",
      "L'arbre de Steiner contient l'arête { 6 , 8 }\n",
      "L'arbre de Steiner contient l'arête { 7 , 9 }\n",
      "L'arbre de Steiner contient les sommets :  ['1', '10', '2', '3', '4', '5', '6', '7', '8', '9']\n",
      "Le poids de total de l'arbre est de :  35.0\n",
      "\n",
      "-----Resolution avec le modele n°2:-------------------\n",
      "\n",
      "Solve with CBC\n",
      "Status : Optimal\n",
      "L'arbre contient l'arete { 10 , 4 }\n",
      "L'arbre contient l'arete { 10 , 9 }\n",
      "L'arbre contient l'arete { 1 , 3 }\n",
      "L'arbre contient l'arete { 2 , 7 }\n",
      "L'arbre contient l'arete { 3 , 5 }\n",
      "L'arbre contient l'arete { 5 , 8 }\n",
      "L'arbre contient l'arete { 5 , 9 }\n",
      "L'arbre contient l'arete { 6 , 8 }\n",
      "L'arbre contient l'arete { 7 , 9 }\n",
      "Le poids de total de l'arbre est de :  35.0\n"
     ]
    }
   ],
   "source": [
    "#Creation du graphe de depart:\n",
    "n = 10\n",
    "G5 = genGraphe2(n,int(n*(n-1)/2+1),1,20)  \n",
    "#Terminaux\n",
    "groupe = G5.so \n",
    "print(\"Les terminaux sont:\",groupe)\n",
    "#Resolution avec le modele PLNE Steiner:\n",
    "print(\"\\n-----Resolution avec le modele PLNE Steiner:----------\\n\")\n",
    "SolveAndPrint_Steiner(ModelePLNE_Steiner(G5.ar,groupe),\"Resolution avec le modele STEINER\")\n",
    "#Resolution avec le modele n°2:\n",
    "print(\"\\n-----Resolution avec le modele n°2:-------------------\\n\")\n",
    "SolveAndPrint_2(ModelePLNE_2(G5.ar),\"Resolution avec le MODELE n°2\")"
   ]
  },
  {
   "cell_type": "markdown",
   "metadata": {},
   "source": [
    "On retrouve bien le même résultat avec les 2 modèles."
   ]
  },
  {
   "cell_type": "markdown",
   "metadata": {},
   "source": [
    "* Si l'ensemble des terminaux est réduit à seulement 2 sommets $v_1$ et $v_2$. Chercher l'arbre de Steiner couvrant ces sommets revient à chercher la chaîne la plus courte dans le graphe entre ces 2 sommets. Nous allons donc implémenter l'algorithme de Dijkstra (qui nous servira par la suite pour implémenter une méthode heuristique) et comparer les résultats de notre modèle PLNE lorsqu'il n'y a que 2 terminaux avec le résultat renvoyé par l'algorithme de Dijkstra. On notera ici que l'on ne se concentre que sur le cas où les poids de arêtes sont positifs on peut donc bien implémenter l'algorithme de Dijkstra."
   ]
  },
  {
   "cell_type": "code",
   "execution_count": 50,
   "metadata": {},
   "outputs": [],
   "source": [
    "def Dijkstra(G, source):\n",
    "    #Initialisation:\n",
    "    L = {}\n",
    "    predecesseur = {}\n",
    "    for i in G.so:\n",
    "        if(i != source):\n",
    "            L[i] = m.inf\n",
    "    L[source] = 0\n",
    "    M = []\n",
    "    #Boucle:\n",
    "    while len(M) != len(G.so):\n",
    "        minimum = m.inf\n",
    "        s = None\n",
    "        for i in L:\n",
    "            if(L[i]<minimum and i not in M):\n",
    "                minimum = L[i]\n",
    "                s = i    \n",
    "        M.append(s)\n",
    "        for t in G.ar[s]:\n",
    "            if(t not in M):\n",
    "                if(L[s]+G.ar[s][t]<L[t]):\n",
    "                    L[t] = G.ar[s][t] + L[s]\n",
    "                    predecesseur[t] = s\n",
    "    return(L,predecesseur)"
   ]
  },
  {
   "cell_type": "markdown",
   "metadata": {},
   "source": [
    "Notre fonction Dijkstra ci-dessus prend en arguments un graphe et un sommet source à partir duquel on détermine les plus courts chemins (ou chaînes) vers les autres sommets du graphe. Cette fonction renvoie un dictionnaire des plus courts chemins vers chaque sommet et un dictionnaire de prédécesseurs. On crée donc également la fonction *chemin* qui permet de retrouver le plus court chemin (chaîne dans un graphe non orienté) à partir d'un dictionnaire de prédécesseurs."
   ]
  },
  {
   "cell_type": "code",
   "execution_count": 51,
   "metadata": {},
   "outputs": [],
   "source": [
    "def Chemin(depart,arrive,Predecesseur):\n",
    "    Chemin = []\n",
    "    s = arrive\n",
    "    while s != depart:\n",
    "        Chemin.append(s)\n",
    "        s = Predecesseur[s]\n",
    "    Chemin.append(s)\n",
    "    Chemin.reverse()\n",
    "    return(Chemin)"
   ]
  },
  {
   "cell_type": "code",
   "execution_count": 52,
   "metadata": {},
   "outputs": [
    {
     "name": "stdout",
     "output_type": "stream",
     "text": [
      "Les terminaux sont: ['1', '5']\n",
      "\n",
      "-----Resolution avec le modele PLNE Steiner:-------------------------------------------\n",
      "\n",
      "Solve with CBC\n",
      "Status : Optimal\n",
      "RESULTAT : Resolution avec le modèle STEINER\n",
      "L'arbre de Steiner contient l'arête { 1 , 2 }\n",
      "L'arbre de Steiner contient l'arête { 2 , 5 }\n",
      "L'arbre de Steiner contient les sommets :  ['1', '2', '5']\n",
      "Le poids de total de l'arbre est de :  10.0\n",
      "\n",
      "-----Determination de la chaine la plus courte avec l'algorithme de Dijkstra:----------\n",
      "\n",
      "La chaine la plus courte de 1 a 5 dans le graphe est de taille: 10\n",
      "La chaine correspondante est ['1', '2', '5']\n"
     ]
    }
   ],
   "source": [
    "#Creation du graphe de départ:\n",
    "n = 10\n",
    "G6 = genGraphe2(n,n*2,1,20)  \n",
    "#Terminaux\n",
    "groupe = ['1','5'] \n",
    "print(\"Les terminaux sont:\",groupe)\n",
    "#Resolution avec le modèle PLNE Steiner:\n",
    "print(\"\\n-----Resolution avec le modele PLNE Steiner:-------------------------------------------\\n\")\n",
    "SolveAndPrint_Steiner(ModelePLNE_Steiner(G6.ar,groupe),\"Resolution avec le modèle STEINER\")\n",
    "#Comparaison avec l'algorithme de Dijkstra:\n",
    "print(\"\\n-----Determination de la chaine la plus courte avec l'algorithme de Dijkstra:----------\\n\")\n",
    "L,P = Dijkstra(G6,'1')\n",
    "print(\"La chaine la plus courte de 1 a 5 dans le graphe est de taille:\",L['5'])\n",
    "print(\"La chaine correspondante est\",Chemin('1','5',P))"
   ]
  },
  {
   "cell_type": "markdown",
   "metadata": {},
   "source": [
    "On remarque que le poids de l'arbre de Steiner obtenu est bien égal à la longueur de la chaîne la plus courte reliant les 2 sommets. En revanche la chaîne renvoyée par l'algorithme de Dijkstra ne correspond pas forcément à l'arbre de Steiner (en effet, il n'y a pas toujours unicité de la chaine la plus courte)."
   ]
  },
  {
   "cell_type": "markdown",
   "metadata": {},
   "source": [
    "### 2) Implémentation d'une méthode Heuristique"
   ]
  },
  {
   "cell_type": "markdown",
   "metadata": {},
   "source": [
    "Nous allons maintenant implémenter l'algorithme de Takahashi et Matsuyama qui est un algorithme heuristique permettant de trouver une solution approchée de l'arbre de Steiner en un temps raisonnable. Notre modèle PLNE codé précédement fournit une solution exacte au problème contrairement à l'algorithme de Takahashi et Matsuyama. Avec cet algorithme, on s'attends à trouver une solution très proche de celle du modèle PLNE (mais le poids de l'arbre obtenu avec l'algorithme de Takahashi et Matsuyama ne devrait pas être inférieur à celui de l'arbre obtenu avec le modèle PLNE). Il sera intéressant dans un second temps de comparer les performances des 2 méthodes et d'estimer la fiabilité de la méthode heuristique. Le pseudo-code de l'algorithme est le suivant :"
   ]
  },
  {
   "cell_type": "markdown",
   "metadata": {},
   "source": [
    "*Initialisation:*  \n",
    "- Initialiser l'arbre en choisissant arbitrairement un nœud parmis les terminaux.\n",
    "\n",
    "*Jusqu'au dernier noeud des terminaux:* \n",
    "- Calculer les distances des nœuds parmi les terminaux non encore choisis avec l'arbre ainsi obtenu.\n",
    "- Ajouter à l'arbre couvrant le nœud le plus proche (en utilisant le plus court chemin entre le nœud et l'arbre)."
   ]
  },
  {
   "cell_type": "markdown",
   "metadata": {},
   "source": [
    "On utilisera donc l'algorithme de Dijkstra implémenté précédemment."
   ]
  },
  {
   "cell_type": "markdown",
   "metadata": {},
   "source": [
    "On construit maintenant notre algorithme heuristique avec la fonction *SteinerTree* qui prend en arguments un graphe connexe non orienté et une liste de sommets contenant les terminaux. La fonction renvoie un graphe qui est l'arbre de Steiner ainsi que son poids total. "
   ]
  },
  {
   "cell_type": "code",
   "execution_count": 53,
   "metadata": {},
   "outputs": [],
   "source": [
    "def SteinerTree(G,groupe):\n",
    "    T = Graphe()\n",
    "    Poid_total = 0\n",
    "    noeud = groupe.pop(0)\n",
    "    T.ajouterSommet(noeud)\n",
    "    while len(groupe)>0:\n",
    "        Distance_min = m.inf\n",
    "        noeud = None\n",
    "        C = None\n",
    "        for v in groupe:\n",
    "            Longueur, Predecesseurs = Dijkstra(G,v)\n",
    "            for s in T.so:\n",
    "                if(Longueur[s]<Distance_min):\n",
    "                    Distance_min = Longueur[s]\n",
    "                    noeud = v\n",
    "                    C = Chemin(v,s,Predecesseurs)\n",
    "        groupe.remove(noeud)\n",
    "        for i in range(len(C)-1):\n",
    "            T.ajouterArete(C[i],C[i+1],G.ar[C[i]][C[i+1]])\n",
    "            Poid_total += G.ar[C[i]][C[i+1]]\n",
    "    return(T,Poid_total)\n",
    "        "
   ]
  },
  {
   "cell_type": "markdown",
   "metadata": {},
   "source": [
    "Maintenant, on peut tester cet algorithme en comparant son résultat avec celui du modèle PLNE."
   ]
  },
  {
   "cell_type": "code",
   "execution_count": 54,
   "metadata": {},
   "outputs": [
    {
     "name": "stdout",
     "output_type": "stream",
     "text": [
      "Terminaux : ['8', '9', '3', '15', '1', '11', '13', '7']\n",
      "---------PLNE------------\n",
      "Solve with CBC\n",
      "Status : Optimal\n",
      "RESULTAT : Steiner Test 1\n",
      "L'arbre de Steiner contient l'arête { 10 , 11 }\n",
      "L'arbre de Steiner contient l'arête { 10 , 8 }\n",
      "L'arbre de Steiner contient l'arête { 13 , 15 }\n",
      "L'arbre de Steiner contient l'arête { 15 , 1 }\n",
      "L'arbre de Steiner contient l'arête { 15 , 9 }\n",
      "L'arbre de Steiner contient l'arête { 1 , 2 }\n",
      "L'arbre de Steiner contient l'arête { 2 , 3 }\n",
      "L'arbre de Steiner contient l'arête { 7 , 8 }\n",
      "L'arbre de Steiner contient l'arête { 8 , 9 }\n",
      "L'arbre de Steiner contient les sommets :  ['1', '10', '11', '13', '15', '2', '3', '7', '8', '9']\n",
      "Le poids de total de l'arbre est de :  58.0\n",
      "Temps d'execution pour le modèle PLNE : 0.15757989883422852 secondes\n",
      "---------HEURISTIQUE------------\n",
      "Temps d'execution pour l'Heuristique : 0.0020170211791992188 secondes\n",
      "Le poids total de l'arbre est de : 58\n",
      "Temps total d'execution : 0.15959692001342773 secondes\n"
     ]
    }
   ],
   "source": [
    "T1 = time.time()\n",
    "G7 = genGraphe2(15,30,1,20)  \n",
    "gr1 = random.sample(G7.so,8)\n",
    "print('Terminaux :',gr1)\n",
    "gr2 = gr1.copy()\n",
    "print(\"---------PLNE------------\")\n",
    "t1 = time.time()\n",
    "SolveAndPrint_Steiner(ModelePLNE_Steiner(G7.ar,gr1),\"Steiner Test 1\")\n",
    "t2 = time.time()\n",
    "print(\"Temps d'execution pour le modèle PLNE :\",t2-t1,\"secondes\")\n",
    "print(\"---------HEURISTIQUE------------\")\n",
    "t1 = time.time()\n",
    "T,P = SteinerTree(G7,gr2)\n",
    "t2 = time.time()\n",
    "print(\"Temps d'execution pour l'Heuristique :\",t2-t1,\"secondes\")\n",
    "print('Le poids total de l\\'arbre est de :',P)\n",
    "T2 = time.time()\n",
    "print(\"Temps total d'execution :\",T2-T1,\"secondes\")"
   ]
  },
  {
   "cell_type": "markdown",
   "metadata": {},
   "source": [
    "On observe que la plupart du temps, le poids de l'arbre renvoyé par l'algorithme Heuristique est égal au poids de l'arbre renvoyé par le modèle PLNE. Parfois le résultat (le poids de l'arbre) de l'algorithme heuristique est légèrement supérieur à celui du modèle PLNE. En revanche, le temps d'exécution de l'algorithme heuristique est largement inférieur à celui du modèle PLNE. Nous allons préciser ces derniers points par la suite."
   ]
  },
  {
   "cell_type": "markdown",
   "metadata": {},
   "source": [
    "### 3) Analyse et comparaison des 2 méthodes"
   ]
  },
  {
   "cell_type": "markdown",
   "metadata": {},
   "source": [
    "Nous avons remarqué que dans certains cas la méthode heuristique renvoyait un résultat légèrement supérieur au résultat exacte. Nous allons donc essayer de mesurer empiriquement le pourcentage d'erreur de la méthode heuristique. Pour cela, nous allons réaliser 100 simulations successives au cours desquelles nous allons résoudre le problème avec l'algorithme heuristique et avec le modèle PLNE. Sur ces 100 simulations, on comptera le nombre d'erreurs de l'algorithme heuristique. Pour faciliter la résolution du modèle PLNE et ne pas encombrer l'affichage, on crée la fonction suivante qui ne fait que résoudre et afficher l'objectif (sans afficher tout le modèle)."
   ]
  },
  {
   "cell_type": "code",
   "execution_count": 55,
   "metadata": {},
   "outputs": [],
   "source": [
    "def JustSolve(Modele):\n",
    "    Modele.solve(PULP_CBC_CMD())\n",
    "    if(LpStatus[Modele.status] == \"Optimal\"):\n",
    "        print(\"Modèle PLNE OK\")\n",
    "    else:\n",
    "        print(\"Erreur\")\n",
    "    return(value(Modele.objective))"
   ]
  },
  {
   "cell_type": "markdown",
   "metadata": {},
   "source": [
    "On effectue ensuite 100 tests. Pour chaque test, on compare le résultat obtenu (c'est-à-dire le poids minimal obtenu) par l'heuristique avec la solution du PLNE et on compte le nombre de fois où il y a eu une différence."
   ]
  },
  {
   "cell_type": "code",
   "execution_count": 56,
   "metadata": {},
   "outputs": [
    {
     "name": "stdout",
     "output_type": "stream",
     "text": [
      "Test n°: 0\n",
      "Modèle PLNE OK\n",
      "Poids PLNE: 13.0\n",
      "Poids Heuristique: 13\n",
      "Test n°: 1\n",
      "Modèle PLNE OK\n",
      "Poids PLNE: 17.0\n",
      "Poids Heuristique: 17\n",
      "Test n°: 2\n",
      "Modèle PLNE OK\n",
      "Poids PLNE: 16.0\n",
      "Poids Heuristique: 16\n",
      "Test n°: 3\n",
      "Modèle PLNE OK\n",
      "Poids PLNE: 18.0\n",
      "Poids Heuristique: 18\n",
      "Test n°: 4\n",
      "Modèle PLNE OK\n",
      "Poids PLNE: 36.0\n",
      "Poids Heuristique: 37\n",
      "Test n°: 5\n",
      "Modèle PLNE OK\n",
      "Poids PLNE: 24.0\n",
      "Poids Heuristique: 24\n",
      "Test n°: 6\n",
      "Modèle PLNE OK\n",
      "Poids PLNE: 26.0\n",
      "Poids Heuristique: 26\n",
      "Test n°: 7\n",
      "Modèle PLNE OK\n",
      "Poids PLNE: 29.0\n",
      "Poids Heuristique: 29\n",
      "Test n°: 8\n",
      "Modèle PLNE OK\n",
      "Poids PLNE: 18.0\n",
      "Poids Heuristique: 18\n",
      "Test n°: 9\n",
      "Modèle PLNE OK\n",
      "Poids PLNE: 31.0\n",
      "Poids Heuristique: 31\n",
      "Test n°: 10\n",
      "Modèle PLNE OK\n",
      "Poids PLNE: 23.0\n",
      "Poids Heuristique: 23\n",
      "Test n°: 11\n",
      "Modèle PLNE OK\n",
      "Poids PLNE: 10.0\n",
      "Poids Heuristique: 10\n",
      "Test n°: 12\n",
      "Modèle PLNE OK\n",
      "Poids PLNE: 14.0\n",
      "Poids Heuristique: 14\n",
      "Test n°: 13\n",
      "Modèle PLNE OK\n",
      "Poids PLNE: 17.0\n",
      "Poids Heuristique: 17\n",
      "Test n°: 14\n",
      "Modèle PLNE OK\n",
      "Poids PLNE: 11.0\n",
      "Poids Heuristique: 11\n",
      "Test n°: 15\n",
      "Modèle PLNE OK\n",
      "Poids PLNE: 6.0\n",
      "Poids Heuristique: 6\n",
      "Test n°: 16\n",
      "Modèle PLNE OK\n",
      "Poids PLNE: 36.0\n",
      "Poids Heuristique: 36\n",
      "Test n°: 17\n",
      "Modèle PLNE OK\n",
      "Poids PLNE: 27.0\n",
      "Poids Heuristique: 30\n",
      "Test n°: 18\n",
      "Modèle PLNE OK\n",
      "Poids PLNE: 28.0\n",
      "Poids Heuristique: 28\n",
      "Test n°: 19\n",
      "Modèle PLNE OK\n",
      "Poids PLNE: 24.0\n",
      "Poids Heuristique: 24\n",
      "Test n°: 20\n",
      "Modèle PLNE OK\n",
      "Poids PLNE: 21.0\n",
      "Poids Heuristique: 21\n",
      "Test n°: 21\n",
      "Modèle PLNE OK\n",
      "Poids PLNE: 18.0\n",
      "Poids Heuristique: 18\n",
      "Test n°: 22\n",
      "Modèle PLNE OK\n",
      "Poids PLNE: 21.0\n",
      "Poids Heuristique: 21\n",
      "Test n°: 23\n",
      "Modèle PLNE OK\n",
      "Poids PLNE: 21.0\n",
      "Poids Heuristique: 21\n",
      "Test n°: 24\n",
      "Modèle PLNE OK\n",
      "Poids PLNE: 29.0\n",
      "Poids Heuristique: 29\n",
      "Test n°: 25\n",
      "Modèle PLNE OK\n",
      "Poids PLNE: 7.0\n",
      "Poids Heuristique: 7\n",
      "Test n°: 26\n",
      "Modèle PLNE OK\n",
      "Poids PLNE: 8.0\n",
      "Poids Heuristique: 8\n",
      "Test n°: 27\n",
      "Modèle PLNE OK\n",
      "Poids PLNE: 26.0\n",
      "Poids Heuristique: 26\n",
      "Test n°: 28\n",
      "Modèle PLNE OK\n",
      "Poids PLNE: 14.0\n",
      "Poids Heuristique: 14\n",
      "Test n°: 29\n",
      "Modèle PLNE OK\n",
      "Poids PLNE: 23.0\n",
      "Poids Heuristique: 23\n",
      "Test n°: 30\n",
      "Modèle PLNE OK\n",
      "Poids PLNE: 11.0\n",
      "Poids Heuristique: 11\n",
      "Test n°: 31\n",
      "Modèle PLNE OK\n",
      "Poids PLNE: 15.0\n",
      "Poids Heuristique: 15\n",
      "Test n°: 32\n",
      "Modèle PLNE OK\n",
      "Poids PLNE: 23.0\n",
      "Poids Heuristique: 23\n",
      "Test n°: 33\n",
      "Modèle PLNE OK\n",
      "Poids PLNE: 27.0\n",
      "Poids Heuristique: 27\n",
      "Test n°: 34\n",
      "Modèle PLNE OK\n",
      "Poids PLNE: 10.0\n",
      "Poids Heuristique: 10\n",
      "Test n°: 35\n",
      "Modèle PLNE OK\n",
      "Poids PLNE: 25.0\n",
      "Poids Heuristique: 25\n",
      "Test n°: 36\n",
      "Modèle PLNE OK\n",
      "Poids PLNE: 18.0\n",
      "Poids Heuristique: 18\n",
      "Test n°: 37\n",
      "Modèle PLNE OK\n",
      "Poids PLNE: 21.0\n",
      "Poids Heuristique: 21\n",
      "Test n°: 38\n",
      "Modèle PLNE OK\n",
      "Poids PLNE: 20.0\n",
      "Poids Heuristique: 20\n",
      "Test n°: 39\n",
      "Modèle PLNE OK\n",
      "Poids PLNE: 26.0\n",
      "Poids Heuristique: 26\n",
      "Test n°: 40\n",
      "Modèle PLNE OK\n",
      "Poids PLNE: 28.0\n",
      "Poids Heuristique: 28\n",
      "Test n°: 41\n",
      "Modèle PLNE OK\n",
      "Poids PLNE: 17.0\n",
      "Poids Heuristique: 17\n",
      "Test n°: 42\n",
      "Modèle PLNE OK\n",
      "Poids PLNE: 31.0\n",
      "Poids Heuristique: 31\n",
      "Test n°: 43\n",
      "Modèle PLNE OK\n",
      "Poids PLNE: 20.0\n",
      "Poids Heuristique: 20\n",
      "Test n°: 44\n",
      "Modèle PLNE OK\n",
      "Poids PLNE: 24.0\n",
      "Poids Heuristique: 24\n",
      "Test n°: 45\n",
      "Modèle PLNE OK\n",
      "Poids PLNE: 30.0\n",
      "Poids Heuristique: 30\n",
      "Test n°: 46\n",
      "Modèle PLNE OK\n",
      "Poids PLNE: 28.0\n",
      "Poids Heuristique: 28\n",
      "Test n°: 47\n",
      "Modèle PLNE OK\n",
      "Poids PLNE: 26.0\n",
      "Poids Heuristique: 26\n",
      "Test n°: 48\n",
      "Modèle PLNE OK\n",
      "Poids PLNE: 14.0\n",
      "Poids Heuristique: 14\n",
      "Test n°: 49\n",
      "Modèle PLNE OK\n",
      "Poids PLNE: 18.0\n",
      "Poids Heuristique: 18\n",
      "Test n°: 50\n",
      "Modèle PLNE OK\n",
      "Poids PLNE: 20.0\n",
      "Poids Heuristique: 20\n",
      "Test n°: 51\n",
      "Modèle PLNE OK\n",
      "Poids PLNE: 13.0\n",
      "Poids Heuristique: 13\n",
      "Test n°: 52\n",
      "Modèle PLNE OK\n",
      "Poids PLNE: 23.0\n",
      "Poids Heuristique: 23\n",
      "Test n°: 53\n",
      "Modèle PLNE OK\n",
      "Poids PLNE: 15.0\n",
      "Poids Heuristique: 15\n",
      "Test n°: 54\n",
      "Modèle PLNE OK\n",
      "Poids PLNE: 31.0\n",
      "Poids Heuristique: 31\n",
      "Test n°: 55\n",
      "Modèle PLNE OK\n",
      "Poids PLNE: 31.0\n",
      "Poids Heuristique: 31\n",
      "Test n°: 56\n",
      "Modèle PLNE OK\n",
      "Poids PLNE: 19.0\n",
      "Poids Heuristique: 19\n",
      "Test n°: 57\n",
      "Modèle PLNE OK\n",
      "Poids PLNE: 12.0\n",
      "Poids Heuristique: 12\n",
      "Test n°: 58\n",
      "Modèle PLNE OK\n",
      "Poids PLNE: 28.0\n",
      "Poids Heuristique: 28\n",
      "Test n°: 59\n",
      "Modèle PLNE OK\n",
      "Poids PLNE: 5.0\n",
      "Poids Heuristique: 5\n",
      "Test n°: 60\n",
      "Modèle PLNE OK\n",
      "Poids PLNE: 40.0\n",
      "Poids Heuristique: 40\n",
      "Test n°: 61\n",
      "Modèle PLNE OK\n",
      "Poids PLNE: 11.0\n",
      "Poids Heuristique: 11\n",
      "Test n°: 62\n",
      "Modèle PLNE OK\n",
      "Poids PLNE: 9.0\n",
      "Poids Heuristique: 9\n",
      "Test n°: 63\n",
      "Modèle PLNE OK\n",
      "Poids PLNE: 26.0\n",
      "Poids Heuristique: 26\n",
      "Test n°: 64\n",
      "Modèle PLNE OK\n",
      "Poids PLNE: 24.0\n",
      "Poids Heuristique: 24\n",
      "Test n°: 65\n",
      "Modèle PLNE OK\n",
      "Poids PLNE: 34.0\n",
      "Poids Heuristique: 34\n",
      "Test n°: 66\n",
      "Modèle PLNE OK\n",
      "Poids PLNE: 23.0\n",
      "Poids Heuristique: 23\n",
      "Test n°: 67\n",
      "Modèle PLNE OK\n",
      "Poids PLNE: 27.0\n",
      "Poids Heuristique: 29\n",
      "Test n°: 68\n",
      "Modèle PLNE OK\n",
      "Poids PLNE: 14.0\n",
      "Poids Heuristique: 14\n",
      "Test n°: 69\n",
      "Modèle PLNE OK\n",
      "Poids PLNE: 19.0\n",
      "Poids Heuristique: 19\n",
      "Test n°: 70\n",
      "Modèle PLNE OK\n",
      "Poids PLNE: 22.0\n",
      "Poids Heuristique: 22\n",
      "Test n°: 71\n",
      "Modèle PLNE OK\n",
      "Poids PLNE: 10.0\n",
      "Poids Heuristique: 10\n",
      "Test n°: 72\n",
      "Modèle PLNE OK\n",
      "Poids PLNE: 24.0\n",
      "Poids Heuristique: 24\n",
      "Test n°: 73\n",
      "Modèle PLNE OK\n",
      "Poids PLNE: 21.0\n",
      "Poids Heuristique: 21\n",
      "Test n°: 74\n",
      "Modèle PLNE OK\n",
      "Poids PLNE: 17.0\n",
      "Poids Heuristique: 17\n",
      "Test n°: 75\n",
      "Modèle PLNE OK\n",
      "Poids PLNE: 28.0\n",
      "Poids Heuristique: 28\n",
      "Test n°: 76\n",
      "Modèle PLNE OK\n",
      "Poids PLNE: 26.0\n",
      "Poids Heuristique: 26\n",
      "Test n°: 77\n",
      "Modèle PLNE OK\n",
      "Poids PLNE: 24.0\n",
      "Poids Heuristique: 24\n",
      "Test n°: 78\n",
      "Modèle PLNE OK\n",
      "Poids PLNE: 22.0\n",
      "Poids Heuristique: 22\n",
      "Test n°: 79\n",
      "Modèle PLNE OK\n",
      "Poids PLNE: 26.0\n",
      "Poids Heuristique: 26\n",
      "Test n°: 80\n",
      "Modèle PLNE OK\n",
      "Poids PLNE: 23.0\n",
      "Poids Heuristique: 23\n",
      "Test n°: 81\n",
      "Modèle PLNE OK\n",
      "Poids PLNE: 14.0\n",
      "Poids Heuristique: 14\n",
      "Test n°: 82\n",
      "Modèle PLNE OK\n",
      "Poids PLNE: 28.0\n",
      "Poids Heuristique: 28\n",
      "Test n°: 83\n",
      "Modèle PLNE OK\n",
      "Poids PLNE: 13.0\n",
      "Poids Heuristique: 13\n",
      "Test n°: 84\n",
      "Modèle PLNE OK\n",
      "Poids PLNE: 14.0\n",
      "Poids Heuristique: 14\n",
      "Test n°: 85\n",
      "Modèle PLNE OK\n",
      "Poids PLNE: 8.0\n",
      "Poids Heuristique: 8\n",
      "Test n°: 86\n",
      "Modèle PLNE OK\n",
      "Poids PLNE: 20.0\n",
      "Poids Heuristique: 20\n",
      "Test n°: 87\n",
      "Modèle PLNE OK\n",
      "Poids PLNE: 20.0\n",
      "Poids Heuristique: 20\n",
      "Test n°: 88\n",
      "Modèle PLNE OK\n",
      "Poids PLNE: 42.0\n",
      "Poids Heuristique: 42\n",
      "Test n°: 89\n",
      "Modèle PLNE OK\n",
      "Poids PLNE: 13.0\n",
      "Poids Heuristique: 13\n",
      "Test n°: 90\n",
      "Modèle PLNE OK\n",
      "Poids PLNE: 19.0\n",
      "Poids Heuristique: 19\n",
      "Test n°: 91\n",
      "Modèle PLNE OK\n",
      "Poids PLNE: 19.0\n",
      "Poids Heuristique: 19\n",
      "Test n°: 92\n",
      "Modèle PLNE OK\n",
      "Poids PLNE: 26.0\n",
      "Poids Heuristique: 26\n",
      "Test n°: 93\n",
      "Modèle PLNE OK\n",
      "Poids PLNE: 16.0\n",
      "Poids Heuristique: 16\n",
      "Test n°: 94\n",
      "Modèle PLNE OK\n",
      "Poids PLNE: 11.0\n",
      "Poids Heuristique: 11\n",
      "Test n°: 95\n",
      "Modèle PLNE OK\n",
      "Poids PLNE: 14.0\n",
      "Poids Heuristique: 14\n",
      "Test n°: 96\n",
      "Modèle PLNE OK\n",
      "Poids PLNE: 22.0\n",
      "Poids Heuristique: 22\n",
      "Test n°: 97\n",
      "Modèle PLNE OK\n",
      "Poids PLNE: 26.0\n",
      "Poids Heuristique: 26\n",
      "Test n°: 98\n",
      "Modèle PLNE OK\n",
      "Poids PLNE: 21.0\n",
      "Poids Heuristique: 21\n",
      "Test n°: 99\n",
      "Modèle PLNE OK\n",
      "Poids PLNE: 33.0\n",
      "Poids Heuristique: 33\n",
      "Temps total d'execution : 4.680336952209473 secondes\n",
      "Nombre de differences sur 100 tests : 3\n",
      "L'heuristique renvoie le même résultat que le modèle PLNE dans 97 % des cas (Frequence empirique)\n"
     ]
    }
   ],
   "source": [
    "#Attention : Le temps d'execution de cette cellule est assez long (20 secondes environ)\n",
    "difference = 0\n",
    "NbTest = 100\n",
    "T1 = time.time()\n",
    "for test in range(NbTest):\n",
    "    print(\"Test n°:\",test)\n",
    "    G = genGraphe2(10,20,1,20)  \n",
    "    gr1 = random.sample(G.so,3) \n",
    "    gr2 = gr1.copy()\n",
    "    P1 = JustSolve(ModelePLNE_Steiner(G.ar,gr1))\n",
    "    print(\"Poids PLNE:\",P1)\n",
    "    T,P2 = SteinerTree(G,gr2)\n",
    "    print(\"Poids Heuristique:\",P2)\n",
    "    if P1!=P2: difference+=1\n",
    "T2 = time.time()\n",
    "print(\"Temps total d'execution :\",T2-T1,\"secondes\")\n",
    "print(\"Nombre de differences sur\",NbTest,\"tests\",\":\",difference)\n",
    "print(\"L'heuristique renvoie le même résultat que le modèle PLNE dans\",100-difference,\"% des cas (Frequence empirique)\")"
   ]
  },
  {
   "cell_type": "markdown",
   "metadata": {},
   "source": [
    "Sur 100 simulations, pour des graphes de 10 sommets et de 19 arêtes, le nombre de différences observées entre le résultat de l'algorithme heuristique et le modèle PLNE est très faible. Il semblerait cependant que ce nombre de différences varie en fonction du nombre de terminaux. Par exemple, pour la réalisation précédente, il n'y avait que 3 terminaux et on trouve en moyenne (selon les exécutions) que le nombre de différences varie entre 2 et 4."
   ]
  },
  {
   "cell_type": "markdown",
   "metadata": {},
   "source": [
    "Nous avons brievement étudié l'impact du nombre de terminaux sur le nombre de différences observé entre les 2 méthodes. Nous avons fixé la taille des graphes à 10 sommet et 19 arêtes et avons fait varier le nombre de terminaux de 2 à 10. Pour un nombre de terminaux fixé nous avons effectué 10 exécutions d'un jeu de 100 simulations (comme dans la cellule précédente) et effectué la moyenne du nombre de différences sur ces 10 exécutions (afin d'obtenir plus de précision sur la fréquence d'erreur). On obtient les résultats suivants : "
   ]
  },
  {
   "cell_type": "code",
   "execution_count": 57,
   "metadata": {},
   "outputs": [
    {
     "data": {
      "image/png": "[encoded data removed]",
      "text/plain": [
       "<IPython.core.display.Image object>"
      ]
     },
     "execution_count": 57,
     "metadata": {},
     "output_type": "execute_result"
    }
   ],
   "source": [
    "Image(\"image6.PNG\")"
   ]
  },
  {
   "cell_type": "markdown",
   "metadata": {},
   "source": [
    "On notera que la fréquence de succès de l'algorithme est la plus élevée lorsque le nombre de terminaux est soit proche de 2 ou proche du nombre total de sommets. Pour un nombre de terminaux se rapprochant de la moitié du nombre de sommet, la fréquence de réussite de l'algorithme sera la plus faible."
   ]
  },
  {
   "cell_type": "markdown",
   "metadata": {},
   "source": [
    "Nous avons maintenant une idée de la fiabilité de l'algorithme heuristique (pour des graphes à traiter de petite taille). Nous allons enfin comparer le temps d'exécution de cet algorithme avec celui du modèle PLNE lorsque la taille du graphe à traiter augmente. On choisit de faire augmenter le nombre $n$ de sommet et on fixe le nombre d'arêtes à $n(n-1)/2$ et le nombre de terminaux à $\\left\\lfloor\\dfrac{n}{2}\\right\\rfloor$. "
   ]
  },
  {
   "cell_type": "code",
   "execution_count": 58,
   "metadata": {},
   "outputs": [
    {
     "name": "stdout",
     "output_type": "stream",
     "text": [
      "Iteration 0\n",
      "Modèle PLNE OK\n",
      "Iteration 1\n",
      "Modèle PLNE OK\n",
      "Iteration 2\n",
      "Modèle PLNE OK\n",
      "Iteration 3\n",
      "Modèle PLNE OK\n",
      "Iteration 4\n",
      "Modèle PLNE OK\n",
      "Iteration 5\n",
      "Modèle PLNE OK\n",
      "Iteration 6\n",
      "Modèle PLNE OK\n",
      "Iteration 7\n",
      "Modèle PLNE OK\n",
      "Iteration 8\n",
      "Modèle PLNE OK\n",
      "Iteration 9\n",
      "Modèle PLNE OK\n",
      "Iteration 10\n",
      "Modèle PLNE OK\n",
      "Iteration 11\n",
      "Modèle PLNE OK\n",
      "Iteration 12\n",
      "Modèle PLNE OK\n",
      "Iteration 13\n",
      "Modèle PLNE OK\n",
      "Iteration 14\n",
      "Modèle PLNE OK\n",
      "Temps total d'execution : 16.356454133987427\n"
     ]
    },
    {
     "data": {
      "image/png": "[encoded data removed]",
      "text/plain": [
       "<Figure size 432x288 with 1 Axes>"
      ]
     },
     "metadata": {
      "needs_background": "light"
     },
     "output_type": "display_data"
    }
   ],
   "source": [
    "nTest=[i for i in range(5,20)] \n",
    "tModelePLNE = []\n",
    "tAlgorithme = [] \n",
    "T1 = time.time()\n",
    "for i in nTest:\n",
    "    print(\"Iteration\",i-5)\n",
    "    G = genGraphe2(i,int(i*(i-1)/2+1),1,10)\n",
    "    gr1 = random.sample(G.so,int(i/2)) \n",
    "    gr2 = gr1.copy()\n",
    "    t1 = time.time()\n",
    "    JustSolve(ModelePLNE_Steiner(G.ar,gr1))\n",
    "    t2 = time.time()\n",
    "    tModelePLNE.append(t2-t1)\n",
    "    t1 = time.time()\n",
    "    T = SteinerTree(G,gr2)\n",
    "    t2 = time.time()\n",
    "    tAlgorithme.append(t2-t1)\n",
    "T2 = time.time()\n",
    "print(\"Temps total d'execution :\", T2-T1)\n",
    "plt.plot(nTest,tModelePLNE,label=\"Modele PLNE\")\n",
    "plt.plot(nTest,tAlgorithme,label=\"Algorithme heuristique\")\n",
    "plt.legend()\n",
    "plt.title(\"Comparaison des temps \\n d'execution des 2 methodes\")\n",
    "plt.xlabel(\"nombre de sommets\")\n",
    "plt.ylabel(\"temps d'execution (s)\")\n",
    "plt.show()"
   ]
  },
  {
   "cell_type": "markdown",
   "metadata": {},
   "source": [
    "Sur le graphique précédent, on remarque que le temps d'exécution du modèle PLNE croît beaucoup plus vite que celui de l'algorithme heuristique lorsque le nombre de sommets du graphe à traiter augmente. En effet, pour un graphe entré possèdant $n$ sommets, $m$ arêtes et $k$ terminaux, le modèle va générer $n+2 m+2 m (k-1)$ variables et $2 m + (k-1)(n-2) + 4 (k-1) + 1 + 2(k-1)m +4 m $ contraintes."
   ]
  },
  {
   "cell_type": "markdown",
   "metadata": {},
   "source": [
    "On a finalement 2 méthodes pour résoudre le problème de l'arbre de Steiner dans les graphes : un modèle PLNE qui fournit une solution exacte mais dont le temps d'exécution croît fortement lorsque la taille du graphe augmente et un algorithme heuristique fournissant une solution approchée de manière plus rapide. La fréquence de réussite de l'algorithme est relativement bonne (dans nos tests précédent, nous n'avons pas trouvé de fréquence de réussite inférieure à 85%) et même en cas d'erreur, la solution obtenue est très proche de la solution exacte. Le choix d'utilisation de l'une de ces 2 méthodes dans des cas concrets dépendra de la taille des instances à traiter. Pour des graphes de petite taille, on peut utiliser le modèle PLNE et obtenir une solution exacte tandis pour des graphes plus grands on peut utiliser la méthode heuristique pour obtenir une solution en un minimum de temps mais il faudra se satisfaire d'une solution approchée et surtout savoir estimer l'erreur de cette solution.  "
   ]
  },
  {
   "cell_type": "markdown",
   "metadata": {},
   "source": [
    "## Conclusion:"
   ]
  },
  {
   "cell_type": "markdown",
   "metadata": {},
   "source": [
    "Lors de la réalisation de ce projet, nous avons eu l’occasion de développer plusieurs versions de nos algorithmes, afin d’obtenir des algorithmes optimisés et rapides dans leur exécution. Nous avons dû mettre en place différentes techniques pour cette optimisation, comme réduire le nombre de boucles internes des fonctions, ou utiliser des modules externes. En testant avec un grand nombre d’exemples tirés du cours ou générés aléatoirement, nous avons su mettre en évidence les complexités des algorithmes de Prim et de Krustal telles que démontrées dans le cours.\n",
    "\n",
    "En utilisant les différents modèles de PLNE, nous avons su modéliser le problème de l’arbre couvrant de poids minimum avec PuLP. Cela nous a permis de minimiser sous forme linéaire ce problème et de pouvoir le résoudre avec des algorithmes très efficaces développés en programmation linaire. Cette approche était très intéressante car différente de la programmation plus classique à laquelle nous nous sommes livrés au travers des algorithmes de Krustal et de Prim.\n",
    "\n",
    "Enfin, en travaillant sur le problème des arbres de Steiner, nous avons pu dépasser le problème de l’arbre couvrant de poids minimum et nous intéresser à un problème plus complexe et avec des contraintes différentes. Cela nous a obligé à nous documenter sur le sujet, à trouver des articles et rapports sur le sujet, afin de bien assimiler le problème et ses conséquences sur sa programmation en PLNE. L’implémentation d’une méthode heuristique (modèle de Takahashi et Matsuyama) et sa comparaison avec la formulation PLNE nous a permis de tester les limites et les différences en temps de calcul de deux approches différentes. Les méthodes heuristiques fournissent une approximation du résultat mais qui peut être suffisamment intéressante dans le cas d’un grand nombre de données (ici de nœuds et d’arrêtes). \n",
    "\n",
    "\n",
    "Au cours de la réalisation de ce projet, nous avons rencontré quelques difficultés et avons dû faire certains choix qui ont influencé la réalisation entière du projet. Parmi eux, la classe Graphe que nous avions décidé de créer était trop générique et rendait la complexité beaucoup plus importante ; nous obligeant à la redéfinir complètement. On peut aussi mentionner la difficulté que nous avons eu à retrouver la complexité théorique des deux algorithmes. En effet, il n’était pas évident de trouver les paramètres sur lesquels jouer pour réduire la complexité et la rendre cohérente avec la théorie.\n",
    "\n",
    "On pourrait mentionner, comme pistes d’améliorations possibles à suivre, l’utilisation d’autres méthodes heuristiques dans la programmation du problème des arbres de Steiner dans les graphes. Cela permettrait d’avoir une meilleure idée de la différence de temps d’exécution et de fiabilité de ce genre de méthodes (Takahashi et Matsuyama semble être une bonne méthode mais d’autres existent). Une autre piste d’amélioration est la réduction de la complexité de l’algorithme de Prim par l’utilisation des tas de Fibonacci dans sa programmation (alors que la version la plus optimisée de cet algorithme utilise les tas-min binaires).\n"
   ]
  }
 ],
 "metadata": {
  "kernelspec": {
   "display_name": "Python 3",
   "language": "python",
   "name": "python3"
  },
  "language_info": {
   "codemirror_mode": {
    "name": "ipython",
    "version": 3
   },
   "file_extension": ".py",
   "mimetype": "text/x-python",
   "name": "python",
   "nbconvert_exporter": "python",
   "pygments_lexer": "ipython3",
   "version": "3.7.4"
  }
 },
 "nbformat": 4,
 "nbformat_minor": 2
}
