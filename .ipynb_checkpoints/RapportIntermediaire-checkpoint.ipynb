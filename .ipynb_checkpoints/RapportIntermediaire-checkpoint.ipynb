{
 "cells": [
  {
   "cell_type": "raw",
   "metadata": {},
   "source": []
  },
  {
   "cell_type": "raw",
   "metadata": {},
   "source": [
    "On importe les modules dont on a beosoin pour ce projet"
   ]
  },
  {
   "cell_type": "code",
   "execution_count": 119,
   "metadata": {},
   "outputs": [],
   "source": [
    "import random\n",
    "import time"
   ]
  },
  {
   "cell_type": "raw",
   "metadata": {},
   "source": [
    "Tout d'abord, nous venons contruire une classe graphe qu'on utilisera par la suite :"
   ]
  },
  {
   "cell_type": "code",
   "execution_count": 91,
   "metadata": {},
   "outputs": [],
   "source": [
    "class Graphe():\n",
    "    \n",
    "    def __init__(self):\n",
    "        self.nbS = 0 #nombre de Sommet du Graphe\n",
    "        self.nbA = 0 #nombre d'Arretes du Graphe\n",
    "        self.so= [] #liste des différents sommets\n",
    "        self.ar= {} #dictionnaire contenant les arretes\n",
    "  \n",
    "    #Methode pour rajouter un sommet au graphe      \n",
    "    def ajouterSommet(self,nom,impress=1):\n",
    "        if(nom not in self.so):   #On teste si le nom du sommet n'existe pas deja\n",
    "            self.nbS=self.nbS+1;\n",
    "            self.so.append(nom)\n",
    "            self.ar[nom]={}\n",
    "        else:\n",
    "            if(impress==1):\n",
    "                print(\"Warning : Il existe deja un sommet avec ce nom !\")\n",
    "    \n",
    "    #Methode pour rajouter une arrête au graphe\n",
    "    def ajouterArrete(self,depart,arrivee,val):\n",
    "         #on ajoute les 2 sommets si il n'existent pas\n",
    "        self.ajouterSommet(depart,0)  \n",
    "        self.ajouterSommet(arrivee,0)\n",
    "        #si il n'y a pas d'arc reliant deja les 2 sommets,\n",
    "        # on vient initialiser une liste qui va contenir la valeur des arcs\n",
    "        if(arrivee not in self.ar[depart].keys()): \n",
    "            self.ar[depart][arrivee]=[]\n",
    "        if(depart not in self.ar[arrivee].keys()):\n",
    "            self.ar[arrivee][depart]=[]\n",
    "        #On rajoute l'arc et on augmente le nombre d'arc de 1\n",
    "        self.ar[depart][arrivee].append(val)\n",
    "        self.ar[arrivee][depart].append(val)\n",
    "        self.nbA+=1\n",
    "\n",
    "    #Creation de la liste des arrêtes trié par ordre croissant    \n",
    "    def minArrete(self):\n",
    "        minimum=[]\n",
    "        #Remplissage de la liste avec toutes les arrêtes\n",
    "        for key1 in self.ar.keys():\n",
    "            for key2 in self.ar[key1].keys():\n",
    "                for val in self.ar[key1][key2]:\n",
    "                    if([key2,key1,val] not in minimum):\n",
    "                        minimum.append([key1,key2,val])\n",
    "        #On vient ne garder qu'une copie de chaque arc(suppression des doublons)\n",
    "        #supprimer ligne inf\n",
    "        #minimum=[arc for arc in minimum if  [arc[1],arc[0],arc[2]] not in minimum[0:minimum.index([arc[0],arc[1],arc[2]])] ]\n",
    "        #On trie la liste par ordre croissant avec la valeur de l'arc\n",
    "        minimum = sorted(minimum, key= lambda x : x[2])\n",
    "        return(minimum)\n",
    "        \n",
    "    #Supression d'une arrête\n",
    "    def enleverArrete(self,depart,arrivee,val):\n",
    "        #Test pour savoir si l'arc existe\n",
    "        if(not(depart in self.ar.keys() and arrivee in self.ar[depart].keys() and val in self.ar[depart][arrivee])):\n",
    "            print(\"Cette arrête n'existe pas !\")\n",
    "            return(False)\n",
    "        #On retire l'arc\n",
    "        self.ar[depart][arrivee].remove(val)\n",
    "        self.ar[arrivee][depart].remove(val)\n",
    "        self.nbA-=1\n",
    "        #Si il n'y a plus d'arc entre ces 2 sommets, on vient supprimer la liste\n",
    "        if(len(self.ar[depart][arrivee])==0):\n",
    "            del(self.ar[depart][arrivee]) \n",
    "        if(len(self.ar[arrivee][depart])==0):\n",
    "            del(self.ar[arrivee][depart])\n",
    "        return(True)"
   ]
  },
  {
   "cell_type": "raw",
   "metadata": {},
   "source": [
    "On vient ensuite implémenter l'algorithme de Prim :"
   ]
  },
  {
   "cell_type": "code",
   "execution_count": 92,
   "metadata": {},
   "outputs": [],
   "source": [
    "def Prim(G):\n",
    "    #Creation de l'Arbre Couvrant de poids minimal\n",
    "    Gfinal=Graphe()\n",
    "    #Choix d'un sommet aléatoire qu'on rajoute à l'arbre\n",
    "    choice=random.choice(G.so)\n",
    "    Gfinal.ajouterSommet(choice)\n",
    "    #Creation de la liste des arrêtes triés dans l'ordre croissant\n",
    "    arTrie=G.minArrete()\n",
    "    for i in range(1,G.nbS):\n",
    "        find=False   #Variable indiquant si l'arc respectant les conditions a été trouvé\n",
    "        j=0\n",
    "        while j < len(arTrie) and find == False :\n",
    "            if( (( arTrie[j][0] in Gfinal.so) and  not ( arTrie[j][1] in Gfinal.so )) or (( arTrie[j][1] in Gfinal.so) and  not ( arTrie[j][0] in Gfinal.so )) ):\n",
    "                Gfinal.ajouterArrete(arTrie[j][0],arTrie[j][1],arTrie[j][2]) #On ajoute l'arc à l'abre\n",
    "                #On supprime l'arc de la liste\n",
    "                del(arTrie[j])  \n",
    "                find=True\n",
    "            j+=1\n",
    "    return(Gfinal)"
   ]
  },
  {
   "cell_type": "raw",
   "metadata": {},
   "source": [
    "On vient tester notre Algorithme de Prim sur l'exemple de cours"
   ]
  },
  {
   "cell_type": "code",
   "execution_count": 126,
   "metadata": {},
   "outputs": [
    {
     "name": "stdout",
     "output_type": "stream",
     "text": [
      "Le temps d'execution est de 0.0.\n",
      "[['C', 'B', 2], ['D', 'E', 2], ['C', 'D', 3], ['E', 'A', 4]]\n"
     ]
    }
   ],
   "source": [
    "G1=Graphe()\n",
    "G1.ajouterSommet(\"A\")\n",
    "G1.ajouterSommet(\"B\")\n",
    "G1.ajouterArrete(\"A\",\"B\",5)\n",
    "G1.ajouterArrete(\"A\",\"E\",4)\n",
    "G1.ajouterArrete(\"E\",\"B\",6)\n",
    "G1.ajouterArrete(\"E\",\"D\",2)\n",
    "G1.ajouterArrete(\"B\",\"D\",4)\n",
    "G1.ajouterArrete(\"B\",\"C\",2)\n",
    "G1.ajouterArrete(\"D\",\"C\",3)\n",
    "t1=time.time()\n",
    "arbre=Prim(G1)\n",
    "t2=time.time()\n",
    "print(f\"Le temps d'execution est de {t2-t1}.\")\n",
    "ls=arbre.minArrete()\n",
    "print(ls)"
   ]
  },
  {
   "cell_type": "raw",
   "metadata": {},
   "source": [
    "On implémente maintenant l'algorithme de Kruskal et avant cela un algorithme afin de detecter les circuits :"
   ]
  },
  {
   "cell_type": "code",
   "execution_count": 97,
   "metadata": {},
   "outputs": [],
   "source": [
    "def detectionCycle(G):\n",
    "    #Couleur des sommets(w : pas visite, g : visité, n visité avec que des successeurs noirs)\n",
    "    color={s : \"w\" for s in G.so}  \n",
    "    while(any([c==\"w\" for c in color.values()])):\n",
    "        #On choisit un sommet aléatoire non traité\n",
    "        rand=random.choice([sommet for sommet in G.so if color[sommet]==\"w\"]) \n",
    "        pile=[rand] #on le rajoute dans la pile\n",
    "        prec=\"\" #on garde en mémoire le sommet precédent \n",
    "        while(len(pile)>=1):\n",
    "            s=pile.pop()  #on traite le premier sommet de la pile\n",
    "            color[s]=\"g\"\n",
    "            #compteur qui permet de déterminer les sommets qui n'ont pas de succeseurs\n",
    "            #(0 : pas de succeseur , >=1 plusieurs succeseurs)\n",
    "            cpt=0 \n",
    "            if(s in G.ar.keys()):\n",
    "                for j in G.ar[s].keys():\n",
    "                    #si on rencontre un sommet gris qui n'est pas le sommet précédent , \n",
    "                    #alors il y a un cycle\n",
    "                    if(color[j]==\"g\" and not (j==prec)):   \n",
    "                        return(True)\n",
    "                    #si le sommet n a pas encore été visite on l'ajoute à la pile\n",
    "                    if(color[j]==\"w\"):  \n",
    "                        pile.append(j)\n",
    "                        cpt+=1\n",
    "            prec=s\n",
    "            if(cpt==0):\n",
    "                #si le sommet n'a plus de succeseur, voir fct colorier_noir\n",
    "                colorier_noir(G,s,color)  \n",
    "    return(False)\n",
    "    \n",
    "    #Fonction auxilaire de la fonction detection de cycle\n",
    "def colorier_noir(G,sommet,color):\n",
    "    color[sommet]=\"b\"  #on colorie en noir, le sommet qui n'a pas de succeseur\n",
    "    for i in G.ar.keys():\n",
    "        if(color[i] != \"b\"):\n",
    "            if sommet in G.ar[i].keys():\n",
    "                if(all([color[j]==\"b\" for j in G.ar[i].keys() if not (i  in G.ar[j].keys()) ])):\n",
    "                    colorier_noir(G,i,color) # si tous ces successeurs sont noirs, alors on le colorie en noir"
   ]
  },
  {
   "cell_type": "raw",
   "metadata": {},
   "source": [
    "Puis on implémente Kruskal :"
   ]
  },
  {
   "cell_type": "code",
   "execution_count": 98,
   "metadata": {},
   "outputs": [],
   "source": [
    "def Kruskal(G):\n",
    "    #Creation de la liste des Arc Triés\n",
    "    arretetrie=G.minArrete()\n",
    "    #On crée l'arbre qu'on va retourner à la fin\n",
    "    Garbre=Graphe()\n",
    "    #On y ajoute tous les sommets\n",
    "    for sommet in G.so:\n",
    "        Garbre.ajouterSommet(sommet)\n",
    "    #Tant que l'arbre a moins de n-1 arc, on ajoute des arcs\n",
    "    while(Garbre.nbA<Garbre.nbS-1):\n",
    "        #On prend le premier arc de la liste\n",
    "        arc=arretetrie[0]\n",
    "        #Si il ne crée pas de cycle, on l'ajoute, sinon on le supprime\n",
    "        Garbre.ajouterArrete(arc[0],arc[1],arc[2])\n",
    "        if(detectionCycle(Garbre)):\n",
    "            Garbre.enleverArrete(arc[0],arc[1],arc[2])\n",
    "        del(arretetrie[0])\n",
    "        ###del(arretetrie[arretetrie.index([arc[1],arc[0],arc[2]])]) (à supprimer je pense)\n",
    "    return(Garbre)"
   ]
  },
  {
   "cell_type": "raw",
   "metadata": {},
   "source": [
    "On teste l'algorithme :"
   ]
  },
  {
   "cell_type": "code",
   "execution_count": 146,
   "metadata": {},
   "outputs": [
    {
     "name": "stdout",
     "output_type": "stream",
     "text": [
      "Le temps d'execution est de 0.000997781753540039.\n",
      "[['B', 'C', 2], ['E', 'D', 2], ['D', 'C', 3], ['A', 'E', 4]]\n"
     ]
    }
   ],
   "source": [
    "G1=Graphe()\n",
    "G1.ajouterSommet(\"A\")\n",
    "G1.ajouterSommet(\"B\")\n",
    "G1.ajouterArrete(\"A\",\"B\",5)\n",
    "G1.ajouterArrete(\"A\",\"E\",4)\n",
    "G1.ajouterArrete(\"E\",\"B\",6)\n",
    "G1.ajouterArrete(\"E\",\"D\",2)\n",
    "G1.ajouterArrete(\"B\",\"D\",4)\n",
    "G1.ajouterArrete(\"B\",\"C\",2)\n",
    "G1.ajouterArrete(\"D\",\"C\",3)\n",
    "t1=time.time()\n",
    "arbre=Kruskal(G1)\n",
    "t2=time.time()\n",
    "print(f\"Le temps d'execution est de {t2-t1}.\")\n",
    "ls=arbre.minArrete()\n",
    "print(ls)"
   ]
  },
  {
   "cell_type": "code",
   "execution_count": 106,
   "metadata": {},
   "outputs": [
    {
     "data": {
      "text/plain": [
       "[['B', 'C', 2],\n",
       " ['E', 'D', 2],\n",
       " ['D', 'C', 3],\n",
       " ['A', 'E', 4],\n",
       " ['B', 'D', 4],\n",
       " ['A', 'B', 5],\n",
       " ['B', 'E', 6]]"
      ]
     },
     "execution_count": 106,
     "metadata": {},
     "output_type": "execute_result"
    }
   ],
   "source": [
    "G1.minArrete()"
   ]
  }
 ],
 "metadata": {
  "kernelspec": {
   "display_name": "Python 3",
   "language": "python",
   "name": "python3"
  },
  "language_info": {
   "codemirror_mode": {
    "name": "ipython",
    "version": 3
   },
   "file_extension": ".py",
   "mimetype": "text/x-python",
   "name": "python",
   "nbconvert_exporter": "python",
   "pygments_lexer": "ipython3",
   "version": "3.7.4"
  }
 },
 "nbformat": 4,
 "nbformat_minor": 2
}
